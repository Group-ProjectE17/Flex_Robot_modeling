{
  "nbformat": 4,
  "nbformat_minor": 0,
  "metadata": {
    "colab": {
      "provenance": [],
      "collapsed_sections": [
        "UnFdJmm9rNGi",
        "kVdCVo5DsrFP",
        "_0JItGySuwFX",
        "bDlx5V2Swzx-",
        "58M75o0XGUix",
        "cmONu4rqH-fb",
        "0BokwTyBIKxb",
        "lj48huD3vpyf",
        "jYpsqGihy4cI"
      ],
      "authorship_tag": "ABX9TyMJPY/O+15a1EWGc85y6Rp2",
      "include_colab_link": true
    },
    "kernelspec": {
      "name": "python3",
      "display_name": "Python 3"
    },
    "language_info": {
      "name": "python"
    }
  },
  "cells": [
    {
      "cell_type": "markdown",
      "metadata": {
        "id": "view-in-github",
        "colab_type": "text"
      },
      "source": [
        "<a href=\"https://colab.research.google.com/github/Group-ProjectE17/Flex_Robot_modeling/blob/main/Flex_Robot_Modeling_3_.ipynb\" target=\"_parent\"><img src=\"https://colab.research.google.com/assets/colab-badge.svg\" alt=\"Open In Colab\"/></a>"
      ]
    },
    {
      "cell_type": "markdown",
      "source": [
        "#Setup"
      ],
      "metadata": {
        "id": "UnFdJmm9rNGi"
      }
    },
    {
      "cell_type": "markdown",
      "source": [
        "##Initilizations"
      ],
      "metadata": {
        "id": "kVdCVo5DsrFP"
      }
    },
    {
      "cell_type": "code",
      "source": [
        "import numpy as np\n",
        "from itertools import combinations\n",
        "from datetime import datetime, timedelta\n",
        "#import datefinder\n",
        "import pandas as pd\n",
        "import string\n",
        "import os\n",
        "import os.path\n",
        "import uuid\n",
        "import random\n",
        "from pprint import pprint\n",
        "import json\n",
        "import csv\n",
        "import plotly.graph_objects as go\n",
        "import plotly.express as px\n",
        "from plotly.subplots import make_subplots\n",
        "from numpy import linalg as lin\n",
        "from sklearn import datasets\n",
        "import sklearn\n",
        "from sklearn.mixture import GaussianMixture\n",
        "import smtplib\n",
        "from sklearn.model_selection import train_test_split\n",
        "import sklearn\n",
        "from sklearn import linear_model\n",
        "from sklearn.decomposition import PCA\n",
        "from sklearn.metrics import r2_score\n",
        "import numpy as np\n",
        "from itertools import combinations\n",
        "from datetime import datetime, timedelta\n",
        "#import datefinder\n",
        "import pandas as pd\n",
        "import string\n",
        "import os\n",
        "import os.path\n",
        "import uuid\n",
        "import random\n",
        "from pprint import pprint\n",
        "import json\n",
        "import csv\n",
        "import plotly.graph_objects as go\n",
        "import plotly.express as px\n",
        "from plotly.subplots import make_subplots\n",
        "from numpy import linalg as lin\n",
        "from sklearn import datasets\n",
        "import sklearn\n",
        "from sklearn.mixture import GaussianMixture\n",
        "import smtplib\n",
        "from sklearn.mixture import GaussianMixture\n",
        "from sklearn import linear_model\n",
        "from sklearn.metrics import r2_score\n",
        "from sklearn.model_selection import train_test_split\n",
        "from sklearn.feature_selection import r_regression\n",
        "from sklearn.preprocessing import PolynomialFeatures\n",
        "import plotly.figure_factory as ff\n",
        "from sklearn.tree import DecisionTreeRegressor\n",
        "from sklearn.model_selection import train_test_split\n",
        "from sklearn.metrics import mean_squared_error\n",
        "\n",
        "\n",
        "from google.colab import drive\n",
        "drive.mount('/content/drive')"
      ],
      "metadata": {
        "colab": {
          "base_uri": "https://localhost:8080/"
        },
        "id": "3OcQFsaQtFW6",
        "outputId": "969976be-a162-457b-95c9-d780ceb4a789"
      },
      "execution_count": 1,
      "outputs": [
        {
          "output_type": "stream",
          "name": "stdout",
          "text": [
            "Mounted at /content/drive\n"
          ]
        }
      ]
    },
    {
      "cell_type": "markdown",
      "source": [
        "##Function definitions"
      ],
      "metadata": {
        "id": "7eNCjbgpsxN_"
      }
    },
    {
      "cell_type": "markdown",
      "source": [
        "###Data analysis by Dr Maithreepaa"
      ],
      "metadata": {
        "id": "sXhHAkf0t6dZ"
      }
    },
    {
      "cell_type": "code",
      "source": [
        "class mugas_data_analysis:\n",
        "   \n",
        "\n",
        "  \n",
        "  \n",
        "    def principle_component_values(self, modelDF, predictDF, nnPCs):\n",
        "        tempModelDataPDF=modelDF.copy();\n",
        "        tempPredictDataPDF=predictDF.copy();\n",
        "        #nnPCs=min(len(tempModelDataPDF.index.values),len(tempModelDataPDF.columns));\n",
        "        #nnPCs='mle'\n",
        "        pca=sklearn.decomposition.PCA(n_components=nnPCs);\n",
        "        modelnumPCA=pca.fit_transform(tempModelDataPDF);\n",
        "        PCweights=pca.singular_values_;\n",
        "        PCAmodelScore=pca.score(tempModelDataPDF);\n",
        "        PCAmeans=pca.mean_\n",
        "        predictnumPCA=pca.transform(tempPredictDataPDF);\n",
        "        PCApredictScore=pca.score(tempPredictDataPDF);\n",
        "        #scaling=sklearn.preprocessing.StandardScaler().fit(pd.DataFrame(numPCA));\n",
        "        #scaledPCA=scaling.transform(numPCA);\n",
        "        transformer = sklearn.decomposition.FactorAnalysis(n_components=nnPCs); # n_components=nnPCs, random_state=0);\n",
        "        modelsvdFactor = transformer.fit_transform(tempModelDataPDF);\n",
        "        FactorSVDmeans=transformer.mean_\n",
        "        svdFactormodelScore=transformer.score(tempModelDataPDF);\n",
        "        predictsvdFactor = transformer.transform(tempPredictDataPDF);\n",
        "        svdFactorpredictScore=transformer.score(tempPredictDataPDF);\n",
        "    \n",
        "\n",
        "        traceNames=[];\n",
        "        for nn in range(len(PCweights)):\n",
        "            traceNames+=['P'+str(nn)];\n",
        "\n",
        "        mindex=tempModelDataPDF.index.values;\n",
        "        pindex=tempPredictDataPDF.index.values;\n",
        "        #figFactor=self.hist_plot(PPFactor.T,histBinSize, binRange, traceNames,'Distributions of the PC Factors','PC Factors','Frequency')\n",
        "        pcaOutput={'PCAmeans':PCAmeans,'FactorSVDmeans':FactorSVDmeans,'traceNames':traceNames, 'fitScores': {'PCApredictScore':PCApredictScore, 'PCAmodelScore':PCAmodelScore, 'svdFactormodelScore':svdFactormodelScore, 'svdFactorpredictScore':svdFactorpredictScore}, 'PCweights':PCweights, 'modelnumPCA':pd.DataFrame(modelnumPCA,index=mindex),'predictnumPCA':pd.DataFrame(predictnumPCA,index=pindex), 'modelsvdFactor':pd.DataFrame(modelsvdFactor,index=mindex),  'predictsvdFactor':pd.DataFrame(predictsvdFactor,index=pindex)}\n",
        "        return pcaOutput\n",
        "\n",
        "    def gmm_data_model(self, mData, nClusters):\n",
        "        #mData - numeric centered np array of shape (ndata,nfactors)\n",
        "\n",
        "        gmm = sklearn.mixture.GaussianMixture(n_components = nClusters)\n",
        "        gmm.fit(mData)\n",
        "        labels = gmm.predict(mData)\n",
        "        clusterIC=[gmm.aic(mData), gmm.bic(mData)]\n",
        "        print(clusterIC)\n",
        "        fig1=md.scatter_plot3D(mData[:,0],mData[:,1],mData[:,2],labels)\n",
        "\n",
        "        return {'gmm':gmm, 'clusterIC':clusterIC}\n",
        "\n",
        "\n",
        "    def gmm_data_classifier(self, model_DataPDF, predict_DataPDF,nClusters):\n",
        "        modelDataPDF0=model_DataPDF.copy();\n",
        "        predictDataPDF0=predict_DataPDF.copy();\n",
        "        modelData=modelDataPDF0.to_numpy();\n",
        "        predictData=predictDataPDF0.to_numpy();\n",
        "        nPCs=modelData.shape[1]\n",
        "        #print([modelPCA[n].shape,predictPCA[n].shape])\n",
        "        fitGMM=self.gmm_data_model(modelData,nClusters)\n",
        "        gmm=fitGMM['gmm'];\n",
        "\n",
        "        #Plabels=[];\n",
        "        #for nn in range(nPCs):\n",
        "        #    Plabels+=['PF'+str(nn)]\n",
        "\n",
        "        mLabels = gmm.predict(modelData)\n",
        "        #modelFitScore=gmm.score(modelData);\n",
        "        modelDist={'Model Mean':gmm.means_, 'Model Covaraince':gmm.covariances_};\n",
        "        modelSampleFitScore=gmm.score_samples(modelData);\n",
        "        modelDataPDF0['labels']=mLabels\n",
        "        modelDataPDF0['Fit Score']=modelSampleFitScore;\n",
        "\n",
        "        pLabels = gmm.predict(predictData)\n",
        "        #predictFitScore=gmm.score(predictData);\n",
        "        predictProbDist=gmm.predict_proba(predictData);\n",
        "        predictSampleFitScore=gmm.score_samples(predictData);\n",
        "\n",
        "        predictDataPDF0['labels']=pLabels\n",
        "        predictDataPDF0['Fit Score']=predictSampleFitScore;\n",
        "        xx1=[]; yy1=[]; traceNames1=[];\n",
        "        xx2=[]; yy2=[]; traceNames2=[];\n",
        "\n",
        "        for kk in set(modelDataPDF0['labels'].to_list()):\n",
        "            xx1+=[['All Data']];\n",
        "            yy1+=[[len(modelDataPDF0[modelDataPDF0['labels']==kk])]];\n",
        "            yy2+=[[len(predictDataPDF0[predictDataPDF0['labels']==kk])]];\n",
        "            traceNames1+=['GP'+str(kk)]\n",
        "        fig21=self.bar_plot(xx1,yy1,traceNames1,'Model Clusters','','Numbers','stack')\n",
        "        fig31=self.bar_plot(xx1,yy2,traceNames1,'Predicted Clusters','','Numbers','stack')\n",
        "        #print({'modelFitScore':modelFitScore, 'predictFitScore':predictFitScore})\n",
        "        return {'labeled model data':modelDataPDF0, 'labeled predict data':predictDataPDF0,'fitScore':{'modelFitScore':modelSampleFitScore, 'predictFitScore':predictSampleFitScore},'Probability Model':modelDist}\n",
        "\n",
        "    def logistic_reg_data_classifier(self, model_XDataPDF, model_YDataPDF, predict_XDataPDF):\n",
        "        MXDataPDF=model_XDataPDF.copy();\n",
        "        MYDataPDF=model_YDataPDF.copy();\n",
        "        PXDataPDF=predict_XDataPDF.copy();\n",
        "        clf = sklearn.linear_model.LogisticRegression(random_state=0).fit(MXDataPDF.to_numpy(), MYDataPDF.to_numpy());\n",
        "        mLabels = clf.predict(MXDataPDF.to_numpy())\n",
        "        modelDist=clf.predict_proba(MXDataPDF.to_numpy());\n",
        "        modelSampleFitScore=clf.score(MXDataPDF.to_numpy(), MYDataPDF.to_numpy());\n",
        "        MXDataPDF['labels']=mLabels\n",
        "        mLabelTypes=list(set(mLabels));\n",
        "        probLabels=[];\n",
        "        for mlt in mLabelTypes:\n",
        "            probLabels+=['p('+str(mlt)+')']\n",
        "    \n",
        "        MXDataPDF[probLabels]=modelDist;\n",
        "\n",
        "        pLabels = clf.predict(PXDataPDF.to_numpy())\n",
        "        predictDist=clf.predict_proba(PXDataPDF.to_numpy());\n",
        "        pLabelTypes=set(probLabels);\n",
        "        PXDataPDF['labels']=pLabels;\n",
        "        pLabelTypes=list(set(pLabels));\n",
        "        probLabels=[];\n",
        "        for mlt in pLabelTypes:\n",
        "            probLabels+=['p('+str(mlt)+')']\n",
        "\n",
        "        PXDataPDF[probLabels]=predictDist;\n",
        "        \n",
        "        xx1=[]; yy1=[]; traceNames1=[];\n",
        "        xx2=[]; yy2=[]; traceNames2=[];\n",
        "\n",
        "        for kk in set(MXDataPDF['labels'].to_list()):\n",
        "            xx1+=[['All Data']];\n",
        "            yy1+=[[len(MXDataPDF[MXDataPDF['labels']==kk])]];\n",
        "            yy2+=[[len(PXDataPDF[PXDataPDF['labels']==kk])]];\n",
        "            traceNames1+=['GP-'+str(kk)]\n",
        "        fig21=self.bar_plot(xx1,yy1,traceNames1,'Model Clusters','','Numbers','stack')\n",
        "        fig31=self.bar_plot(xx1,yy2,traceNames1,'Predicted Clusters','','Numbers','stack')\n",
        "        \n",
        "        \n",
        "        #print({'modelFitScore':modelFitScore, 'predictFitScore':predictFitScore})\n",
        "        return {'labeled model data':MXDataPDF, 'labeled predict data':PXDataPDF,'Probability Model':{'modelDist':modelDist,'predictDist':predictDist}}\n",
        "\n",
        "\n",
        "    def hist_plot(self, xx, binSize, binRange, traceNames, titleText, xLabel,yLabel):\n",
        "        fig = go.Figure()\n",
        "\n",
        "        for i,x in enumerate(xx):\n",
        "            fig.add_trace(go.Histogram(\n",
        "                x=x,\n",
        "                #histnorm='percent',\n",
        "                #cumulative_enabled=cumulative,\n",
        "                name=traceNames[i], # name used in legend and hover labels\n",
        "                xbins=dict( # bins used for histogram\n",
        "                    start=binRange[0],\n",
        "                    end=binRange[1],\n",
        "                    size=binSize\n",
        "                ),\n",
        "                #marker_color='#EB89B5',\n",
        "                opacity=0.75\n",
        "            ))\n",
        "\n",
        "        fig.update_layout(\n",
        "            title_text=titleText, # title of plot\n",
        "            xaxis_title_text=xLabel, # xaxis label\n",
        "            yaxis_title_text=yLabel, # yaxis label\n",
        "            bargap=0.2, # gap between bars of adjacent location coordinates\n",
        "            bargroupgap=0.1 # gap between bars of the same location coordinates\n",
        "        )\n",
        "\n",
        "        fig.show()\n",
        "        #fig.write_html(\"/content/drive/My Drive/LMS Logs/Course_STATS_upto_May/\"+titleText+\".html\")\n",
        "        return fig\n",
        "\n",
        "    def scatter_plot3D(self,xx,yy,zz,color):\n",
        "        fig = go.Figure(data=[go.Scatter3d(x=xx, y=yy, z=zz, \n",
        "                                    mode='markers',marker=dict(\n",
        "          #size=12,\n",
        "          color=color,                # set color to an array/list of desired values\n",
        "          #colorscale='Viridis',   # choose a colorscale\n",
        "          opacity=0.5\n",
        "        ))])\n",
        "        fig.show()\n",
        "        return fig\n",
        "\n",
        "    def bar_plot(self, xx, yy, traceName, figTitle, xLabel, yLabel, barmode):\n",
        "        fig = go.Figure()\n",
        "        for i,x in enumerate(xx):\n",
        "            fig.add_trace(go.Bar(y=yy[i], x=x, name=traceName[i]))\n",
        "        \n",
        "        \n",
        "        fig.update_layout(\n",
        "            title=figTitle, xaxis_title=xLabel, yaxis_title=yLabel, barmode=barmode\n",
        "            )\n",
        "        fig.show()\n",
        "        return fig   \n",
        "\n",
        "    def linear_regression_modeling(self,model_inputs,model_outputs,test_inputs,test_outputs):\n",
        "      \n",
        "        regr = linear_model.LinearRegression()\n",
        "        linregModel=regr.fit(model_inputs, model_outputs)\n",
        "        predict_model_outputs=linregModel.predict(model_inputs)\n",
        "        model_r2_score=r2_score(model_outputs, predict_model_outputs)\n",
        "        \n",
        "        predict_test_outputs=linregModel.predict(test_inputs)\n",
        "        predictScore=linregModel.score(test_inputs,test_outputs)\n",
        "        test_r2_score=r2_score(test_outputs, predict_test_outputs)\n",
        "        #print(test_PCA_r2_score)\n",
        "        print('R2 value = {}'.format(predictScore))\n",
        "\n",
        "        return {'fitParameters':{'predictScore':predictScore,'model_r2_score':model_r2_score,'test_r2_score':test_r2_score},'predict_model_output':predict_model_outputs,'predict_test_output':predict_test_outputs}\n",
        "\n",
        "\n",
        "    def regression_modeling_with_PCA(self,polyDeg,model_inputs,model_outputs,test_inputs,test_outputs):\n",
        "        output_PCA=self.principle_component_values_2(model_outputs, test_outputs, len([*model_outputs]))\n",
        "        model_Output_PCA=output_PCA['modelnumPCA']\n",
        "        test_Output_PCA=output_PCA['predictnumPCA']\n",
        "        input_PCA=self.principle_component_values(model_inputs, test_inputs, len([*model_inputs]))\n",
        "        model_input_PCA=input_PCA['modelnumPCA']\n",
        "        test_input_PCA=input_PCA['predictnumPCA']\n",
        "        \n",
        "        poly = PolynomialFeatures(polyDeg)\n",
        "        model_input_PCA_poly=poly.fit_transform(model_input_PCA)\n",
        "        test_input_PCA_poly=poly.fit_transform(test_input_PCA)\n",
        "        \n",
        "        regr = linear_model.LinearRegression()\n",
        "        linregModel=regr.fit(model_input_PCA_poly, model_Output_PCA)\n",
        "        predict_model_output_PCA=linregModel.predict(model_input_PCA_poly)\n",
        "        model_PCA_r2_score=r2_score(model_Output_PCA, predict_model_output_PCA)\n",
        "        #print(model_PCA_r2_score)\n",
        "        predict_model_output  = output_PCA['PCA_object'].inverse_transform(predict_model_output_PCA)\n",
        "        model_r2_score=r2_score(model_outputs, predict_model_output)\n",
        "        #print(model_r2_score)\n",
        "\n",
        "        predict_test_output_PCA=linregModel.predict(test_input_PCA_poly)\n",
        "        predictScore=linregModel.score(test_input_PCA_poly,test_Output_PCA)\n",
        "        test_PCA_r2_score=r2_score(test_Output_PCA, predict_test_output_PCA)\n",
        "        #print(test_PCA_r2_score)\n",
        "        predict_test_output  = output_PCA['PCA_object'].inverse_transform(predict_test_output_PCA)\n",
        "        test_r2_score=r2_score(test_outputs, predict_test_output)\n",
        "        print('PCA R2 value = {}'.format(predictScore)+' and '+'R2 value = {}'.format(test_r2_score))\n",
        "\n",
        "        return {'fitParameters':{'predictScore':predictScore,'model_PCA_r2_score':model_PCA_r2_score,'model_r2_score':model_r2_score,'test_PCA_r2_score':test_PCA_r2_score,'test_r2_score':test_r2_score},'predict_model_output':predict_model_output,'predict_test_output':predict_test_output}\n",
        "   \n",
        "    def principle_component_values_2(self, modelDF, predictDF, nnPCs):\n",
        "        pca=sklearn.decomposition.PCA(n_components=nnPCs);\n",
        "        modelnumPCA=pca.fit_transform(modelDF);\n",
        "        PCweights=pca.singular_values_;\n",
        "        PCAmodelScore=pca.score(modelDF);\n",
        "        PCAmeans=pca.mean_\n",
        "        predictnumPCA=pca.transform(predictDF);\n",
        "        PCApredictScore=pca.score(predictDF);\n",
        "        pcaOutput={'PCA_object':pca,'PCAmeans':PCAmeans,'fitScores': {'PCApredictScore':PCApredictScore, 'PCAmodelScore':PCAmodelScore}, 'PCweights':PCweights, 'modelnumPCA':pd.DataFrame(modelnumPCA),'predictnumPCA':pd.DataFrame(predictnumPCA)}\n",
        "        return pcaOutput\n",
        "\n"
      ],
      "metadata": {
        "id": "mEtbz9iFtuG5"
      },
      "execution_count": 2,
      "outputs": []
    },
    {
      "cell_type": "code",
      "source": [
        "md=mugas_data_analysis()"
      ],
      "metadata": {
        "id": "9xOhSfFJuLLY"
      },
      "execution_count": 3,
      "outputs": []
    },
    {
      "cell_type": "markdown",
      "source": [
        "### Plot functions by Dr Maithreepala"
      ],
      "metadata": {
        "id": "6mYfDqdaJMc4"
      }
    },
    {
      "cell_type": "code",
      "source": [
        "def pi_plot_values(dataPDF, plotCol, valueCol, ifAverage, figTitle):\n",
        "    xx1=[]; yy1=[]; cc1=[]; traceNames1=[];\n",
        "    for xx in set(dataPDF[plotCol].tolist()):\n",
        "      temp=dataPDF[dataPDF[plotCol]==xx];\n",
        "      xx1+=[xx]\n",
        "      tempxx=temp[temp[plotCol]==xx]\n",
        "      cc1+=[];\n",
        "      if valueCol==None:\n",
        "        yy1+=[len(tempxx)];\n",
        "      else:\n",
        "        if ifAverage:\n",
        "          yy1+=[sum([float(xx) for xx in tempxx[valueCol].tolist()])/(0.0001+len(tempxx))]\n",
        "        else:\n",
        "          yy1+=[sum([float(xx) for xx in tempxx[valueCol].tolist()])];\n",
        "      \n",
        "    \n",
        "    fig = go.Figure()\n",
        "    \n",
        "    fig.add_trace(go.Pie(labels=xx1, values=yy1, name=plotCol))\n",
        "        \n",
        "\n",
        "    fig.update_traces(hole=0.4, hoverinfo='label+value+name', textinfo='percent')\n",
        "    fig.update_layout(\n",
        "        title_text=figTitle,\n",
        "        #annotations=[dict(text='Colombo', x=0.18, y=0.5, font_size=15, showarrow=False), dict(text='Anuradhapura', x=0.84, y=0.5, font_size=15, showarrow=False)])\n",
        "        )\n",
        "    #fig.show()\n",
        "    return fig\n",
        "\n",
        "def hist_plot(ifPercentage,dataPDF, binRange, binSize, gpCol, valueCol, titleText, xLabel,yLabel):\n",
        "  xx1=[]; traceNames=[];\n",
        "  if gpCol==None:\n",
        "    gpFldList=['Default']\n",
        "  else:  \n",
        "    gpFldList=list(set(dataPDF[gpCol].tolist()))\n",
        "  gpFldList.sort()\n",
        "  for xx in gpFldList:\n",
        "    if gpCol==None:\n",
        "      temp=dataPDF\n",
        "    else:\n",
        "      temp=dataPDF[dataPDF[gpCol]==xx];    \n",
        "    xx1+=[temp[valueCol].tolist()]\n",
        "    traceNames+=[xx]\n",
        "  \n",
        "  \n",
        "  fig = go.Figure()\n",
        "  \n",
        "  if ifPercentage:\n",
        "    pltType='percent'\n",
        "  else:\n",
        "    pltType=None\n",
        "\n",
        "  for i,x in enumerate(xx1):\n",
        "    fig.add_trace(go.Histogram(\n",
        "        x=x,\n",
        "        histnorm=pltType,\n",
        "        #cumulative_enabled=cumulative,\n",
        "        name=traceNames[i], # name used in legend and hover labels\n",
        "        xbins=dict( # bins used for histogram\n",
        "            start=binRange[0],\n",
        "            end=binRange[1],\n",
        "            size=binSize\n",
        "        ),\n",
        "        #marker_color='#EB89B5',\n",
        "        opacity=0.75\n",
        "    ))\n",
        "\n",
        "  fig.update_layout(\n",
        "      title_text=titleText, # title of plot\n",
        "      xaxis_title_text=xLabel, # xaxis label\n",
        "      yaxis_title_text=yLabel, # yaxis label\n",
        "      bargap=0.2, # gap between bars of adjacent location coordinates\n",
        "      bargroupgap=0.1 # gap between bars of the same location coordinates\n",
        "  )\n",
        "\n",
        "  #fig.show()\n",
        "  #fig.write_html(\"/content/drive/My Drive/LMS Logs/Course_STATS_upto_May/\"+titleText+\".html\")\n",
        "  return fig"
      ],
      "metadata": {
        "id": "cgXLCZmzJSBi"
      },
      "execution_count": 4,
      "outputs": []
    },
    {
      "cell_type": "markdown",
      "source": [
        "###Plot functions"
      ],
      "metadata": {
        "id": "_hYFjDQib6sl"
      }
    },
    {
      "cell_type": "code",
      "source": [
        "#Ploting\n",
        "\n",
        "#Histograms\n",
        "# ploty\n",
        "def plot_histograms(data_frame,data_coloum,col='blue'):\n",
        "  fig = px.histogram(data_frame, x=data_coloum,  title=data_coloum, opacity=0.9,color_discrete_sequence=[col] , nbins=200)\n",
        "  fig.update(layout_title_text='Data distributions of '+data_coloum)\n",
        "  fig.show()\n",
        "\n",
        "#Matplotlib\n",
        "def plot_histograms_plt(data_frame,data,col=\"blue\"):\n",
        "  plt.hist(data_frame[data],bins=100 ,color=col, alpha=0.7, density=True)\n",
        "  plt.title('Data distribution of'+data)\n",
        "  plt.ylabel(\"Probability\")\n",
        "  plt.xlabel(data)\n",
        "  plt.show()\n",
        "\n",
        "#(2) Dash plots\n",
        "def plot_DashPlot(data_frame,data_coloum,col='#F66095'):\n",
        "   hist_data =[data_frame[data_coloum]]\n",
        "   group_labels = [data_coloum] \n",
        "   fig = ff.create_distplot(hist_data, group_labels,bin_size=[0.1],colors=[col])\n",
        "   fig.show()\n",
        "\n",
        "#(Box plot)\n",
        "def plot_BoxPlot(data_frame,data_coloum,col='#F66095'):\n",
        "   fig = px.box(data_frame, y=data_coloum,points='all')\n",
        "   fig.update(layout_title_text='Boxplot of '+data_coloum)\n",
        "   fig.show()\n",
        "\n",
        "#(Scatter plots)\n",
        "def plot_ScatterPlot(data_frame,input,output,col='blue'):\n",
        "   fig = px.scatter(data_frame, x=input, y=output,color_discrete_sequence=[col])\n",
        "   fig.update(layout_title_text='Variatios of ' +input +' Vs '+output)\n",
        "   fig.show()\n",
        "   "
      ],
      "metadata": {
        "id": "OJwZxqepb-6W"
      },
      "execution_count": 5,
      "outputs": []
    },
    {
      "cell_type": "markdown",
      "source": [
        "###Other functions"
      ],
      "metadata": {
        "id": "ds71S0WJuO5P"
      }
    },
    {
      "cell_type": "code",
      "source": [
        "\n",
        "\n",
        "def PCA_Analisis(input,output):\n",
        "    pcaOutputData=md.principle_component_values(output,output,len([*output]))\n",
        "    pcaInputData=md.principle_component_values(input,input,len([*input]))\n",
        "    return [ pcaInputData,pcaOutputData]\n",
        "    \n",
        "def PCA_invers(pca_val):\n",
        "    input=pca_val.to_numpy()\n",
        "    pca = PCA(n_components=4)\n",
        "    x_reconstructed  = pca.inverse_transform(input )\n",
        "    return x_reconstructed\n",
        "\n",
        "\n",
        "\n",
        "def reg_fit2_outputs(Xmodel,ymodel):\n",
        "    regr = linear_model.LinearRegression()\n",
        "    yregModel=regr.fit(Xmodel, ymodel)\n",
        "    yregModelpredict=yregModel.predict(Xmodel)\n",
        "    print(yregModel.coef_, 'Intercept: '+str(yregModel.intercept_))\n",
        "    return yregModelpredict\n",
        "\n",
        "def linear_reg_train(Xmodel,ymodel):\n",
        "    regr = linear_model.LinearRegression()\n",
        "    yregModel=regr.fit(Xmodel, ymodel)\n",
        "    return yregModel\n",
        "\n",
        "def liner_reg_predict(Xmodel,yregModel):\n",
        "    yregModelpredict=yregModel.predict(Xmodel)\n",
        "    return yregModelpredict\n",
        "     "
      ],
      "metadata": {
        "id": "fvi_sKIIxgiX"
      },
      "execution_count": 6,
      "outputs": []
    },
    {
      "cell_type": "markdown",
      "source": [
        "#Import data And Preprossesing"
      ],
      "metadata": {
        "id": "_0JItGySuwFX"
      }
    },
    {
      "cell_type": "markdown",
      "source": [
        "##Import Data"
      ],
      "metadata": {
        "id": "bDlx5V2Swzx-"
      }
    },
    {
      "cell_type": "code",
      "source": [
        "csvFilePath='/content/drive/My Drive/Project_3rd_year/Data/{}'\n",
        "columns=['Input1','Input2','Input3','Input4','Output1','Output2','Output3','Output4','Output5']\n",
        "axial_data_frame=pd.read_csv(csvFilePath.format('UnitCell_Axial_Data_Complete.csv'),header=None)\n",
        "axial_data_frame.columns=columns\n",
        "bending_data_frame=pd.read_csv(csvFilePath.format('UnitCell_Bending_Data_Complete.csv'),header=None)\n",
        "bending_data_frame.columns=columns\n",
        "twisting_data_frame=pd.read_csv(csvFilePath.format('UnitCell_Twist_Data_Complete.csv'),header=None)\n",
        "twisting_data_frame.columns=columns"
      ],
      "metadata": {
        "id": "F8KGx1aGvDjn"
      },
      "execution_count": 80,
      "outputs": []
    },
    {
      "cell_type": "markdown",
      "source": [
        "##Data Split"
      ],
      "metadata": {
        "id": "nQT-lGA9w33G"
      }
    },
    {
      "cell_type": "code",
      "source": [
        "#For Axial data\n",
        "axial_data_model,axial_data_test=train_test_split(axial_data_frame,test_size=0.2)\n",
        "#For Bending data\n",
        "bending_data_model,bending_data_test=train_test_split(bending_data_frame,test_size=0.2)\n",
        "#For Twist data\n",
        "twisting_data_model,twisting_data_test=train_test_split(twisting_data_frame,test_size=0.2)\n"
      ],
      "metadata": {
        "id": "wMeU7X7PxoDv"
      },
      "execution_count": 81,
      "outputs": []
    },
    {
      "cell_type": "markdown",
      "source": [
        "#Axial Data"
      ],
      "metadata": {
        "id": "c1rG6imJ1FgX"
      }
    },
    {
      "cell_type": "markdown",
      "source": [
        " There are 4 Inputs and 5 Outputs in the Axial daata frame\n",
        "\n",
        "* **Input1**- Internal pressure                                  \n",
        "\n",
        "* **Input2**-X components of the external force\n",
        "\n",
        "* **Input3** - Y components of the external force\n",
        "\n",
        "* **Input 4** - Z components of the external force\n",
        "\n",
        "* **Output1** -Magnitude of the displacement\n",
        "* **Output2** - X component of the displacement\n",
        "* **Output3** - Y component of the displacement\n",
        "* **Output4** -Z components of thr displacemnt\n",
        "* **Output5** - Resultant force\n",
        " \n"
      ],
      "metadata": {
        "id": "9xY3RJzYUq2_"
      }
    },
    {
      "cell_type": "markdown",
      "source": [
        "##Functions"
      ],
      "metadata": {
        "id": "58M75o0XGUix"
      }
    },
    {
      "cell_type": "code",
      "source": [
        "# Functions definitions for axial data \n",
        "def PCA_Input_output(data):\n",
        "    outputCols=['Output2','Output3','Output4'] #,'Output5']\n",
        "    inputCols=['Input1','Input2','Input3','Input4'] #'Input1',\n",
        "    modelOutputData=data[outputCols]\n",
        "    predictOutputData=data[outputCols]\n",
        "    modelInputData=data[inputCols]\n",
        "    predictInputData=data[inputCols]\n",
        "    pcaOutputData=md.principle_component_values(modelOutputData,predictOutputData,len([*modelOutputData]))\n",
        "    pcaInputData=md.principle_component_values(modelInputData,predictInputData,len([*modelInputData]))\n",
        "    return [pcaOutputData, pcaInputData]\n",
        "\n",
        "def reg_fit2_outputs(Xmodel,ymodel):\n",
        "    regr = linear_model.LinearRegression()\n",
        "    yregModel=regr.fit(Xmodel, ymodel)\n",
        "    yregModelpredict=yregModel.predict(Xmodel)\n",
        "    print(yregModel.coef_, 'Intercept: '+str(yregModel.intercept_))\n",
        "    return yregModelpredict\n",
        "def axial_unit_cell_model(axial_data_model):\n",
        "    inputCols=['Input1','Input2','Input4']\n",
        "    outputCols=['Output2','Output3','Output4']\n",
        "    model_inputs=axial_data_model[inputCols]\n",
        "    model_outputs=axial_data_model[outputCols] \n",
        "    regr1 = linear_model.LinearRegression()\n",
        "    linregModel1=regr1.fit(model_inputs, model_outputs)\n",
        "    model_inputs=axial_data_model[['Input1','Output1']]\n",
        "    model_outputs=axial_data_model[['Output5']]\n",
        "    poly = PolynomialFeatures(2)\n",
        "    model_inputs_poly=pd.DataFrame(poly.fit_transform(model_inputs.to_numpy()))\n",
        "\n",
        "\n",
        "    regr2 = linear_model.LinearRegression()\n",
        "    linregModel2=regr2.fit(model_inputs_poly, model_outputs)\n",
        "    return [linregModel1,linregModel2]\n",
        "\n",
        "def axial_unit_cell_predict(linregModel1,linregModel2,axial_data_inputs):\n",
        "    inputCols=['Input1','Input2','Input4']\n",
        "    axial_data_inputs=axial_data_inputs.copy()\n",
        "    test_inputs1=axial_data_inputs[inputCols]\n",
        "    predict_test_outputs1=linregModel1.predict(test_inputs1)\n",
        "    predict_test_outputs_PDF=pd.DataFrame(predict_test_outputs1,columns=['Output2','Output3','Output4'])\n",
        "    \n",
        "    axial_data_inputs['Output1']=(predict_test_outputs_PDF**2).sum(axis='columns').apply(np.sqrt).to_list()\n",
        "    predict_test_outputs_PDF['Output1']=(predict_test_outputs_PDF**2).sum(axis='columns').apply(np.sqrt).to_list()\n",
        "\n",
        "    test_inputs2=axial_data_inputs[['Input1','Output1']]\n",
        "    poly = PolynomialFeatures(2)\n",
        "    test_inputs2_poly=pd.DataFrame(poly.fit_transform(test_inputs2.to_numpy()))\n",
        "    predict_test_outputs2=linregModel2.predict(test_inputs2_poly)\n",
        "    predict_test_outputs_PDF['Output5']=predict_test_outputs2\n",
        "    return [test_inputs2_poly,predict_test_outputs_PDF]\n",
        "\n",
        "def axial_unit_cell_model_validation(axial_data_frame):\n",
        "    axial_data_model,axial_data_test=train_test_split(axial_data_frame,test_size=0.2)\n",
        "    [linregModel1,linregModel2]=axial_unit_cell_model(axial_data_model)\n",
        "    inputCols=['Input1','Input2','Input4']\n",
        "    outputCols=['Output2','Output3','Output4']\n",
        "    \n",
        "    test_inputs1=axial_data_test[inputCols].copy()\n",
        "    test_outputs1=axial_data_test[outputCols]\n",
        "    predictScore1=linregModel1.score(test_inputs1,test_outputs1)    \n",
        "    \n",
        "    [test_inputs2_poly,predict_test_outputs_PDF]=axial_unit_cell_predict(linregModel1,linregModel2,test_inputs1)\n",
        "    display(predict_test_outputs_PDF)\n",
        "    predict_test_outputs1=predict_test_outputs_PDF[outputCols].to_numpy()\n",
        "    predict_test_outputs2=predict_test_outputs_PDF[['Output5']].to_numpy()\n",
        "    predictScore2=linregModel2.score(test_inputs2_poly,axial_data_test['Output5'])  \n",
        "\n",
        "    Xreal=test_outputs1\n",
        "    Xpredict=predict_test_outputs1\n",
        "    fig1=go.Figure()\n",
        "    fig1.add_trace(go.Scatter3d(x=Xreal[outputCols[0]],y=Xreal[outputCols[1]].to_list(),z=Xreal[outputCols[2]].to_list(),mode='markers',marker={'size':2},name='Actual'))\n",
        "    fig1.add_trace(go.Scatter3d(x=Xpredict[:,0],y=Xpredict[:,1],z=Xpredict[:,2],mode='markers',marker={'size':2},name='Predicted'))\n",
        "    fig1.show()\n",
        "\n",
        "    Xreal=axial_data_test[['Input1','Output1']]\n",
        "    Xpredict=predict_test_outputs_PDF[['Output1','Output2','Output3','Output4','Output5']]\n",
        "    fig2=go.Figure()\n",
        "    fig2.add_trace(go.Scatter3d(x=Xreal['Input1'],y=Xreal['Output1'],z=axial_data_test['Output5'].to_list(),mode='markers',marker={'size':2},name='Actual'))\n",
        "    fig2.add_trace(go.Scatter3d(x=Xreal['Input1'],y=Xpredict['Output1'],z=Xpredict['Output5'],mode='markers',marker={'size':2},name='Predicted'))\n",
        "    fig2.show()\n",
        "\n",
        "\n",
        "    Xreal=axial_data_test[['Output1','Output2','Output3','Output4','Output5']]\n",
        "    fig3=go.Figure()\n",
        "    fig3.add_trace(go.Scatter3d(x=Xreal['Output1'],y=Xreal['Output3'],z=Xreal['Output5'],mode='markers',marker={'size':2},name='Actual'))\n",
        "    fig3.add_trace(go.Scatter3d(x=Xpredict['Output1'],y=Xpredict['Output3'],z=Xpredict['Output5'],mode='markers',marker={'size':2},name='Predicted'))\n",
        "    fig3.show()\n",
        "\n",
        "    r2Score=r2_score(axial_data_test[['Output1','Output2','Output3','Output4','Output5']],predict_test_outputs_PDF[['Output1','Output2','Output3','Output4','Output5']])\n",
        "    return {'r2Score':r2Score,'predictScore1':predictScore1,'predictScore2':predictScore2}"
      ],
      "metadata": {
        "id": "zsqnzKlkGXYo"
      },
      "execution_count": null,
      "outputs": []
    },
    {
      "cell_type": "markdown",
      "source": [
        "##Data visualizations"
      ],
      "metadata": {
        "id": "q73gsE59HL4x"
      }
    },
    {
      "cell_type": "code",
      "source": [
        "data=axial_data_frame \n",
        "data_input=data[['Input1','Input2','Input3','Input4']]\n",
        "data_Output=data[['Output1','Output2','Output3','Output4']]"
      ],
      "metadata": {
        "id": "qubis-6fHiXE"
      },
      "execution_count": null,
      "outputs": []
    },
    {
      "cell_type": "markdown",
      "source": [
        "### Data distributions"
      ],
      "metadata": {
        "id": "oJNhe5mfa4zW"
      }
    },
    {
      "cell_type": "markdown",
      "source": [
        "####Inputs"
      ],
      "metadata": {
        "id": "vZkyZkMTbPlM"
      }
    },
    {
      "cell_type": "code",
      "source": [
        "\n",
        "#Histogram plots of inputs\n",
        "for label in data_input:\n",
        "  plot_histograms(data_input,label)\n"
      ],
      "metadata": {
        "id": "4s5_aiq3iuv1"
      },
      "execution_count": null,
      "outputs": []
    },
    {
      "cell_type": "code",
      "source": [
        "#Box plots of inputs\n",
        "for label in data_input:\n",
        "  plot_BoxPlot(data_input,label)"
      ],
      "metadata": {
        "id": "jT1NYubqjoXE"
      },
      "execution_count": null,
      "outputs": []
    },
    {
      "cell_type": "code",
      "source": [
        "#Dash plots plots of inputs\n",
        "for label in data_input:\n",
        "   plot_DashPlot(data_input,label)"
      ],
      "metadata": {
        "id": "uJr_MS74jy3E"
      },
      "execution_count": null,
      "outputs": []
    },
    {
      "cell_type": "markdown",
      "source": [
        "####Outputs"
      ],
      "metadata": {
        "id": "nyHZtrfpbSI-"
      }
    },
    {
      "cell_type": "code",
      "source": [
        "#histograms plots of Outputs\n",
        "for label in data_Output:\n",
        "  plot_histograms(data_Output,label)"
      ],
      "metadata": {
        "id": "g3Y6PtP9izJN"
      },
      "execution_count": null,
      "outputs": []
    },
    {
      "cell_type": "code",
      "source": [
        "#Box plots of inputs\n",
        "for label in data_Output:\n",
        "  plot_BoxPlot(data_Output,label)"
      ],
      "metadata": {
        "id": "b_PKz96MkD9i"
      },
      "execution_count": null,
      "outputs": []
    },
    {
      "cell_type": "code",
      "source": [
        "#Dash plots plots of inputs\n",
        "for label in data_input:\n",
        "   plot_DashPlot(data_input,label)"
      ],
      "metadata": {
        "id": "QNxnopUbkEmc"
      },
      "execution_count": null,
      "outputs": []
    },
    {
      "cell_type": "markdown",
      "source": [
        "### Input Output "
      ],
      "metadata": {
        "id": "XRkxUVgWbd79"
      }
    },
    {
      "cell_type": "code",
      "source": [
        "# Scatter plots of input vs outputs\n",
        "for label1 in data_Output :\n",
        "     plot_ScatterPlot(data_input,'Input2',label1)"
      ],
      "metadata": {
        "id": "qP4dcpVVlUOb"
      },
      "execution_count": null,
      "outputs": []
    },
    {
      "cell_type": "markdown",
      "source": [
        "##Correlation Analysis"
      ],
      "metadata": {
        "id": "vBLXLaeBKpbY"
      }
    },
    {
      "cell_type": "markdown",
      "source": [
        "According to the following correlation analysis input output correlations can be approximated as\n",
        "* **Output 1** - Output2 Output2 Output4 ($Output1=\\sqrt{Output2^2+Output3^2+Output4^2}$)\n",
        "* **Output 2** -Input1 Input2 input4 (Linear appximation)\n",
        "* **Output 3** -Input1 Input2 input4 (Linear appximation)\n",
        "* **Output 4** -Input1 Input2 input4 (Linear appximation)\n",
        "* **Output 5** -Input1 output1 (non liner appximation)\n"
      ],
      "metadata": {
        "id": "aVmLNXuV7V7B"
      }
    },
    {
      "cell_type": "markdown",
      "source": [
        "###Input output correlation"
      ],
      "metadata": {
        "id": "53-Z88bCKvFr"
      }
    },
    {
      "cell_type": "code",
      "source": [
        "outputLabels=['Output1','Output2','Output3','Output4','Output5']\n",
        "X=axial_data_frame[['Input1','Input2','Input3','Input4']]\n",
        "fig=go.Figure()\n",
        "rvals=[]\n",
        "for i,lbl in enumerate(outputLabels):\n",
        "    y=axial_data_frame[lbl]\n",
        "    rr=r_regression(X, y.to_numpy())\n",
        "    print(rr)\n",
        "    fig.add_trace(go.Scatter(y=rr,name=lbl))\n",
        "fig.show()"
      ],
      "metadata": {
        "id": "lvfUuuboK9S4"
      },
      "execution_count": null,
      "outputs": []
    },
    {
      "cell_type": "markdown",
      "source": [
        "###Output-output correlation"
      ],
      "metadata": {
        "id": "G7b0DxWmKxTC"
      }
    },
    {
      "cell_type": "code",
      "source": [
        "outputLabels=['Output1','Output2','Output3','Output4','Output5']\n",
        "X=axial_data_frame[outputLabels]\n",
        "fig=go.Figure()\n",
        "rvals=[]\n",
        "for i,lbl in enumerate(outputLabels):\n",
        "    y=axial_data_frame[lbl]\n",
        "    rr=r_regression(X, y.to_numpy())\n",
        "    print(rr)\n",
        "    fig.add_trace(go.Scatter(y=rr,name=lbl))\n",
        "fig.show()"
      ],
      "metadata": {
        "id": "gI0pmaAHLV0w"
      },
      "execution_count": null,
      "outputs": []
    },
    {
      "cell_type": "markdown",
      "source": [
        "###Input Output Relations "
      ],
      "metadata": {
        "id": "Uv5nErKz_-4v"
      }
    },
    {
      "cell_type": "code",
      "source": [
        "#Output1 <-----(Output2 ,Output3,Output4)\n",
        "\n",
        "data=axial_data_frame \n",
        "data_input=data[['Input1','Input2','Input3','Input4']]\n",
        "data_Output=data[['Output1','Output2','Output3','Output4','Output5']]\n",
        "\n",
        "fig=go.Figure()\n",
        "fig.add_trace(go.Scatter3d(x=data_Output['Output2'].to_list(),y=data_Output['Output4'].to_list(),z=data_Output['Output1'].to_list(),mode='markers',marker={'size':2},name='Actual'))\n",
        "fig.show()"
      ],
      "metadata": {
        "id": "0NTAQXt8AcEq"
      },
      "execution_count": null,
      "outputs": []
    },
    {
      "cell_type": "code",
      "source": [
        "#Output2 /Output 3/Output 4 <-----(input 1, Input 2,input 4)\n",
        "\n",
        "fig=go.Figure()\n",
        "fig.add_trace(go.Scatter3d(x=data_input['Input1'].to_list(),y=data_input['Input4'].to_list(),z=data_Output['Output2'].to_list(),mode='markers',marker={'size':2},name='Actual'))\n",
        "fig.show()"
      ],
      "metadata": {
        "id": "ENHpyA-2C254"
      },
      "execution_count": null,
      "outputs": []
    },
    {
      "cell_type": "code",
      "source": [
        "#Output5 <----- (Input1,Output1)\n",
        "fig=go.Figure()\n",
        "fig.add_trace(go.Scatter3d(x=data_input['Input1'].to_list(),y=data_Output['Output1'].to_list(),z=data_Output['Output5'].to_list(),mode='markers',marker={'size':2},name='Actual'))\n",
        "fig.show()"
      ],
      "metadata": {
        "id": "ZDUzw90kENyX"
      },
      "execution_count": null,
      "outputs": []
    },
    {
      "cell_type": "markdown",
      "source": [
        "##Modeing and Validation"
      ],
      "metadata": {
        "id": "pV9AeqrYOCrg"
      }
    },
    {
      "cell_type": "markdown",
      "source": [
        "###Liner Regression -All Outputs with All Inputs"
      ],
      "metadata": {
        "id": "QuAxPngJHXoI"
      }
    },
    {
      "cell_type": "code",
      "source": [
        "model_inputs=axial_data_model[['Input1','Input2','Input3','Input4']]\n",
        "model_outputs=axial_data_model[['Output1','Output2','Output3','Output4','Output5']] \n",
        "test_inputs=axial_data_test[['Input1','Input2','Input3','Input4']]\n",
        "test_outputs=axial_data_test[['Output1','Output2','Output3','Output4','Output5']] #\n",
        "lin_reg_model=md.linear_regression_modeling(model_inputs,model_outputs,test_inputs,test_outputs)\n",
        "Xreal=test_outputs\n",
        "Xpredict=lin_reg_model['predict_test_output']\n",
        "fig=go.Figure()\n",
        "fig.add_trace(go.Scatter3d(x=Xreal['Output2'],y=Xreal['Output3'].to_list(),z=Xreal['Output4'].to_list(),mode='markers',marker={'size':2},name='Actual'))\n",
        "fig.add_trace(go.Scatter3d(x=Xpredict[:,1],y=Xpredict[:,2],z=Xpredict[:,3],mode='markers',marker={'size':2},name='Predicted'))\n",
        "fig.show()"
      ],
      "metadata": {
        "id": "HQnt2EXNOKZ3"
      },
      "execution_count": null,
      "outputs": []
    },
    {
      "cell_type": "markdown",
      "source": [
        "### Linear Regression -Output2 Output3 Output4 with Input1 Input2 input4"
      ],
      "metadata": {
        "id": "jz3uK7xdH4G_"
      }
    },
    {
      "cell_type": "code",
      "source": [
        "inputCols=['Input1','Input2','Input4']\n",
        "outputCols=['Output2','Output3','Output4']\n",
        "model_inputs=axial_data_model[inputCols]\n",
        "model_outputs=axial_data_model[outputCols] \n",
        "test_inputs=axial_data_test[inputCols]\n",
        "test_outputs=axial_data_test[outputCols] #\n",
        "lin_reg_model=md.linear_regression_modeling(model_inputs,model_outputs,test_inputs,test_outputs)\n",
        "Xreal=test_outputs\n",
        "Xpredict=lin_reg_model['predict_test_output']\n",
        "fig=go.Figure()\n",
        "fig.add_trace(go.Scatter3d(x=Xreal[outputCols[0]],y=Xreal[outputCols[1]].to_list(),z=Xreal[outputCols[2]].to_list(),mode='markers',marker={'size':2},name='Actual'))\n",
        "fig.add_trace(go.Scatter3d(x=Xpredict[:,0],y=Xpredict[:,1],z=Xpredict[:,2],mode='markers',marker={'size':2},name='Predicted'))\n",
        "fig.show()"
      ],
      "metadata": {
        "id": "GBNHOLVtPeIg"
      },
      "execution_count": null,
      "outputs": []
    },
    {
      "cell_type": "code",
      "source": [
        "(pd.DataFrame(Xpredict)**2).sum(axis='columns').apply(np.sqrt)"
      ],
      "metadata": {
        "id": "Ikg6MRCtRTT_"
      },
      "execution_count": null,
      "outputs": []
    },
    {
      "cell_type": "markdown",
      "source": [
        "###Liner regression -Output5 with Input1 Output1"
      ],
      "metadata": {
        "id": "8WUbDMwCI59P"
      }
    },
    {
      "cell_type": "code",
      "source": [
        "model_inputs=axial_data_model[['Input1','Output1']]\n",
        "model_outputs=axial_data_model[['Output5']] \n",
        "test_inputs=axial_data_test[['Input1','Output1']]\n",
        "test_outputs=axial_data_test[['Output5']] #\n",
        "lin_reg_model=md.linear_regression_modeling(model_inputs,model_outputs,test_inputs,test_outputs)\n",
        "Xreal=test_inputs\n",
        "Xpredict=lin_reg_model['predict_test_output']\n",
        "fig=go.Figure()\n",
        "fig.add_trace(go.Scatter3d(x=Xreal['Input1'],y=Xreal['Output1'],z=test_outputs['Output5'].to_list(),mode='markers',marker={'size':2},name='Actual'))\n",
        "fig.add_trace(go.Scatter3d(x=Xreal['Input1'],y=Xreal['Output1'],z=Xpredict[:,0],mode='markers',marker={'size':2},name='Predicted'))\n",
        "fig.show()"
      ],
      "metadata": {
        "id": "8EGtOZlBhe8G"
      },
      "execution_count": null,
      "outputs": []
    },
    {
      "cell_type": "markdown",
      "source": [
        "###Liner regression -Output5 with Input1 Output1(Polynomial approximation of Inputs)"
      ],
      "metadata": {
        "id": "Zk8N372wJIu_"
      }
    },
    {
      "cell_type": "code",
      "source": [
        "model_inputs=axial_data_model[['Input1','Output1']]\n",
        "model_outputs=axial_data_model[['Output5']] \n",
        "test_inputs=axial_data_test[['Input1','Output1']]\n",
        "test_outputs=axial_data_test[['Output5']] #\n",
        "poly = PolynomialFeatures(2)\n",
        "model_inputs_poly=pd.DataFrame(poly.fit_transform(model_inputs.to_numpy()))\n",
        "test_inputs_poly=pd.DataFrame(poly.fit_transform(test_inputs.to_numpy()))\n",
        "lin_reg_model=md.linear_regression_modeling(model_inputs_poly,model_outputs,test_inputs_poly,test_outputs)\n",
        "Xreal=test_inputs\n",
        "Xpredict=lin_reg_model['predict_test_output']\n",
        "fig=go.Figure()\n",
        "fig.add_trace(go.Scatter3d(x=Xreal['Input1'],y=Xreal['Output1'],z=test_outputs['Output5'].to_list(),mode='markers',marker={'size':2},name='Actual'))\n",
        "fig.add_trace(go.Scatter3d(x=Xreal['Input1'],y=Xreal['Output1'],z=Xpredict[:,0],mode='markers',marker={'size':2},name='Predicted'))\n",
        "fig.show()"
      ],
      "metadata": {
        "id": "h9ubId_QOvr4"
      },
      "execution_count": null,
      "outputs": []
    },
    {
      "cell_type": "markdown",
      "source": [
        "### Model development"
      ],
      "metadata": {
        "id": "IxjYe1NeLHmR"
      }
    },
    {
      "cell_type": "code",
      "source": [
        "#Prediction\n",
        "axial_data_model,axial_data_test=train_test_split(axial_data_frame,test_size=0.2)\n",
        "[linregModel1,linregModel2]=axial_unit_cell_model(axial_data_model)\n",
        "axial_unit_cell_predict(linregModel1,linregModel2,axial_data_test[['Input1','Input2','Input4']])"
      ],
      "metadata": {
        "id": "EYeyyqrPPuHQ"
      },
      "execution_count": null,
      "outputs": []
    },
    {
      "cell_type": "code",
      "source": [
        "#validation\n",
        "axial_data_model,axial_data_test=train_test_split(axial_data_frame,test_size=0.2)\n",
        "outputs=axial_unit_cell_model_validation(axial_data_frame)"
      ],
      "metadata": {
        "id": "elmqitEwRzyJ"
      },
      "execution_count": null,
      "outputs": []
    },
    {
      "cell_type": "markdown",
      "source": [
        "#Bending data"
      ],
      "metadata": {
        "id": "5WSKwutOLgdP"
      }
    },
    {
      "cell_type": "markdown",
      "source": [
        "##Functions"
      ],
      "metadata": {
        "id": "cmONu4rqH-fb"
      }
    },
    {
      "cell_type": "code",
      "source": [
        "def regression_modeling_with_PCA_model(polyDeg,model_inputs,model_outputs):\n",
        "        \n",
        "\n",
        "        nnPCs1=len([*model_inputs])\n",
        "        pca1=sklearn.decomposition.PCA(n_components=nnPCs1);\n",
        "        model_input_PCA=pca1.fit_transform(model_inputs);\n",
        "\n",
        "        nnPCs2=len([*model_outputs])\n",
        "        pca2=sklearn.decomposition.PCA(n_components=nnPCs2);\n",
        "        model_Output_PCA=pca2.fit_transform(model_outputs);\n",
        "\n",
        "        \n",
        "        poly = PolynomialFeatures(polyDeg)\n",
        "        model_input_PCA_poly=poly.fit_transform(model_input_PCA)\n",
        "      \n",
        "        \n",
        "        regr = linear_model.LinearRegression()\n",
        "        linregModel=regr.fit(model_input_PCA_poly, model_Output_PCA)\n",
        "        \n",
        "\n",
        "        return linregModel ,pca1,pca2\n",
        "\n",
        "\n",
        "def bending_unitcell_modeling(data_model):\n",
        "     inputCols1=['Input1','Input3'] #'Input2','Input3','Input4']\n",
        "     outputCols1=['Output3']\n",
        "     \n",
        "     model_outputs1=data_model[outputCols1]\n",
        "     model_inputs1=data_model[inputCols1]\n",
        "     linregModel,pca1_1,pca2_1=regression_modeling_with_PCA_model(3,model_inputs1, model_outputs1)\n",
        "\n",
        "     inputCols2=['Input1','Input2','Input4']\n",
        "     outputCols2=['Output2','Output4','Output5']\n",
        "\n",
        "     model_outputs2=data_model[outputCols2]\n",
        "     model_inputs2=data_model[inputCols2]\n",
        "     linregModel2,pca1_2,pca2_2=regression_modeling_with_PCA_model(5,model_inputs2, model_outputs2)\n",
        "     \n",
        "     return linregModel ,linregModel2,pca1_1,pca2_1,pca1_2,pca2_2\n",
        "\n",
        "\n",
        "\n",
        "def bending_unitcell_predict(data_test_input,linregModel1 ,linregModel2,pca1_1,pca2_1,pca1_2,pca2_2):\n",
        "\n",
        "     inputCols=['Input1','Input2','Input3','Input4']\n",
        "     outputCols=['Output3','Output2','Output4','Output5']\n",
        "     inputCols1=['Input1','Input3']\n",
        "     inputCols2=['Input1','Input2','Input4']\n",
        "     \n",
        "\n",
        "\n",
        "     data_input_1=data_test_input[inputCols1]\n",
        "     data_input_2=data_test_input[inputCols2]\n",
        "\n",
        "\n",
        "\n",
        "     data_input_PCA1=pca1_1.fit_transform(data_input_1);\n",
        "\n",
        "\n",
        "    \n",
        "     data_input_PCA2=pca1_2.fit_transform(data_input_2);\n",
        "\n",
        "     \n",
        "     poly1 = PolynomialFeatures(3)\n",
        "     data_input_PCA_poly1=poly1.fit_transform(data_input_PCA1)\n",
        "\n",
        "     poly2 = PolynomialFeatures(5)\n",
        "     data_input_PCA_poly2=poly2.fit_transform(data_input_PCA2)\n",
        "\n",
        "     predict_output_PCA1=linregModel1.predict(data_input_PCA_poly1)\n",
        "     predict_output_PCA2=linregModel2.predict(data_input_PCA_poly2)\n",
        "  \n",
        "\n",
        "     predict_output1  = pca2_1.inverse_transform(predict_output_PCA1)\n",
        "     predict_output2  = pca2_2.inverse_transform(predict_output_PCA2)\n",
        "     predict_output=np.hstack((predict_output1, predict_output2))\n",
        "\n",
        "     predict_output_pdf=pd.DataFrame(predict_output,columns=outputCols)\n",
        "\n",
        "     return predict_output_pdf\n",
        "\n",
        "def bending_unit_cell_fit_transform(data_frame):\n",
        "    data_model,data_test=train_test_split(data_frame,test_size=0.2)\n",
        "    \n",
        "    inputCols=['Input1','Input3'] #'Input2','Input3','Input4']\n",
        "    outputCols=['Output3']\n",
        "\n",
        "    model_outputs=data_model[outputCols]\n",
        "    test_outputs=data_test[outputCols]\n",
        "    model_inputs=data_model[inputCols]\n",
        "    test_inputs=data_test[inputCols]\n",
        "\n",
        "    model_fit_output=md.regression_modeling_with_PCA(3,model_inputs,model_outputs,test_inputs,test_outputs)\n",
        "    InputsReal=test_inputs\n",
        "    OutputsReal=test_outputs\n",
        "    Xpredict=pd.DataFrame(model_fit_output['predict_test_output'],columns=outputCols)\n",
        "    fig=go.Figure()\n",
        "    fig.add_trace(go.Scatter3d(x=InputsReal['Input1'],y=InputsReal['Input3'],z=OutputsReal['Output3'],mode='markers',marker={'size':2},name='Actual'))\n",
        "    fig.add_trace(go.Scatter3d(x=InputsReal['Input1'],y=InputsReal['Input3'],z=Xpredict['Output3'],mode='markers',marker={'size':2},name='Predicted'))\n",
        "    fig.show()\n",
        "\n",
        "    inputCols2=['Input1','Input2','Input4']\n",
        "    outputCols2=['Output2','Output4','Output5']\n",
        "\n",
        "    model_outputs2=data_model[outputCols2]\n",
        "    test_outputs2=data_test[outputCols2]\n",
        "    model_inputs2=data_model[inputCols2]\n",
        "    test_inputs2=data_test[inputCols2]\n",
        "    model_fit_output2=md.regression_modeling_with_PCA(5,model_inputs2,model_outputs2,test_inputs2,test_outputs2)\n",
        "    \n",
        "    InputsReal2=test_inputs2\n",
        "    OutputsReal2=test_outputs2\n",
        "    Xpredict2=pd.DataFrame(model_fit_output2['predict_test_output'],columns=outputCols2)\n",
        "    \n",
        "    fig2=go.Figure()\n",
        "    fig2.add_trace(go.Scatter3d(x=OutputsReal2['Output2'],y=OutputsReal2['Output5'],z=OutputsReal2['Output4'],mode='markers',marker={'size':2},name='Actual'))\n",
        "    fig2.add_trace(go.Scatter3d(x=Xpredict2['Output2'],y=Xpredict2['Output5'],z=Xpredict2['Output4'],mode='markers',marker={'size':2},name='Predicted'))\n",
        "    fig2.show()\n",
        "\n",
        "    yPredict=pd.concat([Xpredict,Xpredict2],axis=1)\n",
        "    r2Score=r2_score(data_test[outputCols+outputCols2],yPredict[outputCols+outputCols2])\n",
        "    return yPredict,r2Score"
      ],
      "metadata": {
        "id": "Ab-x7UaoI4Ra"
      },
      "execution_count": null,
      "outputs": []
    },
    {
      "cell_type": "code",
      "source": [
        "data=bending_data_frame\n",
        "\n",
        "\n"
      ],
      "metadata": {
        "id": "W-Qm6cwbJdh8"
      },
      "execution_count": null,
      "outputs": []
    },
    {
      "cell_type": "markdown",
      "source": [
        "##Data Visualization"
      ],
      "metadata": {
        "id": "0BokwTyBIKxb"
      }
    },
    {
      "cell_type": "code",
      "source": [
        "#User inputs - Drop down menus\n",
        "histGpCol=None # Pick from drop down list [None]+categoryCols\n",
        "histPltCol='Output2' #'new_cases' # Pick from drop down list [None]+categoryCols\n",
        "histPltValCol=histPltCol #'new_cases' #'people_vaccinated' #'total_deaths' #'icu_patients_per_million' #'total_boosters_per_hundred' #None # Pick from drop down list [None]+valueCols\n",
        "#Python code\n",
        "histPlotDataPDF=pd.DataFrame()\n",
        "#histGpFldList=list(set(data[histGpCol].to_list()))\n",
        "#histGpFldList.sort()\n",
        "histPltFldList=list(set(data[histPltCol].to_list()))\n",
        "histPltFldList.sort()\n",
        "histPlotDataPDF[histPltValCol]=[float(xx) for xx in data[histPltValCol].to_list()] #[data[histPltCol].isin(histPltFldList)]\n",
        "binRange=[min([float(xx) for xx in histPlotDataPDF[histPltValCol].to_list()]),max([float(xx) for xx in histPlotDataPDF[histPltValCol].to_list()])]\n",
        "binSize=((binRange[1]-binRange[0])/100)+0*1\n",
        "xLabelHist=histPltValCol\n",
        "yLabelHist='Numbers'\n",
        "histTitle=histPltValCol\n",
        "figHist=hist_plot(False, histPlotDataPDF, binRange, binSize, histGpCol, histPltValCol, histTitle, xLabelHist, yLabelHist)\n",
        "figHist.show()"
      ],
      "metadata": {
        "id": "8exm9RbkJzpb"
      },
      "execution_count": null,
      "outputs": []
    },
    {
      "cell_type": "code",
      "source": [
        "#2d scatter plots input vs output\n",
        "fig=go.Figure()\n",
        "scatterDataPDF=data\n",
        "xcol='Input1'\n",
        "for ycol in ['Output1','Output2','Output3','Output4','Output5']:\n",
        "    fig.add_trace(go.Scatter(x=scatterDataPDF[xcol].to_list(), y=scatterDataPDF[ycol].to_list(),mode='markers',name=ycol))\n",
        "fig.show()"
      ],
      "metadata": {
        "id": "cOEgDuWjKZBD"
      },
      "execution_count": null,
      "outputs": []
    },
    {
      "cell_type": "code",
      "source": [
        "#3d scatter plots input vs output\n",
        "fig=go.Figure()\n",
        "scatter3Ddata=data\n",
        "xcol='Input1'; ycol='Input2'; zcol='Output5';\n",
        "fig.add_trace(go.Scatter3d(x=scatter3Ddata[xcol].to_list(),y=scatter3Ddata[ycol].to_list(),z=scatter3Ddata[zcol].to_list(),mode='markers',marker={'size':2}))"
      ],
      "metadata": {
        "id": "32X0Omd4KX37"
      },
      "execution_count": null,
      "outputs": []
    },
    {
      "cell_type": "code",
      "source": [
        "#2d scatter plots input vs output(special case inputi=0 -> output)\n",
        "fig=go.Figure()\n",
        "scatterDataPDF=data[((data['Input2']==0) & (data['Input3']==0))] \n",
        "xcol='Input1'\n",
        "for ycol in ['Output1','Output2','Output3','Output4','Output5']:\n",
        "    fig.add_trace(go.Scatter(x=scatterDataPDF[xcol].to_list(), y=scatterDataPDF[ycol].to_list(),mode='markers',name=ycol))\n",
        "fig.show()"
      ],
      "metadata": {
        "id": "wRXNU1OWJ-w8"
      },
      "execution_count": null,
      "outputs": []
    },
    {
      "cell_type": "code",
      "source": [
        "#3d scatter plots input vs output(special case inputi=0 -> output)\n",
        "fig=go.Figure()\n",
        "scatter3Ddata=data[((data['Input4']==0) & (data['Input2']==0))] #data\n",
        "xcol='Input1'; ycol='Input3'; zcol='Output5';\n",
        "fig.add_trace(go.Scatter3d(x=scatter3Ddata[xcol].to_list(),y=scatter3Ddata[ycol].to_list(),z=scatter3Ddata[zcol].to_list(),mode='markers'))"
      ],
      "metadata": {
        "id": "d0bQ2l6PKCWr"
      },
      "execution_count": null,
      "outputs": []
    },
    {
      "cell_type": "markdown",
      "source": [
        "##Coralationn Analysis"
      ],
      "metadata": {
        "id": "0cGeRf0bIQrD"
      }
    },
    {
      "cell_type": "markdown",
      "source": [
        "###Inputs -Outputs"
      ],
      "metadata": {
        "id": "7M0S3vhrLeib"
      }
    },
    {
      "cell_type": "code",
      "source": [
        "outputLabels=['Output1','Output2','Output3','Output4','Output5']\n",
        "X=data[['Input1','Input2','Input3','Input4']]\n",
        "fig=go.Figure()\n",
        "rvals=[]\n",
        "for i,lbl in enumerate(outputLabels):\n",
        "    y=data[lbl]\n",
        "    rr=r_regression(X, y.to_numpy())\n",
        "    print(rr)\n",
        "    fig.add_trace(go.Scatter(y=rr,name=lbl))\n",
        "fig.show()"
      ],
      "metadata": {
        "id": "c4kwcFjPLgiS"
      },
      "execution_count": null,
      "outputs": []
    },
    {
      "cell_type": "markdown",
      "source": [
        "###Output-Output"
      ],
      "metadata": {
        "id": "R4cmuaKkLh6K"
      }
    },
    {
      "cell_type": "code",
      "source": [
        "outputLabels=['Output1','Output2','Output3','Output4','Output5']\n",
        "X=data[outputLabels]\n",
        "fig=go.Figure()\n",
        "rvals=[]\n",
        "for i,lbl in enumerate(outputLabels):\n",
        "    y=data[lbl]\n",
        "    rr=r_regression(X, y.to_numpy())\n",
        "    print(rr)\n",
        "    fig.add_trace(go.Scatter(y=rr,name=lbl))\n",
        "fig.show()"
      ],
      "metadata": {
        "id": "rVQ2_lA8L5fi"
      },
      "execution_count": null,
      "outputs": []
    },
    {
      "cell_type": "markdown",
      "source": [
        "##PCA analysis"
      ],
      "metadata": {
        "id": "HMjm4EGMIXRT"
      }
    },
    {
      "cell_type": "markdown",
      "source": [
        "##Model Developing"
      ],
      "metadata": {
        "id": "KUvCpPdFyBGF"
      }
    },
    {
      "cell_type": "markdown",
      "source": [
        "####Original Input Space"
      ],
      "metadata": {
        "id": "PDjGCzt8ylDZ"
      }
    },
    {
      "cell_type": "code",
      "source": [
        "#Linear regression with all inputs and all outputs\n",
        "inputCols=['Input1','Input2','Input3','Input4'];\n",
        "outputCols=['Output1','Output2','Output3','Output4','Output5']\n",
        "\n",
        "model_inputs=twisting_data_model[inputCols]\n",
        "model_outputs=twisting_data_model[outputCols] \n",
        "test_inputs=twisting_data_test[inputCols]\n",
        "test_outputs=twisting_data_test[outputCols] #\n",
        "lin_reg_model=md.linear_regression_modeling(model_inputs,model_outputs,test_inputs,test_outputs)\n",
        "actual_out=test_outputs\n",
        "predict_out=lin_reg_model['predict_test_output']\n",
        "fig=go.Figure()\n",
        "fig.add_trace(go.Scatter3d(x=actual_out['Output2'],y=actual_out['Output3'].to_list(),z=actual_out['Output4'].to_list(),mode='markers',marker={'size':2},name='Actual'))\n",
        "fig.add_trace(go.Scatter3d(x=predict_out[:,1],y=predict_out[:,2],z=predict_out[:,3],mode='markers',marker={'size':2},name='Predicted'))\n",
        "fig.show()"
      ],
      "metadata": {
        "id": "xaE21qAVyOwq"
      },
      "execution_count": null,
      "outputs": []
    },
    {
      "cell_type": "code",
      "source": [
        "#Linear regression with selected\n",
        "inputCols=['Input1','Input2','Input3']\n",
        "outputCols=['Output2','Output5']\n",
        "\n",
        "model_inputs=twisting_data_model[inputCols]\n",
        "model_outputs=twisting_data_model[outputCols] \n",
        "test_inputs=twisting_data_test[inputCols]\n",
        "test_outputs=twisting_data_test[outputCols] #\n",
        "lin_reg_model=md.linear_regression_modeling(model_inputs,model_outputs,test_inputs,test_outputs)\n",
        "actual_out=test_outputs\n",
        "predict_out=lin_reg_model['predict_test_output']\n",
        "fig=go.Figure()\n",
        "fig.add_trace(go.Scatter3d(x=test_inputs['Input1'].to_list(),y=actual_out['Output2'].to_list(),z=actual_out['Output5'].to_list(),mode='markers',marker={'size':2},name='Actual'))\n",
        "fig.add_trace(go.Scatter3d(x=test_inputs['Input1'].to_list(),y=predict_out[:,0],z=predict_out[:,1],mode='markers',marker={'size':2},name='Predicted'))\n",
        "fig.show()"
      ],
      "metadata": {
        "id": "yRtCOfptyPZN"
      },
      "execution_count": null,
      "outputs": []
    },
    {
      "cell_type": "code",
      "source": [
        "#Polinomaial regressionregression with selected inputs\n",
        "\n",
        "inputCols=['Input1','Input2','Input3']\n",
        "outputCols=['Output2','Output5']\n",
        "poly=2;\n",
        "\n",
        "model_inputs=twisting_data_model[inputCols]\n",
        "model_outputs=twisting_data_model[outputCols] \n",
        "test_inputs=twisting_data_test[inputCols]\n",
        "test_outputs=twisting_data_test[outputCols] #\n",
        "poly = PolynomialFeatures(poly)\n",
        "model_inputs_poly=pd.DataFrame(poly.fit_transform(model_inputs.to_numpy()))\n",
        "test_inputs_poly=pd.DataFrame(poly.fit_transform(test_inputs.to_numpy()))\n",
        "lin_reg_model=md.linear_regression_modeling(model_inputs_poly,model_outputs,test_inputs_poly,test_outputs)\n",
        "actual_out=test_outputs\n",
        "predict_out=lin_reg_model['predict_test_output']\n",
        "fig=go.Figure()\n",
        "fig.add_trace(go.Scatter3d(x=test_inputs['Input1'].to_list(),y=actual_out['Output2'].to_list(),z=actual_out['Output5'].to_list(),mode='markers',marker={'size':2},name='Actual'))\n",
        "fig.add_trace(go.Scatter3d(x=test_inputs['Input1'].to_list(),y=predict_out[:,0],z=predict_out[:,1],mode='markers',marker={'size':2},name='Predicted'))\n",
        "fig.show()"
      ],
      "metadata": {
        "id": "9SXFjz6GyU7a"
      },
      "execution_count": null,
      "outputs": []
    },
    {
      "cell_type": "code",
      "source": [
        "#Decision tree\n",
        "\n",
        "inputCols=['Input4','Input2','Input1']\n",
        "outputCols=['Output3','Output4']\n",
        "\n",
        "model_inputs=twisting_data_model[inputCols]\n",
        "model_outputs=twisting_data_model[outputCols] \n",
        "test_inputs=twisting_data_test[inputCols]\n",
        "test_outputs=twisting_data_test[outputCols] \n",
        "\n",
        "\n",
        "regressor = DecisionTreeRegressor(random_state=100)\n",
        "\n",
        "regressor.fit(model_inputs,model_outputs)\n",
        "test_pred_outputs = regressor.predict(test_inputs)\n",
        "\n",
        "mse = mean_squared_error(test_outputs, test_pred_outputs )\n",
        "r2core=r2_score(test_outputs, test_pred_outputs )\n",
        "print(\"R2 score:\", r2core)\n",
        "\n",
        "actual_out=test_outputs\n",
        "predict_out=test_pred_outputs\n",
        "fig=go.Figure()\n",
        "fig.add_trace(go.Scatter3d(x=test_inputs['Input4'].to_list(),y=actual_out['Output3'].to_list(),z=actual_out['Output4'].to_list(),mode='markers',marker={'size':2},name='Actual'))\n",
        "fig.add_trace(go.Scatter3d(x=test_inputs['Input4'].to_list(),y=predict_out[:,0],z=predict_out[:,1],mode='markers',marker={'size':2},name='Predicted'))\n",
        "fig.show()\n",
        "\n"
      ],
      "metadata": {
        "id": "YctYxFqhyhdL"
      },
      "execution_count": null,
      "outputs": []
    },
    {
      "cell_type": "code",
      "source": [],
      "metadata": {
        "id": "usakQVkJyR-j"
      },
      "execution_count": null,
      "outputs": []
    },
    {
      "cell_type": "markdown",
      "source": [
        "####PC Space"
      ],
      "metadata": {
        "id": "NbXDI_cZyyaD"
      }
    },
    {
      "cell_type": "code",
      "source": [
        "#Pca analysis\n",
        "inputsp=twisting_data_frame[['Input1','Input2','Input3','Input4']]\n",
        "outputsp=twisting_data_frame[['Output1','Output2','Output3','Output4','Output5']] \n",
        "pca_in=sklearn.decomposition.PCA(n_components=4);\n",
        "pca_out=sklearn.decomposition.PCA(n_components=5);\n",
        "pca_input=pca_in.fit_transform(inputsp);\n",
        "pca_output=pca_out.fit_transform(outputsp);\n",
        "\n",
        "pca_input_pdf = pd.DataFrame(pca_input, columns = ['Input1','Input2','Input3','Input4'])\n",
        "pca_output_pdf = pd.DataFrame(pca_output, columns = ['Output1','Output2','Output3','Output4','Output5'])\n",
        "twisting_data_frame_pca= pd.concat([pca_input_pdf, pca_output_pdf], axis=1)\n",
        "twisting_data_model_pca,twisting_data_test_pca=train_test_split(twisting_data_frame_pca,test_size=0.2)"
      ],
      "metadata": {
        "id": "ZbMPk9CBy1nj"
      },
      "execution_count": null,
      "outputs": []
    },
    {
      "cell_type": "code",
      "source": [
        "#coraltion analysis\n",
        "data=twisting_data_frame_pca\n",
        "outputLabels=['Output1','Output2','Output3','Output4','Output5']\n",
        "X=data[['Input1','Input2','Input3','Input4']]\n",
        "fig=go.Figure()\n",
        "rvals=[]\n",
        "for i,lbl in enumerate(outputLabels):\n",
        "    y=data[lbl]\n",
        "    rr=r_regression(X, y.to_numpy())\n",
        "    print(rr)\n",
        "    fig.add_trace(go.Scatter(y=rr,name=lbl))\n",
        "fig.show()"
      ],
      "metadata": {
        "id": "_d_i81lizANj"
      },
      "execution_count": null,
      "outputs": []
    },
    {
      "cell_type": "code",
      "source": [
        "#Linear regression with all inputs and all outputs\n",
        "inputCols=['Input1','Input2','Input3','Input4'];\n",
        "outputCols=['Output2']\n",
        "\n",
        "model_inputs=twisting_data_model_pca[inputCols]\n",
        "model_outputs=twisting_data_model_pca[outputCols] \n",
        "test_inputs=twisting_data_test_pca[inputCols]\n",
        "test_outputs=twisting_data_test_pca[outputCols]\n",
        "lin_reg_model=md.linear_regression_modeling(model_inputs,model_outputs,test_inputs,test_outputs)\n",
        "actual_out=test_outputs\n",
        "predict_out=lin_reg_model['predict_test_output']\n",
        "fig=go.Figure()\n",
        "fig.add_trace(go.Scatter3d(x=test_inputs['Input1'],y=test_inputs['Input2'].to_list(),z=actual_out['Output2'].to_list(),mode='markers',marker={'size':2},name='Actual'))\n",
        "fig.add_trace(go.Scatter3d(x=test_inputs['Input1'],y=test_inputs['Input2'],z=predict_out[:,0],mode='markers',marker={'size':2},name='Predicted'))\n",
        "fig.show()"
      ],
      "metadata": {
        "id": "h0AUm2M2zHoT"
      },
      "execution_count": null,
      "outputs": []
    },
    {
      "cell_type": "code",
      "source": [
        "#Linear regression with selected\n",
        "inputCols=['Input4','Input2','Input3']\n",
        "outputCols=['Output2']\n",
        "\n",
        "model_inputs=twisting_data_model_pca[inputCols]\n",
        "model_outputs=twisting_data_model_pca[outputCols] \n",
        "test_inputs=twisting_data_test_pca[inputCols]\n",
        "test_outputs=twisting_data_test_pca[outputCols] #\n",
        "lin_reg_model=md.linear_regression_modeling(model_inputs,model_outputs,test_inputs,test_outputs)\n",
        "actual_out=test_outputs\n",
        "predict_out=lin_reg_model['predict_test_output']\n",
        "fig=go.Figure()\n",
        "fig.add_trace(go.Scatter3d(x=test_inputs['Input4'].to_list(),y=test_inputs['Input2'].to_list(),z=actual_out['Output2'].to_list(),mode='markers',marker={'size':2},name='Actual'))\n",
        "fig.add_trace(go.Scatter3d(x=test_inputs['Input4'].to_list(),y=test_inputs['Input2'],z=predict_out[:,0],mode='markers',marker={'size':2},name='Predicted'))\n",
        "fig.show()"
      ],
      "metadata": {
        "id": "nMH8VeozzVWZ"
      },
      "execution_count": null,
      "outputs": []
    },
    {
      "cell_type": "code",
      "source": [
        "#Polinomaial regressionregression with a11 inputs\n",
        "\n",
        "inputCols=['Input1','Input2','Input3','Input4']\n",
        "outputCols=['Output2']\n",
        "poly=2;\n",
        "\n",
        "model_inputs=twisting_data_model_pca[inputCols]\n",
        "model_outputs=twisting_data_model_pca[outputCols] \n",
        "test_inputs=twisting_data_test_pca[inputCols]\n",
        "test_outputs=twisting_data_test_pca[outputCols] #\n",
        "poly = PolynomialFeatures(poly)\n",
        "model_inputs_poly=pd.DataFrame(poly.fit_transform(model_inputs.to_numpy()))\n",
        "test_inputs_poly=pd.DataFrame(poly.fit_transform(test_inputs.to_numpy()))\n",
        "lin_reg_model=md.linear_regression_modeling(model_inputs_poly,model_outputs,test_inputs_poly,test_outputs)\n",
        "actual_out=test_outputs\n",
        "predict_out=lin_reg_model['predict_test_output']\n",
        "#fig=go.Figure()\n",
        "##fig.add_trace(go.Scatter3d(x=test_inputs['Input4'].to_list(),y=test_inputs['Input2'].to_list(),z=actual_out['Output2'].to_list(),mode='markers',marker={'size':2},name='Actual'))\n",
        "#fig.add_trace(go.Scatter3d(x=test_inputs['Input4'].to_list(),y=test_inputs['Input2'],z=predict_out[:,0],mode='markers',marker={'size':2},name='Predicted'))\n",
        "#fig.show()"
      ],
      "metadata": {
        "id": "DTesuKlDzWFz"
      },
      "execution_count": null,
      "outputs": []
    },
    {
      "cell_type": "code",
      "source": [
        "#Polinomaial regressionregression with selected\n",
        "\n",
        "inputCols=['Input1','Input2','Input3','Input4']\n",
        "outputCols=['Output2']\n",
        "poly=2;\n",
        "\n",
        "model_inputs=twisting_data_model_pca[inputCols]\n",
        "model_outputs=twisting_data_model_pca[outputCols] \n",
        "test_inputs=twisting_data_test_pca[inputCols]\n",
        "test_outputs=twisting_data_test_pca[outputCols] #\n",
        "poly = PolynomialFeatures(poly)\n",
        "model_inputs_poly=pd.DataFrame(poly.fit_transform(model_inputs.to_numpy()))\n",
        "test_inputs_poly=pd.DataFrame(poly.fit_transform(test_inputs.to_numpy()))\n",
        "lin_reg_model=md.linear_regression_modeling(model_inputs_poly,model_outputs,test_inputs_poly,test_outputs)\n",
        "actual_out=test_outputs\n",
        "predict_out=lin_reg_model['predict_test_output']\n",
        "#fig=go.Figure()\n",
        "##fig.add_trace(go.Scatter3d(x=test_inputs['Input4'].to_list(),y=test_inputs['Input2'].to_list(),z=actual_out['Output2'].to_list(),mode='markers',marker={'size':2},name='Actual'))\n",
        "#fig.add_trace(go.Scatter3d(x=test_inputs['Input4'].to_list(),y=test_inputs['Input2'],z=predict_out[:,0],mode='markers',marker={'size':2},name='Predicted'))\n",
        "#fig.show()"
      ],
      "metadata": {
        "id": "-vVkK7orzZB0"
      },
      "execution_count": null,
      "outputs": []
    },
    {
      "cell_type": "markdown",
      "source": [
        "##Model Validation"
      ],
      "metadata": {
        "id": "bhxkFPhcIa8D"
      }
    },
    {
      "cell_type": "code",
      "source": [
        "bending_unit_cell_fit_transform(bending_data_frame)"
      ],
      "metadata": {
        "id": "ljHCp5ZS_voB"
      },
      "execution_count": null,
      "outputs": []
    },
    {
      "cell_type": "markdown",
      "source": [
        "#Twisting data"
      ],
      "metadata": {
        "id": "ZVwB-CJ6Lj52"
      }
    },
    {
      "cell_type": "markdown",
      "source": [
        "##Functions"
      ],
      "metadata": {
        "id": "1838Q4v_vmc3"
      }
    },
    {
      "cell_type": "code",
      "source": [
        "\n",
        "\n",
        "def twisting_unit_cell_model(axial_data_model):\n",
        "    inputCols=['Input1','Input2','Input3']\n",
        "    outputCols=['Output2','Output5',]\n",
        "    model_inputs=axial_data_model[inputCols]\n",
        "    model_outputs=axial_data_model[outputCols] \n",
        "    regr1 = linear_model.LinearRegression()\n",
        "    linregModel1=regr1.fit(model_inputs, model_outputs)\n",
        "\n",
        "    model_inputs=axial_data_model[['Input4','Output2']]\n",
        "    model_outputs=axial_data_model[['Output3','Output4']]\n",
        "    poly = PolynomialFeatures(1)\n",
        "    model_inputs_poly=pd.DataFrame(poly.fit_transform(model_inputs.to_numpy()))\n",
        "\n",
        "\n",
        "    regr2 = linear_model.LinearRegression()\n",
        "    linregModel2=regr2.fit(model_inputs_poly, model_outputs)\n",
        "    return [linregModel1,linregModel2]\n",
        "\n",
        "def twisting_unit_cell_predict(linregModel1,linregModel2,axial_data_inputs):\n",
        "    inputCols=['Input1','Input2','Input3']\n",
        "    axial_data_inputs=axial_data_inputs.copy()\n",
        "    test_inputs1=axial_data_inputs[inputCols]\n",
        "    predict_test_outputs1=linregModel1.predict(test_inputs1)\n",
        "    predict_test_outputs_PDF=pd.DataFrame(predict_test_outputs1,columns=['Output2','Output5'])\n",
        "    \n",
        "    axial_data_inputs['Output1']=(predict_test_outputs_PDF**2).sum(axis='columns').apply(np.sqrt).to_list()\n",
        "    predict_test_outputs_PDF['Output1']=(predict_test_outputs_PDF**2).sum(axis='columns').apply(np.sqrt).to_list()\n",
        "\n",
        "    test_inputs2=axial_data_inputs[['Input4','Input2']]\n",
        "    poly = PolynomialFeatures(1)\n",
        "    test_inputs2_poly=pd.DataFrame(poly.fit_transform(test_inputs2.to_numpy()))\n",
        "    predict_test_outputs2=linregModel2.predict(test_inputs2_poly)\n",
        "    predict_test_outputs_PDF['Output3']=predict_test_outputs2[:,0]\n",
        "    predict_test_outputs_PDF['Output4']=predict_test_outputs2[:,1]\n",
        "    return [test_inputs2_poly,predict_test_outputs_PDF]\n",
        "\n",
        "\n",
        "\n",
        "def dicision_tree(x,y):\n",
        "\n",
        "     X_train, X_test, y_train, y_test = train_test_split(X, y, test_size=0.2, random_state=42)\n",
        "\n",
        "     regressor = DecisionTreeRegressor(random_state=42)\n",
        "\n",
        "     regressor.fit(X_train, y_train)\n",
        "\n",
        "     y_pred = regressor.predict(X_test)\n",
        "\n",
        "     mse = mean_squared_error(y_test, y_pred)\n",
        "     print(\"Mean Squared Error:\", mse)\n",
        "     return mse;\n",
        "\n",
        "\n",
        "def twisting_unit_cell_Validation(data_frame):\n",
        "\n",
        "    data_model,data_test=train_test_split(data_frame,test_size=0.2)\n",
        "    #Output4\n",
        "    inputCols1=['Input1','Input2','Input3','Input4']\n",
        "    outputCols1=['Output4']\n",
        "\n",
        "    model_outputs1=data_model[outputCols1]\n",
        "    test_outputs1=data_test[outputCols1]\n",
        "    model_inputs1=data_model[inputCols1]\n",
        "    test_inputs1=data_test[inputCols1]\n",
        "\n",
        "    model_fit_output1=md.regression_modeling_with_PCA(2,model_inputs1,model_outputs1,test_inputs1,test_outputs1)\n",
        "\n",
        "    InputsReal1=test_inputs1\n",
        "    OutputsReal1=test_outputs1\n",
        "    predict1_out=pd.DataFrame(model_fit_output1['predict_test_output'],columns=outputCols1)\n",
        "    fig=go.Figure()\n",
        "    fig.add_trace(go.Scatter3d(x=InputsReal1['Input1'],y=InputsReal1['Input2'],z=OutputsReal1['Output4'],mode='markers',marker={'size':2},name='Actual'))\n",
        "    fig.add_trace(go.Scatter3d(x=InputsReal1['Input1'],y=InputsReal1['Input2'],z=predict1_out['Output4'],mode='markers',marker={'size':2},name='Predicted'))\n",
        "    fig.show()\n",
        "\n",
        "    #Output2\n",
        "    inputCols2=['Input1','Input2','Input3','Input4','Output4']\n",
        "    outputCols2=['Output2']\n",
        "\n",
        "    model_outputs2=data_model[outputCols2]\n",
        "    test_outputs2=data_test[outputCols2]\n",
        "    model_inputs2=data_model[inputCols2]\n",
        "    test_inputs2=data_test[inputCols2]\n",
        "    model_fit_output2=md.regression_modeling_with_PCA(2,model_inputs2,model_outputs2,test_inputs2,test_outputs2)\n",
        "    \n",
        "    InputsReal2=test_inputs2\n",
        "    OutputsReal2=test_outputs2\n",
        "    predict2_out=pd.DataFrame(model_fit_output2['predict_test_output'],columns=outputCols2)\n",
        "    \n",
        "    fig2=go.Figure()\n",
        "    fig2.add_trace(go.Scatter3d(x=InputsReal2['Input4'],y=InputsReal2['Input1'],z=OutputsReal2['Output2'],mode='markers',marker={'size':2},name='Actual'))\n",
        "    fig2.add_trace(go.Scatter3d(x=InputsReal2['Input4'],y=InputsReal2['Input1'],z=predict2_out['Output2'],mode='markers',marker={'size':2},name='Predicted'))\n",
        "    fig2.show()\n",
        "\n",
        "    #Output3\n",
        "    inputCols3=['Input1','Input2','Input3','Input4','Output2']\n",
        "    outputCols3=['Output3']\n",
        "\n",
        "    model_outputs3=data_model[outputCols3]\n",
        "    test_outputs3=data_test[outputCols3]\n",
        "    model_inputs3=data_model[inputCols3]\n",
        "    test_inputs3=data_test[inputCols3]\n",
        "    model_fit_output3=md.regression_modeling_with_PCA(3,model_inputs3,model_outputs3,test_inputs3,test_outputs3)\n",
        "    \n",
        "    InputsReal3=test_inputs3\n",
        "    OutputsReal3=test_outputs3\n",
        "    predict3_out=pd.DataFrame(model_fit_output3['predict_test_output'],columns=outputCols3)\n",
        "    \n",
        "    fig2=go.Figure()\n",
        "    fig2.add_trace(go.Scatter3d(x=InputsReal3['Input4'],y=InputsReal3['Input1'],z=OutputsReal3['Output3'],mode='markers',marker={'size':2},name='Actual'))\n",
        "    fig2.add_trace(go.Scatter3d(x=InputsReal3['Input4'],y=InputsReal3['Input1'],z=predict3_out['Output3'],mode='markers',marker={'size':2},name='Predicted'))\n",
        "    fig2.show()\n",
        "\n",
        "    #Output5\n",
        "    inputCols4=['Input1','Input2','Input3','Input4','Output1']\n",
        "    outputCols4=['Output5']\n",
        "\n",
        "    model_outputs4=data_model[outputCols4]\n",
        "    test_outputs4=data_test[outputCols4]\n",
        "    model_inputs4=data_model[inputCols4]\n",
        "    test_inputs4=data_test[inputCols4]\n",
        "    model_fit_output4=md.regression_modeling_with_PCA(3,model_inputs4,model_outputs4,test_inputs4,test_outputs4)\n",
        "    \n",
        "    InputsReal4=test_inputs4\n",
        "    OutputsReal4=test_outputs4\n",
        "    predict4_out=pd.DataFrame(model_fit_output4['predict_test_output'],columns=outputCols4)\n",
        "    \n",
        "    fig2=go.Figure()\n",
        "    fig2.add_trace(go.Scatter3d(x=InputsReal4['Input4'],y=InputsReal4['Input1'],z=OutputsReal4['Output5'],mode='markers',marker={'size':2},name='Actual'))\n",
        "    fig2.add_trace(go.Scatter3d(x=InputsReal4['Input4'],y=InputsReal4['Input1'],z=predict4_out['Output5'],mode='markers',marker={'size':2},name='Predicted'))\n",
        "    fig2.show()\n",
        "\n",
        "\n",
        "    yPredict=pd.concat([predict1_out,predict2_out,predict3_out,predict4_out],axis=1)\n",
        "    r2Score=r2_score(data_test[outputCols1+outputCols2+outputCols3+outputCols4],yPredict[outputCols1+outputCols2+outputCols3+outputCols4])\n",
        "    return yPredict,r2Score"
      ],
      "metadata": {
        "id": "5TP1GpT7AIdY"
      },
      "execution_count": 398,
      "outputs": []
    },
    {
      "cell_type": "code",
      "source": [
        "data=twisting_data_frame"
      ],
      "metadata": {
        "id": "djvXCkNZAMl_"
      },
      "execution_count": null,
      "outputs": []
    },
    {
      "cell_type": "markdown",
      "source": [
        "##Data Visualization"
      ],
      "metadata": {
        "id": "lj48huD3vpyf"
      }
    },
    {
      "cell_type": "code",
      "source": [
        "data=twisting_data_frame"
      ],
      "metadata": {
        "id": "jOaKP9KDwb-a"
      },
      "execution_count": null,
      "outputs": []
    },
    {
      "cell_type": "code",
      "source": [
        "#User inputs - Drop down menus\n",
        "histGpCol=None # Pick from drop down list [None]+categoryCols\n",
        "histPltCol='Output1' #'new_cases' # Pick from drop down list [None]+categoryCols\n",
        "histPltValCol=histPltCol #'new_cases' #'people_vaccinated' #'total_deaths' #'icu_patients_per_million' #'total_boosters_per_hundred' #None # Pick from drop down list [None]+valueCols\n",
        "#Python code\n",
        "histPlotDataPDF=pd.DataFrame()\n",
        "#histGpFldList=list(set(data[histGpCol].to_list()))\n",
        "#histGpFldList.sort()\n",
        "histPltFldList=list(set(data[histPltCol].to_list()))\n",
        "histPltFldList.sort()\n",
        "histPlotDataPDF[histPltValCol]=[float(xx) for xx in data[histPltValCol].to_list()] #[data[histPltCol].isin(histPltFldList)]\n",
        "binRange=[min([float(xx) for xx in histPlotDataPDF[histPltValCol].to_list()]),max([float(xx) for xx in histPlotDataPDF[histPltValCol].to_list()])]\n",
        "binSize=((binRange[1]-binRange[0])/100)+0*1\n",
        "xLabelHist=histPltValCol\n",
        "yLabelHist='Numbers'\n",
        "histTitle=histPltValCol\n",
        "figHist=hist_plot(False, histPlotDataPDF, binRange, binSize, histGpCol, histPltValCol, histTitle, xLabelHist, yLabelHist)\n",
        "figHist.show()\n",
        "\n"
      ],
      "metadata": {
        "id": "dTwHsqHVwpii"
      },
      "execution_count": null,
      "outputs": []
    },
    {
      "cell_type": "code",
      "source": [
        "data"
      ],
      "metadata": {
        "id": "3dQPUxcFxG37"
      },
      "execution_count": null,
      "outputs": []
    },
    {
      "cell_type": "code",
      "source": [
        "#2d scatter plots input vs output\n",
        "fig=go.Figure()\n",
        "scatterDataPDF=data\n",
        "xcol='Input1'\n",
        "for ycol in ['Output1','Output2','Output3','Output4','Output5']:\n",
        "    fig.add_trace(go.Scatter(x=scatterDataPDF[xcol].to_list(), y=scatterDataPDF[ycol].to_list(),mode='markers',name=ycol))\n",
        "fig.show()"
      ],
      "metadata": {
        "id": "LgzdZiIEwr4A"
      },
      "execution_count": null,
      "outputs": []
    },
    {
      "cell_type": "code",
      "source": [
        "#3d scatter plots input vs output\n",
        "fig=go.Figure()\n",
        "scatter3Ddata=data\n",
        "xcol='Input1'; ycol='Input3'; zcol='Output5';\n",
        "fig.add_trace(go.Scatter3d(x=scatter3Ddata[xcol].to_list(),y=scatter3Ddata[ycol].to_list(),z=scatter3Ddata[zcol].to_list(),mode='markers',marker={'size':2}))"
      ],
      "metadata": {
        "id": "y0VRPczTwuqY"
      },
      "execution_count": null,
      "outputs": []
    },
    {
      "cell_type": "code",
      "source": [
        "#2d scatter plots input vs output(special case inputi=0 -> output)\n",
        "fig=go.Figure()\n",
        "scatterDataPDF=data[((data['Input2']==0) & (data['Input3']==0))] \n",
        "xcol='Input1'\n",
        "for ycol in ['Output1','Output2','Output3','Output4','Output5']:\n",
        "    fig.add_trace(go.Scatter(x=scatterDataPDF[xcol].to_list(), y=scatterDataPDF[ycol].to_list(),mode='markers',name=ycol))\n",
        "fig.show()"
      ],
      "metadata": {
        "id": "AZkFQof1w5mf"
      },
      "execution_count": null,
      "outputs": []
    },
    {
      "cell_type": "code",
      "source": [
        "#3d scatter plots input vs output(special case inputi=0 -> output)\n",
        "fig=go.Figure()\n",
        "scatter3Ddata=data[((data['Input4']==0) & (data['Input2']==0))] #data\n",
        "xcol='Input1'; ycol='Input3'; zcol='Output5';\n",
        "fig.add_trace(go.Scatter3d(x=scatter3Ddata[xcol].to_list(),y=scatter3Ddata[ycol].to_list(),z=scatter3Ddata[zcol].to_list(),mode='markers'))"
      ],
      "metadata": {
        "id": "AJ0AoRLLw9NB"
      },
      "execution_count": null,
      "outputs": []
    },
    {
      "cell_type": "markdown",
      "source": [
        "##Coralationn Analysis"
      ],
      "metadata": {
        "id": "PPORgru5vw9w"
      }
    },
    {
      "cell_type": "markdown",
      "source": [
        "###Input and Output"
      ],
      "metadata": {
        "id": "fdcs1du-yzXZ"
      }
    },
    {
      "cell_type": "code",
      "source": [
        "data=twisting_data_frame\n",
        "outputLabels=['Output1','Output2','Output3','Output4','Output5']\n",
        "X=data[['Input1','Input2','Input3','Input4']]\n",
        "fig=go.Figure()\n",
        "rvals=[]\n",
        "for i,lbl in enumerate(outputLabels):\n",
        "    y=data[lbl]\n",
        "    rr=r_regression(X, y.to_numpy())\n",
        "    print(rr)\n",
        "    fig.add_trace(go.Scatter(y=rr,name=lbl))\n",
        "fig.show()"
      ],
      "metadata": {
        "id": "PPtKFT1DzEFv"
      },
      "execution_count": null,
      "outputs": []
    },
    {
      "cell_type": "markdown",
      "source": [
        "###Output and Output"
      ],
      "metadata": {
        "id": "jYpsqGihy4cI"
      }
    },
    {
      "cell_type": "code",
      "source": [
        "data=twisting_data_frame\n",
        "outputLabels=['Output1','Output2','Output3','Output4','Output5']\n",
        "X=data[outputLabels]\n",
        "fig=go.Figure()\n",
        "rvals=[]\n",
        "for i,lbl in enumerate(outputLabels):\n",
        "    y=data[lbl]\n",
        "    rr=r_regression(X, y.to_numpy())\n",
        "    print(rr)\n",
        "    fig.add_trace(go.Scatter(y=rr,name=lbl))\n",
        "fig.show()"
      ],
      "metadata": {
        "id": "1qiWyiNXzFAn"
      },
      "execution_count": null,
      "outputs": []
    },
    {
      "cell_type": "markdown",
      "source": [
        "##PCA Analysis"
      ],
      "metadata": {
        "id": "oIzW7zSUvsa5"
      }
    },
    {
      "cell_type": "markdown",
      "source": [
        "##Model Developing"
      ],
      "metadata": {
        "id": "qE-fh2vMv6Lh"
      }
    },
    {
      "cell_type": "markdown",
      "source": [
        "####Model Developing "
      ],
      "metadata": {
        "id": "znFgIrDMxFFl"
      }
    },
    {
      "cell_type": "code",
      "source": [
        "#Linear regression with all inputs and all outputs\n",
        "inputCols=['Input1','Input2','Input3','Input4'];\n",
        "outputCols=['Output1','Output2','Output3','Output4','Output5']\n",
        "\n",
        "model_inputs=twisting_data_model[inputCols]\n",
        "model_outputs=twisting_data_model[outputCols] \n",
        "test_inputs=twisting_data_test[inputCols]\n",
        "test_outputs=twisting_data_test[outputCols] #\n",
        "lin_reg_model=md.linear_regression_modeling(model_inputs,model_outputs,test_inputs,test_outputs)\n",
        "actual_out=test_outputs\n",
        "predict_out=lin_reg_model['predict_test_output']\n",
        "fig=go.Figure()\n",
        "fig.add_trace(go.Scatter3d(x=actual_out['Output2'],y=actual_out['Output3'].to_list(),z=actual_out['Output4'].to_list(),mode='markers',marker={'size':2},name='Actual'))\n",
        "fig.add_trace(go.Scatter3d(x=predict_out[:,1],y=predict_out[:,2],z=predict_out[:,3],mode='markers',marker={'size':2},name='Predicted'))\n",
        "fig.show()"
      ],
      "metadata": {
        "id": "MaXQ6IuXIwPo"
      },
      "execution_count": null,
      "outputs": []
    },
    {
      "cell_type": "code",
      "source": [
        "#Linear regression with selected\n",
        "inputCols=['Input1','Input2','Input3']\n",
        "outputCols=['Output2','Output5']\n",
        "\n",
        "model_inputs=twisting_data_model[inputCols]\n",
        "model_outputs=twisting_data_model[outputCols] \n",
        "test_inputs=twisting_data_test[inputCols]\n",
        "test_outputs=twisting_data_test[outputCols] #\n",
        "lin_reg_model=md.linear_regression_modeling(model_inputs,model_outputs,test_inputs,test_outputs)\n",
        "actual_out=test_outputs\n",
        "predict_out=lin_reg_model['predict_test_output']\n",
        "fig=go.Figure()\n",
        "fig.add_trace(go.Scatter3d(x=test_inputs['Input1'].to_list(),y=actual_out['Output2'].to_list(),z=actual_out['Output5'].to_list(),mode='markers',marker={'size':2},name='Actual'))\n",
        "fig.add_trace(go.Scatter3d(x=test_inputs['Input1'].to_list(),y=predict_out[:,0],z=predict_out[:,1],mode='markers',marker={'size':2},name='Predicted'))\n",
        "fig.show()"
      ],
      "metadata": {
        "id": "b-1IyhGBJlpg"
      },
      "execution_count": null,
      "outputs": []
    },
    {
      "cell_type": "code",
      "source": [
        "#Polinomaial regressionregression with selected inputs\n",
        "\n",
        "inputCols=['Input1','Input2','Input3']\n",
        "outputCols=['Output2','Output5']\n",
        "poly=2;\n",
        "\n",
        "model_inputs=twisting_data_model[inputCols]\n",
        "model_outputs=twisting_data_model[outputCols] \n",
        "test_inputs=twisting_data_test[inputCols]\n",
        "test_outputs=twisting_data_test[outputCols] #\n",
        "poly = PolynomialFeatures(poly)\n",
        "model_inputs_poly=pd.DataFrame(poly.fit_transform(model_inputs.to_numpy()))\n",
        "test_inputs_poly=pd.DataFrame(poly.fit_transform(test_inputs.to_numpy()))\n",
        "lin_reg_model=md.linear_regression_modeling(model_inputs_poly,model_outputs,test_inputs_poly,test_outputs)\n",
        "actual_out=test_outputs\n",
        "predict_out=lin_reg_model['predict_test_output']\n",
        "fig=go.Figure()\n",
        "fig.add_trace(go.Scatter3d(x=test_inputs['Input1'].to_list(),y=actual_out['Output2'].to_list(),z=actual_out['Output5'].to_list(),mode='markers',marker={'size':2},name='Actual'))\n",
        "fig.add_trace(go.Scatter3d(x=test_inputs['Input1'].to_list(),y=predict_out[:,0],z=predict_out[:,1],mode='markers',marker={'size':2},name='Predicted'))\n",
        "fig.show()"
      ],
      "metadata": {
        "id": "xEaoGirpNKP9"
      },
      "execution_count": null,
      "outputs": []
    },
    {
      "cell_type": "code",
      "source": [
        "#Linear regression with selected inputs\n",
        "inputCols=['Input4','Input2','Input1']\n",
        "outputCols=['Output3','Output4']\n",
        "\n",
        "model_inputs=twisting_data_model[inputCols]\n",
        "model_outputs=twisting_data_model[outputCols] \n",
        "test_inputs=twisting_data_test[inputCols]\n",
        "test_outputs=twisting_data_test[outputCols] #\n",
        "lin_reg_model=md.linear_regression_modeling(model_inputs,model_outputs,test_inputs,test_outputs)\n",
        "actual_out=test_outputs\n",
        "predict_out=lin_reg_model['predict_test_output']\n",
        "fig=go.Figure()\n",
        "fig.add_trace(go.Scatter3d(x=test_inputs['Input4'].to_list(),y=actual_out['Output3'].to_list(),z=actual_out['Output4'].to_list(),mode='markers',marker={'size':2},name='Actual'))\n",
        "fig.add_trace(go.Scatter3d(x=test_inputs['Input4'].to_list(),y=predict_out[:,0],z=predict_out[:,1],mode='markers',marker={'size':2},name='Predicted'))\n",
        "fig.show()"
      ],
      "metadata": {
        "id": "hhJ1bRWj9iT_"
      },
      "execution_count": null,
      "outputs": []
    },
    {
      "cell_type": "code",
      "source": [
        "#Polinomaial regressionregression with selected inputs\n",
        "\n",
        "inputCols=['Input4','Input2','Input1']\n",
        "outputCols=['Output3','Output4']\n",
        "poly=2;\n",
        "\n",
        "model_inputs=twisting_data_model[inputCols]\n",
        "model_outputs=twisting_data_model[outputCols] \n",
        "test_inputs=twisting_data_test[inputCols]\n",
        "test_outputs=twisting_data_test[outputCols] #\n",
        "poly = PolynomialFeatures(poly)\n",
        "model_inputs_poly=pd.DataFrame(poly.fit_transform(model_inputs.to_numpy()))\n",
        "test_inputs_poly=pd.DataFrame(poly.fit_transform(test_inputs.to_numpy()))\n",
        "lin_reg_model=md.linear_regression_modeling(model_inputs_poly,model_outputs,test_inputs_poly,test_outputs)\n",
        "actual_out=test_outputs\n",
        "predict_out=lin_reg_model['predict_test_output']\n",
        "fig=go.Figure()\n",
        "fig.add_trace(go.Scatter3d(x=test_inputs['Input4'].to_list(),y=actual_out['Output3'].to_list(),z=actual_out['Output4'].to_list(),mode='markers',marker={'size':2},name='Actual'))\n",
        "fig.add_trace(go.Scatter3d(x=test_inputs['Input4'].to_list(),y=predict_out[:,0],z=predict_out[:,1],mode='markers',marker={'size':2},name='Predicted'))\n",
        "fig.show()"
      ],
      "metadata": {
        "id": "p1xDnnPq-GV-"
      },
      "execution_count": null,
      "outputs": []
    },
    {
      "cell_type": "code",
      "source": [
        "#Decision tree\n",
        "\n",
        "inputCols=['Input4','Input2','Input1']\n",
        "outputCols=['Output3','Output4']\n",
        "\n",
        "model_inputs=twisting_data_model[inputCols]\n",
        "model_outputs=twisting_data_model[outputCols] \n",
        "test_inputs=twisting_data_test[inputCols]\n",
        "test_outputs=twisting_data_test[outputCols] \n",
        "\n",
        "\n",
        "regressor = DecisionTreeRegressor(random_state=100)\n",
        "\n",
        "regressor.fit(model_inputs,model_outputs)\n",
        "test_pred_outputs = regressor.predict(test_inputs)\n",
        "\n",
        "mse = mean_squared_error(test_outputs, test_pred_outputs )\n",
        "r2core=r2_score(test_outputs, test_pred_outputs )\n",
        "print(\"R2 score:\", r2core)\n",
        "\n",
        "actual_out=test_outputs\n",
        "predict_out=test_pred_outputs\n",
        "fig=go.Figure()\n",
        "fig.add_trace(go.Scatter3d(x=test_inputs['Input4'].to_list(),y=actual_out['Output3'].to_list(),z=actual_out['Output4'].to_list(),mode='markers',marker={'size':2},name='Actual'))\n",
        "fig.add_trace(go.Scatter3d(x=test_inputs['Input4'].to_list(),y=predict_out[:,0],z=predict_out[:,1],mode='markers',marker={'size':2},name='Predicted'))\n",
        "fig.show()\n",
        "\n"
      ],
      "metadata": {
        "id": "Gu1J62jjQ3bV"
      },
      "execution_count": null,
      "outputs": []
    },
    {
      "cell_type": "code",
      "source": [
        "#Decision tree\n",
        "\n",
        "inputCols=['Input1','Input2','Input3']\n",
        "outputCols=['Output2','Output5']\n",
        "\n",
        "model_inputs=twisting_data_model[inputCols]\n",
        "model_outputs=twisting_data_model[outputCols] \n",
        "test_inputs=twisting_data_test[inputCols]\n",
        "test_outputs=twisting_data_test[outputCols] \n",
        "\n",
        "\n",
        "regressor = DecisionTreeRegressor(random_state=100)\n",
        "\n",
        "regressor.fit(model_inputs,model_outputs)\n",
        "test_pred_outputs = regressor.predict(test_inputs)\n",
        "\n",
        "mse = mean_squared_error(test_outputs, test_pred_outputs )\n",
        "r2core=r2_score(test_outputs, test_pred_outputs )\n",
        "print(\"R2 score:\", r2core)\n",
        "\n",
        "actual_out=test_outputs\n",
        "predict_out=test_pred_outputs\n",
        "fig=go.Figure()\n",
        "fig.add_trace(go.Scatter3d(x=test_inputs['Input1'].to_list(),y=actual_out['Output2'].to_list(),z=actual_out['Output5'].to_list(),mode='markers',marker={'size':2},name='Actual'))\n",
        "fig.add_trace(go.Scatter3d(x=test_inputs['Input1'].to_list(),y=predict_out[:,0],z=predict_out[:,1],mode='markers',marker={'size':2},name='Predicted'))\n",
        "fig.show()\n"
      ],
      "metadata": {
        "id": "iI7PZCEQUTPF"
      },
      "execution_count": null,
      "outputs": []
    },
    {
      "cell_type": "markdown",
      "source": [
        "###Model For Output2"
      ],
      "metadata": {
        "id": "BZoWd50ks8sf"
      }
    },
    {
      "cell_type": "markdown",
      "source": [
        "####Original inputs spcacece"
      ],
      "metadata": {
        "id": "vygYb6b4Z6fv"
      }
    },
    {
      "cell_type": "code",
      "source": [
        "#Linear regression with all inputs and all outputs\n",
        "inputCols=['Input1','Input2','Input3','Input4'];\n",
        "outputCols=['Output2']\n",
        "\n",
        "model_inputs=twisting_data_model[inputCols]\n",
        "model_outputs=twisting_data_model[outputCols] \n",
        "test_inputs=twisting_data_test[inputCols]\n",
        "test_outputs=twisting_data_test[outputCols] #\n",
        "lin_reg_model=md.linear_regression_modeling(model_inputs,model_outputs,test_inputs,test_outputs)\n",
        "actual_out=test_outputs\n",
        "predict_out=lin_reg_model['predict_test_output']\n",
        "fig=go.Figure()\n",
        "fig.add_trace(go.Scatter3d(x=test_inputs['Input1'],y=test_inputs['Input2'].to_list(),z=actual_out['Output2'].to_list(),mode='markers',marker={'size':2},name='Actual'))\n",
        "fig.add_trace(go.Scatter3d(x=test_inputs['Input1'],y=test_inputs['Input2'],z=predict_out[:,0],mode='markers',marker={'size':2},name='Predicted'))\n",
        "fig.show()"
      ],
      "metadata": {
        "id": "UZ0ihkbLaMr4"
      },
      "execution_count": null,
      "outputs": []
    },
    {
      "cell_type": "code",
      "source": [
        "#Linear regression with selected\n",
        "inputCols=['Input4','Input2','Input3']\n",
        "outputCols=['Output2']\n",
        "\n",
        "model_inputs=twisting_data_model[inputCols]\n",
        "model_outputs=twisting_data_model[outputCols] \n",
        "test_inputs=twisting_data_test[inputCols]\n",
        "test_outputs=twisting_data_test[outputCols] #\n",
        "lin_reg_model=md.linear_regression_modeling(model_inputs,model_outputs,test_inputs,test_outputs)\n",
        "actual_out=test_outputs\n",
        "predict_out=lin_reg_model['predict_test_output']\n",
        "fig=go.Figure()\n",
        "fig.add_trace(go.Scatter3d(x=test_inputs['Input4'].to_list(),y=test_inputs['Input2'].to_list(),z=actual_out['Output2'].to_list(),mode='markers',marker={'size':2},name='Actual'))\n",
        "fig.add_trace(go.Scatter3d(x=test_inputs['Input4'].to_list(),y=test_inputs['Input2'],z=predict_out[:,0],mode='markers',marker={'size':2},name='Predicted'))\n",
        "fig.show()"
      ],
      "metadata": {
        "id": "Q4Z19j4ocV3g"
      },
      "execution_count": null,
      "outputs": []
    },
    {
      "cell_type": "code",
      "source": [
        "#Polinomaial regressionregression with selected inputs\n",
        "\n",
        "inputCols=['Input4','Input2','Input3']\n",
        "outputCols=['Output2']\n",
        "poly=3;\n",
        "\n",
        "model_inputs=twisting_data_model[inputCols]\n",
        "model_outputs=twisting_data_model[outputCols] \n",
        "test_inputs=twisting_data_test[inputCols]\n",
        "test_outputs=twisting_data_test[outputCols] #\n",
        "poly = PolynomialFeatures(poly)\n",
        "model_inputs_poly=pd.DataFrame(poly.fit_transform(model_inputs.to_numpy()))\n",
        "test_inputs_poly=pd.DataFrame(poly.fit_transform(test_inputs.to_numpy()))\n",
        "lin_reg_model=md.linear_regression_modeling(model_inputs_poly,model_outputs,test_inputs_poly,test_outputs)\n",
        "actual_out=test_outputs\n",
        "predict_out=lin_reg_model['predict_test_output']\n",
        "fig=go.Figure()\n",
        "fig.add_trace(go.Scatter3d(x=test_inputs['Input4'].to_list(),y=test_inputs['Input2'].to_list(),z=actual_out['Output2'].to_list(),mode='markers',marker={'size':2},name='Actual'))\n",
        "fig.add_trace(go.Scatter3d(x=test_inputs['Input4'].to_list(),y=test_inputs['Input2'],z=predict_out[:,0],mode='markers',marker={'size':2},name='Predicted'))\n",
        "fig.show()"
      ],
      "metadata": {
        "id": "WCxBfv7kdiNj"
      },
      "execution_count": null,
      "outputs": []
    },
    {
      "cell_type": "code",
      "source": [
        "#Decision tree\n",
        "\n",
        "inputCols=['Input1','Input2','Input3','Input3']\n",
        "outputCols=['Output2']\n",
        "\n",
        "model_inputs=twisting_data_model[inputCols]\n",
        "model_outputs=twisting_data_model[outputCols] \n",
        "test_inputs=twisting_data_test[inputCols]\n",
        "test_outputs=twisting_data_test[outputCols] \n",
        "\n",
        "\n",
        "regressor = DecisionTreeRegressor(random_state=100)\n",
        "\n",
        "regressor.fit(model_inputs,model_outputs)\n",
        "test_pred_outputs = regressor.predict(test_inputs)\n",
        "\n",
        "mse = mean_squared_error(test_outputs, test_pred_outputs )\n",
        "r2core=r2_score(test_outputs, test_pred_outputs )\n",
        "print(\"R2 score:\", r2core)\n",
        "\n",
        "actual_out=test_outputs\n",
        "predict_out=test_pred_outputs\n",
        "fig=go.Figure()\n",
        "fig.add_trace(go.Scatter3d(x=test_inputs['Input1'].to_list(),y=test_inputs['Input2'].to_list(),z=actual_out['Output2'].to_list(),mode='markers',marker={'size':2},name='Actual'))\n",
        "fig.add_trace(go.Scatter3d(x=test_inputs['Input1'].to_list(),y=test_inputs['Input2'],z=predict_out,mode='markers',marker={'size':2},name='Predicted'))\n",
        "fig.show()\n"
      ],
      "metadata": {
        "id": "53DaOHG6eGvf"
      },
      "execution_count": null,
      "outputs": []
    },
    {
      "cell_type": "markdown",
      "source": [
        "####Output2 -PC Space"
      ],
      "metadata": {
        "id": "IIw6Ebo5Sqa1"
      }
    },
    {
      "cell_type": "code",
      "source": [
        "#Pca analysis\n",
        "inputsp=twisting_data_frame[['Input1','Input2','Input3','Input4']]\n",
        "outputsp=twisting_data_frame[['Output1','Output2','Output3','Output4','Output5']] \n",
        "pca_in=sklearn.decomposition.PCA(n_components=4);\n",
        "pca_out=sklearn.decomposition.PCA(n_components=5);\n",
        "pca_input=pca_in.fit_transform(inputsp);\n",
        "pca_output=pca_out.fit_transform(outputsp);\n",
        "\n",
        "pca_input_pdf = pd.DataFrame(pca_input, columns = ['Input1','Input2','Input3','Input4'])\n",
        "pca_output_pdf = pd.DataFrame(pca_output, columns = ['Output1','Output2','Output3','Output4','Output5'])\n",
        "twisting_data_frame_pca= pd.concat([pca_input_pdf, pca_output_pdf], axis=1)\n",
        "twisting_data_model_pca,twisting_data_test_pca=train_test_split(twisting_data_frame_pca,test_size=0.2)"
      ],
      "metadata": {
        "id": "YM5oJp-IAK9M"
      },
      "execution_count": 279,
      "outputs": []
    },
    {
      "cell_type": "code",
      "source": [
        "#coraltion analysis\n",
        "data=twisting_data_frame_pca\n",
        "outputLabels=['Output1','Output2','Output3','Output4','Output5']\n",
        "X=data[['Input1','Input2','Input3','Input4']]\n",
        "fig=go.Figure()\n",
        "rvals=[]\n",
        "for i,lbl in enumerate(outputLabels):\n",
        "    y=data[lbl]\n",
        "    rr=r_regression(X, y.to_numpy())\n",
        "    print(rr)\n",
        "    fig.add_trace(go.Scatter(y=rr,name=lbl))\n",
        "fig.show()"
      ],
      "metadata": {
        "id": "YofBONDdgYIe"
      },
      "execution_count": null,
      "outputs": []
    },
    {
      "cell_type": "code",
      "source": [
        "#Linear regression with all inputs and all outputs\n",
        "inputCols=['Input1','Input2','Input3','Input4'];\n",
        "outputCols=['Output2']\n",
        "\n",
        "model_inputs=twisting_data_model_pca[inputCols]\n",
        "model_outputs=twisting_data_model_pca[outputCols] \n",
        "test_inputs=twisting_data_test_pca[inputCols]\n",
        "test_outputs=twisting_data_test_pca[outputCols]\n",
        "lin_reg_model=md.linear_regression_modeling(model_inputs,model_outputs,test_inputs,test_outputs)\n",
        "actual_out=test_outputs\n",
        "predict_out=lin_reg_model['predict_test_output']\n",
        "fig=go.Figure()\n",
        "fig.add_trace(go.Scatter3d(x=test_inputs['Input1'],y=test_inputs['Input2'].to_list(),z=actual_out['Output2'].to_list(),mode='markers',marker={'size':2},name='Actual'))\n",
        "fig.add_trace(go.Scatter3d(x=test_inputs['Input1'],y=test_inputs['Input2'],z=predict_out[:,0],mode='markers',marker={'size':2},name='Predicted'))\n",
        "fig.show()"
      ],
      "metadata": {
        "id": "zhCq0bOaWUJA"
      },
      "execution_count": null,
      "outputs": []
    },
    {
      "cell_type": "code",
      "source": [
        "#Linear regression with selected\n",
        "inputCols=['Input4','Input2','Input3']\n",
        "outputCols=['Output2']\n",
        "\n",
        "model_inputs=twisting_data_model_pca[inputCols]\n",
        "model_outputs=twisting_data_model_pca[outputCols] \n",
        "test_inputs=twisting_data_test_pca[inputCols]\n",
        "test_outputs=twisting_data_test_pca[outputCols] #\n",
        "lin_reg_model=md.linear_regression_modeling(model_inputs,model_outputs,test_inputs,test_outputs)\n",
        "actual_out=test_outputs\n",
        "predict_out=lin_reg_model['predict_test_output']\n",
        "fig=go.Figure()\n",
        "fig.add_trace(go.Scatter3d(x=test_inputs['Input4'].to_list(),y=test_inputs['Input2'].to_list(),z=actual_out['Output2'].to_list(),mode='markers',marker={'size':2},name='Actual'))\n",
        "fig.add_trace(go.Scatter3d(x=test_inputs['Input4'].to_list(),y=test_inputs['Input2'],z=predict_out[:,0],mode='markers',marker={'size':2},name='Predicted'))\n",
        "fig.show()"
      ],
      "metadata": {
        "id": "8BICwTGnWjCI"
      },
      "execution_count": null,
      "outputs": []
    },
    {
      "cell_type": "code",
      "source": [
        "#Polinomaial regressionregression with a11 inputs\n",
        "\n",
        "inputCols=['Input1','Input2','Input3','Input4']\n",
        "outputCols=['Output2']\n",
        "poly=2;\n",
        "\n",
        "model_inputs=twisting_data_model_pca[inputCols]\n",
        "model_outputs=twisting_data_model_pca[outputCols] \n",
        "test_inputs=twisting_data_test_pca[inputCols]\n",
        "test_outputs=twisting_data_test_pca[outputCols] #\n",
        "poly = PolynomialFeatures(poly)\n",
        "model_inputs_poly=pd.DataFrame(poly.fit_transform(model_inputs.to_numpy()))\n",
        "test_inputs_poly=pd.DataFrame(poly.fit_transform(test_inputs.to_numpy()))\n",
        "lin_reg_model=md.linear_regression_modeling(model_inputs_poly,model_outputs,test_inputs_poly,test_outputs)\n",
        "actual_out=test_outputs\n",
        "predict_out=lin_reg_model['predict_test_output']\n",
        "#fig=go.Figure()\n",
        "##fig.add_trace(go.Scatter3d(x=test_inputs['Input4'].to_list(),y=test_inputs['Input2'].to_list(),z=actual_out['Output2'].to_list(),mode='markers',marker={'size':2},name='Actual'))\n",
        "#fig.add_trace(go.Scatter3d(x=test_inputs['Input4'].to_list(),y=test_inputs['Input2'],z=predict_out[:,0],mode='markers',marker={'size':2},name='Predicted'))\n",
        "#fig.show()\n",
        "\n"
      ],
      "metadata": {
        "colab": {
          "base_uri": "https://localhost:8080/"
        },
        "id": "D0loAe9a_If4",
        "outputId": "61ded54e-2823-427e-b6df-1999096807a4"
      },
      "execution_count": 283,
      "outputs": [
        {
          "output_type": "stream",
          "name": "stdout",
          "text": [
            "R2 value = 0.7545092667846821\n"
          ]
        }
      ]
    },
    {
      "cell_type": "code",
      "source": [
        "#Polinomaial regressionregression with selected inputs\n",
        "\n",
        "inputCols=['Input2','Input3','Input4']\n",
        "outputCols=['Output2']\n",
        "poly=2;\n",
        "\n",
        "model_inputs=twisting_data_model_pca[inputCols]\n",
        "model_outputs=twisting_data_model_pca[outputCols] \n",
        "test_inputs=twisting_data_test_pca[inputCols]\n",
        "test_outputs=twisting_data_test_pca[outputCols] #\n",
        "poly = PolynomialFeatures(poly)\n",
        "model_inputs_poly=pd.DataFrame(poly.fit_transform(model_inputs.to_numpy()))\n",
        "test_inputs_poly=pd.DataFrame(poly.fit_transform(test_inputs.to_numpy()))\n",
        "lin_reg_model=md.linear_regression_modeling(model_inputs_poly,model_outputs,test_inputs_poly,test_outputs)\n",
        "actual_out=test_outputs\n",
        "predict_out=lin_reg_model['predict_test_output']\n",
        "#fig.add_trace(go.Scatter3d(x=test_inputs['Input4'].to_list(),y=test_inputs['Input2'].to_list(),z=actual_out['Output2'].to_list(),mode='markers',marker={'size':2},name='Actual'))\n",
        "#fig.add_trace(go.Scatter3d(x=test_inputs['Input4'].to_list(),y=test_inputs['Input2'],z=predict_out[:,0],mode='markers',marker={'size':2},name='Predicted'))\n",
        "#fig.show()"
      ],
      "metadata": {
        "colab": {
          "base_uri": "https://localhost:8080/"
        },
        "id": "O9eNN3tzhv-d",
        "outputId": "b05245a6-82b1-41de-b817-cb1af35ca61a"
      },
      "execution_count": 277,
      "outputs": [
        {
          "output_type": "stream",
          "name": "stdout",
          "text": [
            "R2 value = 0.8465265955165129\n"
          ]
        }
      ]
    },
    {
      "cell_type": "code",
      "source": [
        "#Decision tree\n",
        "\n",
        "inputCols=['Input1','Input2','Input3','Input3']\n",
        "outputCols=['Output2']\n",
        "\n",
        "model_inputs=twisting_data_model_pca[inputCols]\n",
        "model_outputs=twisting_data_model_pca[outputCols] \n",
        "test_inputs=twisting_data_test_pca[inputCols]\n",
        "test_outputs=twisting_data_test_pca[outputCols] \n",
        "\n",
        "\n",
        "regressor = DecisionTreeRegressor(random_state=100)\n",
        "\n",
        "regressor.fit(model_inputs,model_outputs)\n",
        "test_pred_outputs = regressor.predict(test_inputs)\n",
        "\n",
        "mse = mean_squared_error(test_outputs, test_pred_outputs )\n",
        "r2core=r2_score(test_outputs, test_pred_outputs )\n",
        "print(\"R2 score:\", r2core)\n",
        "\n",
        "actual_out=test_outputs\n",
        "predict_out=test_pred_outputs\n",
        "fig=go.Figure()\n",
        "fig.add_trace(go.Scatter3d(x=test_inputs['Input1'].to_list(),y=test_inputs['Input2'].to_list(),z=actual_out['Output2'].to_list(),mode='markers',marker={'size':2},name='Actual'))\n",
        "fig.add_trace(go.Scatter3d(x=test_inputs['Input1'].to_list(),y=test_inputs['Input2'],z=predict_out,mode='markers',marker={'size':2},name='Predicted'))\n",
        "fig.show()\n"
      ],
      "metadata": {
        "id": "8UbCTNemeqEH"
      },
      "execution_count": null,
      "outputs": []
    },
    {
      "cell_type": "markdown",
      "source": [
        "###Model For Output3"
      ],
      "metadata": {
        "id": "9QmzHnYmy-s3"
      }
    },
    {
      "cell_type": "markdown",
      "source": [
        "####Original inputs spcace"
      ],
      "metadata": {
        "id": "mIj07aPuzbdO"
      }
    },
    {
      "cell_type": "code",
      "source": [
        "#Linear regression with all inputs and all outputs\n",
        "inputCols=['Input1','Input2','Input3','Input4'];\n",
        "outputCols=['Output3']\n",
        "\n",
        "model_inputs=twisting_data_model[inputCols]\n",
        "model_outputs=twisting_data_model[outputCols] \n",
        "test_inputs=twisting_data_test[inputCols]\n",
        "test_outputs=twisting_data_test[outputCols] #\n",
        "lin_reg_model=md.linear_regression_modeling(model_inputs,model_outputs,test_inputs,test_outputs)\n",
        "actual_out=test_outputs\n",
        "predict_out=lin_reg_model['predict_test_output']\n",
        "fig=go.Figure()\n",
        "fig.add_trace(go.Scatter3d(x=test_inputs['Input1'],y=test_inputs['Input2'].to_list(),z=actual_out['Output3'].to_list(),mode='markers',marker={'size':2},name='Actual'))\n",
        "fig.add_trace(go.Scatter3d(x=test_inputs['Input1'],y=test_inputs['Input2'],z=predict_out[:,0],mode='markers',marker={'size':2},name='Predicted'))\n",
        "fig.show()"
      ],
      "metadata": {
        "id": "2iWCA6K_zf1o"
      },
      "execution_count": null,
      "outputs": []
    },
    {
      "cell_type": "code",
      "source": [
        "#Linear regression with selected\n",
        "inputCols=['Input4','Input3']\n",
        "outputCols=['Output3']\n",
        "\n",
        "model_inputs=twisting_data_model[inputCols]\n",
        "model_outputs=twisting_data_model[outputCols] \n",
        "test_inputs=twisting_data_test[inputCols]\n",
        "test_outputs=twisting_data_test[outputCols] #\n",
        "lin_reg_model=md.linear_regression_modeling(model_inputs,model_outputs,test_inputs,test_outputs)\n",
        "actual_out=test_outputs\n",
        "predict_out=lin_reg_model['predict_test_output']\n",
        "fig=go.Figure()\n",
        "fig.add_trace(go.Scatter3d(x=test_inputs['Input4'].to_list(),y=test_inputs['Input3'].to_list(),z=actual_out['Output3'].to_list(),mode='markers',marker={'size':2},name='Actual'))\n",
        "fig.add_trace(go.Scatter3d(x=test_inputs['Input4'].to_list(),y=test_inputs['Input3'],z=predict_out[:,0],mode='markers',marker={'size':2},name='Predicted'))\n",
        "fig.show()"
      ],
      "metadata": {
        "id": "v_cKi9zfzxg-"
      },
      "execution_count": null,
      "outputs": []
    },
    {
      "cell_type": "code",
      "source": [
        "#Polinomaial regressionregression with all inputs\n",
        "\n",
        "inputCols=['Input1','Input2','Input3','Input4']\n",
        "outputCols=['Output3']\n",
        "poly=2;\n",
        "\n",
        "model_inputs=twisting_data_model[inputCols]\n",
        "model_outputs=twisting_data_model[outputCols] \n",
        "test_inputs=twisting_data_test[inputCols]\n",
        "test_outputs=twisting_data_test[outputCols] #\n",
        "poly = PolynomialFeatures(poly)\n",
        "model_inputs_poly=pd.DataFrame(poly.fit_transform(model_inputs.to_numpy()))\n",
        "test_inputs_poly=pd.DataFrame(poly.fit_transform(test_inputs.to_numpy()))\n",
        "lin_reg_model=md.linear_regression_modeling(model_inputs_poly,model_outputs,test_inputs_poly,test_outputs)\n",
        "actual_out=test_outputs\n",
        "predict_out=lin_reg_model['predict_test_output']\n",
        "fig=go.Figure()\n",
        "fig.add_trace(go.Scatter3d(x=test_inputs['Input1'].to_list(),y=test_inputs['Input2'].to_list(),z=actual_out['Output3'].to_list(),mode='markers',marker={'size':2},name='Actual'))\n",
        "fig.add_trace(go.Scatter3d(x=test_inputs['Input1'].to_list(),y=test_inputs['Input2'],z=predict_out[:,0],mode='markers',marker={'size':2},name='Predicted'))\n",
        "fig.show()"
      ],
      "metadata": {
        "id": "X53305_c0WLG"
      },
      "execution_count": null,
      "outputs": []
    },
    {
      "cell_type": "code",
      "source": [
        "#Polinomaial regressionregression with all inputs\n",
        "\n",
        "inputCols=['Input1','Input2','Input3','Input4']\n",
        "outputCols=['Output3']\n",
        "poly=3;\n",
        "\n",
        "model_inputs=twisting_data_model[inputCols]\n",
        "model_outputs=twisting_data_model[outputCols] \n",
        "test_inputs=twisting_data_test[inputCols]\n",
        "test_outputs=twisting_data_test[outputCols] #\n",
        "poly = PolynomialFeatures(poly)\n",
        "model_inputs_poly=pd.DataFrame(poly.fit_transform(model_inputs.to_numpy()))\n",
        "test_inputs_poly=pd.DataFrame(poly.fit_transform(test_inputs.to_numpy()))\n",
        "lin_reg_model=md.linear_regression_modeling(model_inputs_poly,model_outputs,test_inputs_poly,test_outputs)\n",
        "actual_out=test_outputs\n",
        "predict_out=lin_reg_model['predict_test_output']\n",
        "fig=go.Figure()\n",
        "fig.add_trace(go.Scatter3d(x=test_inputs['Input1'].to_list(),y=test_inputs['Input2'].to_list(),z=actual_out['Output3'].to_list(),mode='markers',marker={'size':2},name='Actual'))\n",
        "fig.add_trace(go.Scatter3d(x=test_inputs['Input1'].to_list(),y=test_inputs['Input2'],z=predict_out[:,0],mode='markers',marker={'size':2},name='Predicted'))\n",
        "fig.show()"
      ],
      "metadata": {
        "id": "q8a-9s5V2fSx"
      },
      "execution_count": null,
      "outputs": []
    },
    {
      "cell_type": "markdown",
      "source": [
        "####PC Space"
      ],
      "metadata": {
        "id": "j0Rsw3Hd4_J4"
      }
    },
    {
      "cell_type": "code",
      "source": [
        "#Pca analysis\n",
        "inputsp=twisting_data_frame[['Input1','Input2','Input3','Input4']]\n",
        "outputsp=twisting_data_frame[['Output1','Output2','Output3','Output4','Output5']] \n",
        "pca_in=sklearn.decomposition.PCA(n_components=4);\n",
        "pca_out=sklearn.decomposition.PCA(n_components=5);\n",
        "pca_input=pca_in.fit_transform(inputsp);\n",
        "pca_output=pca_out.fit_transform(outputsp);\n",
        "\n",
        "pca_input_pdf = pd.DataFrame(pca_input, columns = ['Input1','Input2','Input3','Input4'])\n",
        "pca_output_pdf = pd.DataFrame(pca_output, columns = ['Output1','Output2','Output3','Output4','Output5'])\n",
        "twisting_data_frame_pca= pd.concat([pca_input_pdf, pca_output_pdf], axis=1)\n",
        "twisting_data_model_pca,twisting_data_test_pca=train_test_split(twisting_data_frame_pca,test_size=0.2)"
      ],
      "metadata": {
        "id": "6ei_hxKR5M9Y"
      },
      "execution_count": 194,
      "outputs": []
    },
    {
      "cell_type": "code",
      "source": [
        "#coraltion analysis\n",
        "data=twisting_data_frame_pca\n",
        "outputLabels=['Output1','Output2','Output3','Output4','Output5']\n",
        "X=data[['Input1','Input2','Input3','Input4']]\n",
        "fig=go.Figure()\n",
        "rvals=[]\n",
        "for i,lbl in enumerate(outputLabels):\n",
        "    y=data[lbl]\n",
        "    rr=r_regression(X, y.to_numpy())\n",
        "    print(rr)\n",
        "    fig.add_trace(go.Scatter(y=rr,name=lbl))\n",
        "fig.show()"
      ],
      "metadata": {
        "id": "Gcl2P3ny5Qcw"
      },
      "execution_count": null,
      "outputs": []
    },
    {
      "cell_type": "code",
      "source": [
        "#Linear regression with all inputs and all outputs\n",
        "inputCols=['Input1','Input2','Input3','Input4'];\n",
        "outputCols=['Output3']\n",
        "\n",
        "model_inputs=twisting_data_model_pca[inputCols]\n",
        "model_outputs=twisting_data_model_pca[outputCols] \n",
        "test_inputs=twisting_data_test_pca[inputCols]\n",
        "test_outputs=twisting_data_test_pca[outputCols]\n",
        "lin_reg_model=md.linear_regression_modeling(model_inputs,model_outputs,test_inputs,test_outputs)\n",
        "actual_out=test_outputs\n",
        "predict_out=lin_reg_model['predict_test_output']\n",
        "fig=go.Figure()\n",
        "#fig.add_trace(go.Scatter3d(x=test_inputs['Input1'],y=test_inputs['Input2'].to_list(),z=actual_out['Output'].to_list(),mode='markers',marker={'size':2},name='Actual'))\n",
        "#fig.add_trace(go.Scatter3d(x=test_inputs['Input1'],y=test_inputs['Input2'],z=predict_out[:,0],mode='markers',marker={'size':2},name='Predicted'))\n",
        "#fig.show()"
      ],
      "metadata": {
        "colab": {
          "base_uri": "https://localhost:8080/"
        },
        "id": "Uey1SVNc5S8B",
        "outputId": "c254f199-60b7-41e1-de96-4e71b1adf0b2"
      },
      "execution_count": 195,
      "outputs": [
        {
          "output_type": "stream",
          "name": "stdout",
          "text": [
            "R2 value = 0.12289150416168848\n"
          ]
        }
      ]
    },
    {
      "cell_type": "code",
      "source": [
        "#Linear regression with selected\n",
        "inputCols=['Input4','Input2','Input3']\n",
        "outputCols=['Output3']\n",
        "\n",
        "model_inputs=twisting_data_model_pca[inputCols]\n",
        "model_outputs=twisting_data_model_pca[outputCols] \n",
        "test_inputs=twisting_data_test_pca[inputCols]\n",
        "test_outputs=twisting_data_test_pca[outputCols] #\n",
        "lin_reg_model=md.linear_regression_modeling(model_inputs,model_outputs,test_inputs,test_outputs)\n",
        "actual_out=test_outputs\n",
        "predict_out=lin_reg_model['predict_test_output']\n",
        "fig=go.Figure()\n",
        "fig.add_trace(go.Scatter3d(x=test_inputs['Input4'].to_list(),y=test_inputs['Input2'].to_list(),z=actual_out['Output3'].to_list(),mode='markers',marker={'size':2},name='Actual'))\n",
        "fig.add_trace(go.Scatter3d(x=test_inputs['Input4'].to_list(),y=test_inputs['Input2'],z=predict_out[:,0],mode='markers',marker={'size':2},name='Predicted'))\n",
        "fig.show()"
      ],
      "metadata": {
        "id": "J0-r7jcc5WRx"
      },
      "execution_count": null,
      "outputs": []
    },
    {
      "cell_type": "code",
      "source": [
        "#Polinomaial regressionregression with selected inputs\n",
        "\n",
        "inputCols=['Input3','Input4','Input2','Input1']\n",
        "outputCols=['Output3']\n",
        "poly=2;\n",
        "\n",
        "model_inputs=twisting_data_model_pca[inputCols]\n",
        "model_outputs=twisting_data_model_pca[outputCols] \n",
        "test_inputs=twisting_data_test_pca[inputCols]\n",
        "test_outputs=twisting_data_test_pca[outputCols] #\n",
        "poly = PolynomialFeatures(poly)\n",
        "model_inputs_poly=pd.DataFrame(poly.fit_transform(model_inputs.to_numpy()))\n",
        "test_inputs_poly=pd.DataFrame(poly.fit_transform(test_inputs.to_numpy()))\n",
        "lin_reg_model=md.linear_regression_modeling(model_inputs_poly,model_outputs,test_inputs_poly,test_outputs)\n",
        "actual_out=test_outputs\n",
        "predict_out=lin_reg_model['predict_test_output']\n",
        "fig=go.Figure()\n",
        "fig.add_trace(go.Scatter3d(x=test_inputs['Input3'].to_list(),y=test_inputs['Input4'].to_list(),z=actual_out['Output3'].to_list(),mode='markers',marker={'size':2},name='Actual'))\n",
        "fig.add_trace(go.Scatter3d(x=test_inputs['Input3'].to_list(),y=test_inputs['Input4'],z=predict_out[:,0],mode='markers',marker={'size':2},name='Predicted'))\n",
        "fig.show()"
      ],
      "metadata": {
        "id": "rdJIWA9I5Z-4"
      },
      "execution_count": null,
      "outputs": []
    },
    {
      "cell_type": "code",
      "source": [
        "#Polinomaial regressionregression with selected inputs\n",
        "\n",
        "inputCols=['Input3','Input4','Input1','Input2','Output2']\n",
        "outputCols=['Output3']\n",
        "poly=2;\n",
        "\n",
        "model_inputs=twisting_data_model_pca[inputCols]\n",
        "model_outputs=twisting_data_model_pca[outputCols] \n",
        "test_inputs=twisting_data_test_pca[inputCols]\n",
        "test_outputs=twisting_data_test_pca[outputCols] #\n",
        "poly = PolynomialFeatures(poly)\n",
        "model_inputs_poly=pd.DataFrame(poly.fit_transform(model_inputs.to_numpy()))\n",
        "test_inputs_poly=pd.DataFrame(poly.fit_transform(test_inputs.to_numpy()))\n",
        "lin_reg_model=md.linear_regression_modeling(model_inputs_poly,model_outputs,test_inputs_poly,test_outputs)\n",
        "actual_out=test_outputs\n",
        "predict_out=lin_reg_model['predict_test_output']\n",
        "fig=go.Figure()\n",
        "#fig.add_trace(go.Scatter3d(x=test_inputs['Input3'].to_list(),y=test_inputs['Input4'].to_list(),z=actual_out['Output3'].to_list(),mode='markers',marker={'size':2},name='Actual'))\n",
        "#fig.add_trace(go.Scatter3d(x=test_inputs['Input3'].to_list(),y=test_inputs['Input4'],z=predict_out[:,0],mode='markers',marker={'size':2},name='Predicted'))\n",
        "#fig.show()"
      ],
      "metadata": {
        "id": "bJ0TLUERE8hW"
      },
      "execution_count": null,
      "outputs": []
    },
    {
      "cell_type": "markdown",
      "source": [
        "##Model Validation"
      ],
      "metadata": {
        "id": "jKK9NzObxXC9"
      }
    },
    {
      "cell_type": "code",
      "source": [
        "twisting_unit_cell_fit_validation(twisting_data_frame)"
      ],
      "metadata": {
        "id": "gNqxhoLYxcWu"
      },
      "execution_count": null,
      "outputs": []
    }
  ]
}