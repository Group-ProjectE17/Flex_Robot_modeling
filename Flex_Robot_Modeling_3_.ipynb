{
  "nbformat": 4,
  "nbformat_minor": 0,
  "metadata": {
    "colab": {
      "provenance": [],
      "collapsed_sections": [
        "UnFdJmm9rNGi",
        "kVdCVo5DsrFP",
        "_0JItGySuwFX",
        "bDlx5V2Swzx-",
        "58M75o0XGUix",
        "cmONu4rqH-fb",
        "0BokwTyBIKxb",
        "lj48huD3vpyf",
        "jYpsqGihy4cI"
      ],
      "authorship_tag": "ABX9TyOoPF5lgx05DCXt6uL4ZYMb",
      "include_colab_link": true
    },
    "kernelspec": {
      "name": "python3",
      "display_name": "Python 3"
    },
    "language_info": {
      "name": "python"
    }
  },
  "cells": [
    {
      "cell_type": "markdown",
      "metadata": {
        "id": "view-in-github",
        "colab_type": "text"
      },
      "source": [
        "<a href=\"https://colab.research.google.com/github/Group-ProjectE17/Flex_Robot_modeling/blob/main/Flex_Robot_Modeling_3_.ipynb\" target=\"_parent\"><img src=\"https://colab.research.google.com/assets/colab-badge.svg\" alt=\"Open In Colab\"/></a>"
      ]
    },
    {
      "cell_type": "markdown",
      "source": [
        "#Setup"
      ],
      "metadata": {
        "id": "UnFdJmm9rNGi"
      }
    },
    {
      "cell_type": "markdown",
      "source": [
        "##Initilizations"
      ],
      "metadata": {
        "id": "kVdCVo5DsrFP"
      }
    },
    {
      "cell_type": "code",
      "source": [
        "import numpy as np\n",
        "from itertools import combinations\n",
        "from datetime import datetime, timedelta\n",
        "#import datefinder\n",
        "import pandas as pd\n",
        "import string\n",
        "import os\n",
        "import os.path\n",
        "import uuid\n",
        "import random\n",
        "from pprint import pprint\n",
        "import json\n",
        "import csv\n",
        "import plotly.graph_objects as go\n",
        "import plotly.express as px\n",
        "from plotly.subplots import make_subplots\n",
        "from numpy import linalg as lin\n",
        "from sklearn import datasets\n",
        "import sklearn\n",
        "from sklearn.mixture import GaussianMixture\n",
        "import smtplib\n",
        "from sklearn.model_selection import train_test_split\n",
        "import sklearn\n",
        "from sklearn import linear_model\n",
        "from sklearn.decomposition import PCA\n",
        "from sklearn.metrics import r2_score\n",
        "import numpy as np\n",
        "from itertools import combinations\n",
        "from datetime import datetime, timedelta\n",
        "#import datefinder\n",
        "import pandas as pd\n",
        "import string\n",
        "import os\n",
        "import os.path\n",
        "import uuid\n",
        "import random\n",
        "from pprint import pprint\n",
        "import json\n",
        "import csv\n",
        "import plotly.graph_objects as go\n",
        "import plotly.express as px\n",
        "from plotly.subplots import make_subplots\n",
        "from numpy import linalg as lin\n",
        "from sklearn import datasets\n",
        "import sklearn\n",
        "from sklearn.mixture import GaussianMixture\n",
        "import smtplib\n",
        "from sklearn.mixture import GaussianMixture\n",
        "from sklearn import linear_model\n",
        "from sklearn.metrics import r2_score\n",
        "from sklearn.model_selection import train_test_split\n",
        "from sklearn.feature_selection import r_regression\n",
        "from sklearn.preprocessing import PolynomialFeatures\n",
        "import plotly.figure_factory as ff\n",
        "from sklearn.tree import DecisionTreeRegressor\n",
        "from sklearn.model_selection import train_test_split\n",
        "from sklearn.metrics import mean_squared_error\n",
        "\n",
        "\n",
        "from google.colab import drive\n",
        "drive.mount('/content/drive')"
      ],
      "metadata": {
        "colab": {
          "base_uri": "https://localhost:8080/"
        },
        "id": "3OcQFsaQtFW6",
        "outputId": "6d4f02ef-39ed-4c0f-cc72-faea89b53442"
      },
      "execution_count": null,
      "outputs": [
        {
          "output_type": "stream",
          "name": "stdout",
          "text": [
            "Drive already mounted at /content/drive; to attempt to forcibly remount, call drive.mount(\"/content/drive\", force_remount=True).\n"
          ]
        }
      ]
    },
    {
      "cell_type": "markdown",
      "source": [
        "##Function definitions"
      ],
      "metadata": {
        "id": "7eNCjbgpsxN_"
      }
    },
    {
      "cell_type": "markdown",
      "source": [
        "###Data analysis by Dr Maithreepaa"
      ],
      "metadata": {
        "id": "sXhHAkf0t6dZ"
      }
    },
    {
      "cell_type": "code",
      "source": [
        "class mugas_data_analysis:\n",
        "   \n",
        "\n",
        "  \n",
        "  \n",
        "    def principle_component_values(self, modelDF, predictDF, nnPCs):\n",
        "        tempModelDataPDF=modelDF.copy();\n",
        "        tempPredictDataPDF=predictDF.copy();\n",
        "        #nnPCs=min(len(tempModelDataPDF.index.values),len(tempModelDataPDF.columns));\n",
        "        #nnPCs='mle'\n",
        "        pca=sklearn.decomposition.PCA(n_components=nnPCs);\n",
        "        modelnumPCA=pca.fit_transform(tempModelDataPDF);\n",
        "        PCweights=pca.singular_values_;\n",
        "        PCAmodelScore=pca.score(tempModelDataPDF);\n",
        "        PCAmeans=pca.mean_\n",
        "        predictnumPCA=pca.transform(tempPredictDataPDF);\n",
        "        PCApredictScore=pca.score(tempPredictDataPDF);\n",
        "        #scaling=sklearn.preprocessing.StandardScaler().fit(pd.DataFrame(numPCA));\n",
        "        #scaledPCA=scaling.transform(numPCA);\n",
        "        transformer = sklearn.decomposition.FactorAnalysis(n_components=nnPCs); # n_components=nnPCs, random_state=0);\n",
        "        modelsvdFactor = transformer.fit_transform(tempModelDataPDF);\n",
        "        FactorSVDmeans=transformer.mean_\n",
        "        svdFactormodelScore=transformer.score(tempModelDataPDF);\n",
        "        predictsvdFactor = transformer.transform(tempPredictDataPDF);\n",
        "        svdFactorpredictScore=transformer.score(tempPredictDataPDF);\n",
        "    \n",
        "\n",
        "        traceNames=[];\n",
        "        for nn in range(len(PCweights)):\n",
        "            traceNames+=['P'+str(nn)];\n",
        "\n",
        "        mindex=tempModelDataPDF.index.values;\n",
        "        pindex=tempPredictDataPDF.index.values;\n",
        "        #figFactor=self.hist_plot(PPFactor.T,histBinSize, binRange, traceNames,'Distributions of the PC Factors','PC Factors','Frequency')\n",
        "        pcaOutput={'PCAmeans':PCAmeans,'FactorSVDmeans':FactorSVDmeans,'traceNames':traceNames, 'fitScores': {'PCApredictScore':PCApredictScore, 'PCAmodelScore':PCAmodelScore, 'svdFactormodelScore':svdFactormodelScore, 'svdFactorpredictScore':svdFactorpredictScore}, 'PCweights':PCweights, 'modelnumPCA':pd.DataFrame(modelnumPCA,index=mindex),'predictnumPCA':pd.DataFrame(predictnumPCA,index=pindex), 'modelsvdFactor':pd.DataFrame(modelsvdFactor,index=mindex),  'predictsvdFactor':pd.DataFrame(predictsvdFactor,index=pindex)}\n",
        "        return pcaOutput\n",
        "\n",
        "    def gmm_data_model(self, mData, nClusters):\n",
        "        #mData - numeric centered np array of shape (ndata,nfactors)\n",
        "\n",
        "        gmm = sklearn.mixture.GaussianMixture(n_components = nClusters)\n",
        "        gmm.fit(mData)\n",
        "        labels = gmm.predict(mData)\n",
        "        clusterIC=[gmm.aic(mData), gmm.bic(mData)]\n",
        "        print(clusterIC)\n",
        "        fig1=md.scatter_plot3D(mData[:,0],mData[:,1],mData[:,2],labels)\n",
        "\n",
        "        return {'gmm':gmm, 'clusterIC':clusterIC}\n",
        "\n",
        "\n",
        "    def gmm_data_classifier(self, model_DataPDF, predict_DataPDF,nClusters):\n",
        "        modelDataPDF0=model_DataPDF.copy();\n",
        "        predictDataPDF0=predict_DataPDF.copy();\n",
        "        modelData=modelDataPDF0.to_numpy();\n",
        "        predictData=predictDataPDF0.to_numpy();\n",
        "        nPCs=modelData.shape[1]\n",
        "        #print([modelPCA[n].shape,predictPCA[n].shape])\n",
        "        fitGMM=self.gmm_data_model(modelData,nClusters)\n",
        "        gmm=fitGMM['gmm'];\n",
        "\n",
        "        #Plabels=[];\n",
        "        #for nn in range(nPCs):\n",
        "        #    Plabels+=['PF'+str(nn)]\n",
        "\n",
        "        mLabels = gmm.predict(modelData)\n",
        "        #modelFitScore=gmm.score(modelData);\n",
        "        modelDist={'Model Mean':gmm.means_, 'Model Covaraince':gmm.covariances_};\n",
        "        modelSampleFitScore=gmm.score_samples(modelData);\n",
        "        modelDataPDF0['labels']=mLabels\n",
        "        modelDataPDF0['Fit Score']=modelSampleFitScore;\n",
        "\n",
        "        pLabels = gmm.predict(predictData)\n",
        "        #predictFitScore=gmm.score(predictData);\n",
        "        predictProbDist=gmm.predict_proba(predictData);\n",
        "        predictSampleFitScore=gmm.score_samples(predictData);\n",
        "\n",
        "        predictDataPDF0['labels']=pLabels\n",
        "        predictDataPDF0['Fit Score']=predictSampleFitScore;\n",
        "        xx1=[]; yy1=[]; traceNames1=[];\n",
        "        xx2=[]; yy2=[]; traceNames2=[];\n",
        "\n",
        "        for kk in set(modelDataPDF0['labels'].to_list()):\n",
        "            xx1+=[['All Data']];\n",
        "            yy1+=[[len(modelDataPDF0[modelDataPDF0['labels']==kk])]];\n",
        "            yy2+=[[len(predictDataPDF0[predictDataPDF0['labels']==kk])]];\n",
        "            traceNames1+=['GP'+str(kk)]\n",
        "        fig21=self.bar_plot(xx1,yy1,traceNames1,'Model Clusters','','Numbers','stack')\n",
        "        fig31=self.bar_plot(xx1,yy2,traceNames1,'Predicted Clusters','','Numbers','stack')\n",
        "        #print({'modelFitScore':modelFitScore, 'predictFitScore':predictFitScore})\n",
        "        return {'labeled model data':modelDataPDF0, 'labeled predict data':predictDataPDF0,'fitScore':{'modelFitScore':modelSampleFitScore, 'predictFitScore':predictSampleFitScore},'Probability Model':modelDist}\n",
        "\n",
        "    def logistic_reg_data_classifier(self, model_XDataPDF, model_YDataPDF, predict_XDataPDF):\n",
        "        MXDataPDF=model_XDataPDF.copy();\n",
        "        MYDataPDF=model_YDataPDF.copy();\n",
        "        PXDataPDF=predict_XDataPDF.copy();\n",
        "        clf = sklearn.linear_model.LogisticRegression(random_state=0).fit(MXDataPDF.to_numpy(), MYDataPDF.to_numpy());\n",
        "        mLabels = clf.predict(MXDataPDF.to_numpy())\n",
        "        modelDist=clf.predict_proba(MXDataPDF.to_numpy());\n",
        "        modelSampleFitScore=clf.score(MXDataPDF.to_numpy(), MYDataPDF.to_numpy());\n",
        "        MXDataPDF['labels']=mLabels\n",
        "        mLabelTypes=list(set(mLabels));\n",
        "        probLabels=[];\n",
        "        for mlt in mLabelTypes:\n",
        "            probLabels+=['p('+str(mlt)+')']\n",
        "    \n",
        "        MXDataPDF[probLabels]=modelDist;\n",
        "\n",
        "        pLabels = clf.predict(PXDataPDF.to_numpy())\n",
        "        predictDist=clf.predict_proba(PXDataPDF.to_numpy());\n",
        "        pLabelTypes=set(probLabels);\n",
        "        PXDataPDF['labels']=pLabels;\n",
        "        pLabelTypes=list(set(pLabels));\n",
        "        probLabels=[];\n",
        "        for mlt in pLabelTypes:\n",
        "            probLabels+=['p('+str(mlt)+')']\n",
        "\n",
        "        PXDataPDF[probLabels]=predictDist;\n",
        "        \n",
        "        xx1=[]; yy1=[]; traceNames1=[];\n",
        "        xx2=[]; yy2=[]; traceNames2=[];\n",
        "\n",
        "        for kk in set(MXDataPDF['labels'].to_list()):\n",
        "            xx1+=[['All Data']];\n",
        "            yy1+=[[len(MXDataPDF[MXDataPDF['labels']==kk])]];\n",
        "            yy2+=[[len(PXDataPDF[PXDataPDF['labels']==kk])]];\n",
        "            traceNames1+=['GP-'+str(kk)]\n",
        "        fig21=self.bar_plot(xx1,yy1,traceNames1,'Model Clusters','','Numbers','stack')\n",
        "        fig31=self.bar_plot(xx1,yy2,traceNames1,'Predicted Clusters','','Numbers','stack')\n",
        "        \n",
        "        \n",
        "        #print({'modelFitScore':modelFitScore, 'predictFitScore':predictFitScore})\n",
        "        return {'labeled model data':MXDataPDF, 'labeled predict data':PXDataPDF,'Probability Model':{'modelDist':modelDist,'predictDist':predictDist}}\n",
        "\n",
        "\n",
        "    def hist_plot(self, xx, binSize, binRange, traceNames, titleText, xLabel,yLabel):\n",
        "        fig = go.Figure()\n",
        "\n",
        "        for i,x in enumerate(xx):\n",
        "            fig.add_trace(go.Histogram(\n",
        "                x=x,\n",
        "                #histnorm='percent',\n",
        "                #cumulative_enabled=cumulative,\n",
        "                name=traceNames[i], # name used in legend and hover labels\n",
        "                xbins=dict( # bins used for histogram\n",
        "                    start=binRange[0],\n",
        "                    end=binRange[1],\n",
        "                    size=binSize\n",
        "                ),\n",
        "                #marker_color='#EB89B5',\n",
        "                opacity=0.75\n",
        "            ))\n",
        "\n",
        "        fig.update_layout(\n",
        "            title_text=titleText, # title of plot\n",
        "            xaxis_title_text=xLabel, # xaxis label\n",
        "            yaxis_title_text=yLabel, # yaxis label\n",
        "            bargap=0.2, # gap between bars of adjacent location coordinates\n",
        "            bargroupgap=0.1 # gap between bars of the same location coordinates\n",
        "        )\n",
        "\n",
        "        fig.show()\n",
        "        #fig.write_html(\"/content/drive/My Drive/LMS Logs/Course_STATS_upto_May/\"+titleText+\".html\")\n",
        "        return fig\n",
        "\n",
        "    def scatter_plot3D(self,xx,yy,zz,color):\n",
        "        fig = go.Figure(data=[go.Scatter3d(x=xx, y=yy, z=zz, \n",
        "                                    mode='markers',marker=dict(\n",
        "          #size=12,\n",
        "          color=color,                # set color to an array/list of desired values\n",
        "          #colorscale='Viridis',   # choose a colorscale\n",
        "          opacity=0.5\n",
        "        ))])\n",
        "        fig.show()\n",
        "        return fig\n",
        "\n",
        "    def bar_plot(self, xx, yy, traceName, figTitle, xLabel, yLabel, barmode):\n",
        "        fig = go.Figure()\n",
        "        for i,x in enumerate(xx):\n",
        "            fig.add_trace(go.Bar(y=yy[i], x=x, name=traceName[i]))\n",
        "        \n",
        "        \n",
        "        fig.update_layout(\n",
        "            title=figTitle, xaxis_title=xLabel, yaxis_title=yLabel, barmode=barmode\n",
        "            )\n",
        "        fig.show()\n",
        "        return fig   \n",
        "\n",
        "    def linear_regression_modeling(self,model_inputs,model_outputs,test_inputs,test_outputs):\n",
        "      \n",
        "        regr = linear_model.LinearRegression()\n",
        "        linregModel=regr.fit(model_inputs, model_outputs)\n",
        "        predict_model_outputs=linregModel.predict(model_inputs)\n",
        "        model_r2_score=r2_score(model_outputs, predict_model_outputs)\n",
        "        \n",
        "        predict_test_outputs=linregModel.predict(test_inputs)\n",
        "        predictScore=linregModel.score(test_inputs,test_outputs)\n",
        "        test_r2_score=r2_score(test_outputs, predict_test_outputs)\n",
        "        #print(test_PCA_r2_score)\n",
        "        print('R2 value = {}'.format(predictScore))\n",
        "\n",
        "        return {'fitParameters':{'predictScore':predictScore,'model_r2_score':model_r2_score,'test_r2_score':test_r2_score},'predict_model_output':predict_model_outputs,'predict_test_output':predict_test_outputs}\n",
        "\n",
        "\n",
        "    def regression_modeling_with_PCA(self,polyDeg,model_inputs,model_outputs,test_inputs,test_outputs):\n",
        "        output_PCA=self.principle_component_values_2(model_outputs, test_outputs, len([*model_outputs]))\n",
        "        model_Output_PCA=output_PCA['modelnumPCA']\n",
        "        test_Output_PCA=output_PCA['predictnumPCA']\n",
        "        input_PCA=self.principle_component_values(model_inputs, test_inputs, len([*model_inputs]))\n",
        "        model_input_PCA=input_PCA['modelnumPCA']\n",
        "        test_input_PCA=input_PCA['predictnumPCA']\n",
        "        \n",
        "        poly = PolynomialFeatures(polyDeg)\n",
        "        model_input_PCA_poly=poly.fit_transform(model_input_PCA)\n",
        "        test_input_PCA_poly=poly.fit_transform(test_input_PCA)\n",
        "        \n",
        "        regr = linear_model.LinearRegression()\n",
        "        linregModel=regr.fit(model_input_PCA_poly, model_Output_PCA)\n",
        "        predict_model_output_PCA=linregModel.predict(model_input_PCA_poly)\n",
        "        model_PCA_r2_score=r2_score(model_Output_PCA, predict_model_output_PCA)\n",
        "        #print(model_PCA_r2_score)\n",
        "        predict_model_output  = output_PCA['PCA_object'].inverse_transform(predict_model_output_PCA)\n",
        "        model_r2_score=r2_score(model_outputs, predict_model_output)\n",
        "        #print(model_r2_score)\n",
        "\n",
        "        predict_test_output_PCA=linregModel.predict(test_input_PCA_poly)\n",
        "        predictScore=linregModel.score(test_input_PCA_poly,test_Output_PCA)\n",
        "        test_PCA_r2_score=r2_score(test_Output_PCA, predict_test_output_PCA)\n",
        "        #print(test_PCA_r2_score)\n",
        "        predict_test_output  = output_PCA['PCA_object'].inverse_transform(predict_test_output_PCA)\n",
        "        test_r2_score=r2_score(test_outputs, predict_test_output)\n",
        "        print('PCA R2 value = {}'.format(predictScore)+' and '+'R2 value = {}'.format(test_r2_score))\n",
        "\n",
        "        return {'fitParameters':{'predictScore':predictScore,'model_PCA_r2_score':model_PCA_r2_score,'model_r2_score':model_r2_score,'test_PCA_r2_score':test_PCA_r2_score,'test_r2_score':test_r2_score},'predict_model_output':predict_model_output,'predict_test_output':predict_test_output}\n",
        "   \n",
        "    def principle_component_values_2(self, modelDF, predictDF, nnPCs):\n",
        "        pca=sklearn.decomposition.PCA(n_components=nnPCs);\n",
        "        modelnumPCA=pca.fit_transform(modelDF);\n",
        "        PCweights=pca.singular_values_;\n",
        "        PCAmodelScore=pca.score(modelDF);\n",
        "        PCAmeans=pca.mean_\n",
        "        predictnumPCA=pca.transform(predictDF);\n",
        "        PCApredictScore=pca.score(predictDF);\n",
        "        pcaOutput={'PCA_object':pca,'PCAmeans':PCAmeans,'fitScores': {'PCApredictScore':PCApredictScore, 'PCAmodelScore':PCAmodelScore}, 'PCweights':PCweights, 'modelnumPCA':pd.DataFrame(modelnumPCA),'predictnumPCA':pd.DataFrame(predictnumPCA)}\n",
        "        return pcaOutput\n",
        "\n"
      ],
      "metadata": {
        "id": "mEtbz9iFtuG5"
      },
      "execution_count": null,
      "outputs": []
    },
    {
      "cell_type": "code",
      "source": [
        "md=mugas_data_analysis()"
      ],
      "metadata": {
        "id": "9xOhSfFJuLLY"
      },
      "execution_count": null,
      "outputs": []
    },
    {
      "cell_type": "markdown",
      "source": [
        "### Plot functions by Dr Maithreepala"
      ],
      "metadata": {
        "id": "6mYfDqdaJMc4"
      }
    },
    {
      "cell_type": "code",
      "source": [
        "def pi_plot_values(dataPDF, plotCol, valueCol, ifAverage, figTitle):\n",
        "    xx1=[]; yy1=[]; cc1=[]; traceNames1=[];\n",
        "    for xx in set(dataPDF[plotCol].tolist()):\n",
        "      temp=dataPDF[dataPDF[plotCol]==xx];\n",
        "      xx1+=[xx]\n",
        "      tempxx=temp[temp[plotCol]==xx]\n",
        "      cc1+=[];\n",
        "      if valueCol==None:\n",
        "        yy1+=[len(tempxx)];\n",
        "      else:\n",
        "        if ifAverage:\n",
        "          yy1+=[sum([float(xx) for xx in tempxx[valueCol].tolist()])/(0.0001+len(tempxx))]\n",
        "        else:\n",
        "          yy1+=[sum([float(xx) for xx in tempxx[valueCol].tolist()])];\n",
        "      \n",
        "    \n",
        "    fig = go.Figure()\n",
        "    \n",
        "    fig.add_trace(go.Pie(labels=xx1, values=yy1, name=plotCol))\n",
        "        \n",
        "\n",
        "    fig.update_traces(hole=0.4, hoverinfo='label+value+name', textinfo='percent')\n",
        "    fig.update_layout(\n",
        "        title_text=figTitle,\n",
        "        #annotations=[dict(text='Colombo', x=0.18, y=0.5, font_size=15, showarrow=False), dict(text='Anuradhapura', x=0.84, y=0.5, font_size=15, showarrow=False)])\n",
        "        )\n",
        "    #fig.show()\n",
        "    return fig\n",
        "\n",
        "def hist_plot(ifPercentage,dataPDF, binRange, binSize, gpCol, valueCol, titleText, xLabel,yLabel):\n",
        "  xx1=[]; traceNames=[];\n",
        "  if gpCol==None:\n",
        "    gpFldList=['Default']\n",
        "  else:  \n",
        "    gpFldList=list(set(dataPDF[gpCol].tolist()))\n",
        "  gpFldList.sort()\n",
        "  for xx in gpFldList:\n",
        "    if gpCol==None:\n",
        "      temp=dataPDF\n",
        "    else:\n",
        "      temp=dataPDF[dataPDF[gpCol]==xx];    \n",
        "    xx1+=[temp[valueCol].tolist()]\n",
        "    traceNames+=[xx]\n",
        "  \n",
        "  \n",
        "  fig = go.Figure()\n",
        "  \n",
        "  if ifPercentage:\n",
        "    pltType='percent'\n",
        "  else:\n",
        "    pltType=None\n",
        "\n",
        "  for i,x in enumerate(xx1):\n",
        "    fig.add_trace(go.Histogram(\n",
        "        x=x,\n",
        "        histnorm=pltType,\n",
        "        #cumulative_enabled=cumulative,\n",
        "        name=traceNames[i], # name used in legend and hover labels\n",
        "        xbins=dict( # bins used for histogram\n",
        "            start=binRange[0],\n",
        "            end=binRange[1],\n",
        "            size=binSize\n",
        "        ),\n",
        "        #marker_color='#EB89B5',\n",
        "        opacity=0.75\n",
        "    ))\n",
        "\n",
        "  fig.update_layout(\n",
        "      title_text=titleText, # title of plot\n",
        "      xaxis_title_text=xLabel, # xaxis label\n",
        "      yaxis_title_text=yLabel, # yaxis label\n",
        "      bargap=0.2, # gap between bars of adjacent location coordinates\n",
        "      bargroupgap=0.1 # gap between bars of the same location coordinates\n",
        "  )\n",
        "\n",
        "  #fig.show()\n",
        "  #fig.write_html(\"/content/drive/My Drive/LMS Logs/Course_STATS_upto_May/\"+titleText+\".html\")\n",
        "  return fig"
      ],
      "metadata": {
        "id": "cgXLCZmzJSBi"
      },
      "execution_count": null,
      "outputs": []
    },
    {
      "cell_type": "markdown",
      "source": [
        "###Plot functions"
      ],
      "metadata": {
        "id": "_hYFjDQib6sl"
      }
    },
    {
      "cell_type": "code",
      "source": [
        "#Ploting\n",
        "\n",
        "#Histograms\n",
        "# ploty\n",
        "def plot_histograms(data_frame,data_coloum,col='blue'):\n",
        "  fig = px.histogram(data_frame, x=data_coloum,  title=data_coloum, opacity=0.9,color_discrete_sequence=[col] , nbins=200)\n",
        "  fig.update(layout_title_text='Data distributions of '+data_coloum)\n",
        "  fig.show()\n",
        "\n",
        "#Matplotlib\n",
        "def plot_histograms_plt(data_frame,data,col=\"blue\"):\n",
        "  plt.hist(data_frame[data],bins=100 ,color=col, alpha=0.7, density=True)\n",
        "  plt.title('Data distribution of'+data)\n",
        "  plt.ylabel(\"Probability\")\n",
        "  plt.xlabel(data)\n",
        "  plt.show()\n",
        "\n",
        "#(2) Dash plots\n",
        "def plot_DashPlot(data_frame,data_coloum,col='#F66095'):\n",
        "   hist_data =[data_frame[data_coloum]]\n",
        "   group_labels = [data_coloum] \n",
        "   fig = ff.create_distplot(hist_data, group_labels,bin_size=[0.1],colors=[col])\n",
        "   fig.show()\n",
        "\n",
        "#(Box plot)\n",
        "def plot_BoxPlot(data_frame,data_coloum,col='#F66095'):\n",
        "   fig = px.box(data_frame, y=data_coloum,points='all')\n",
        "   fig.update(layout_title_text='Boxplot of '+data_coloum)\n",
        "   fig.show()\n",
        "\n",
        "#(Scatter plots)\n",
        "def plot_ScatterPlot(data_frame,input,output,col='blue'):\n",
        "   fig = px.scatter(data_frame, x=input, y=output,color_discrete_sequence=[col])\n",
        "   fig.update(layout_title_text='Variatios of ' +input +' Vs '+output)\n",
        "   fig.show()\n",
        "   "
      ],
      "metadata": {
        "id": "OJwZxqepb-6W"
      },
      "execution_count": null,
      "outputs": []
    },
    {
      "cell_type": "markdown",
      "source": [
        "###Other functions"
      ],
      "metadata": {
        "id": "ds71S0WJuO5P"
      }
    },
    {
      "cell_type": "code",
      "source": [
        "\n",
        "\n",
        "def PCA_Analisis(input,output):\n",
        "    pcaOutputData=md.principle_component_values(output,output,len([*output]))\n",
        "    pcaInputData=md.principle_component_values(input,input,len([*input]))\n",
        "    return [ pcaInputData,pcaOutputData]\n",
        "    \n",
        "def PCA_invers(pca_val):\n",
        "    input=pca_val.to_numpy()\n",
        "    pca = PCA(n_components=4)\n",
        "    x_reconstructed  = pca.inverse_transform(input )\n",
        "    return x_reconstructed\n",
        "\n",
        "\n",
        "\n",
        "def reg_fit2_outputs(Xmodel,ymodel):\n",
        "    regr = linear_model.LinearRegression()\n",
        "    yregModel=regr.fit(Xmodel, ymodel)\n",
        "    yregModelpredict=yregModel.predict(Xmodel)\n",
        "    print(yregModel.coef_, 'Intercept: '+str(yregModel.intercept_))\n",
        "    return yregModelpredict\n",
        "\n",
        "def linear_reg_train(Xmodel,ymodel):\n",
        "    regr = linear_model.LinearRegression()\n",
        "    yregModel=regr.fit(Xmodel, ymodel)\n",
        "    return yregModel\n",
        "\n",
        "def liner_reg_predict(Xmodel,yregModel):\n",
        "    yregModelpredict=yregModel.predict(Xmodel)\n",
        "    return yregModelpredict\n",
        "     "
      ],
      "metadata": {
        "id": "fvi_sKIIxgiX"
      },
      "execution_count": null,
      "outputs": []
    },
    {
      "cell_type": "markdown",
      "source": [
        "#Import data And Preprossesing"
      ],
      "metadata": {
        "id": "_0JItGySuwFX"
      }
    },
    {
      "cell_type": "markdown",
      "source": [
        "##Import Data"
      ],
      "metadata": {
        "id": "bDlx5V2Swzx-"
      }
    },
    {
      "cell_type": "code",
      "source": [
        "csvFilePath='/content/drive/My Drive/Project_3rd_year/Data/{}'\n",
        "columns=['Input1','Input2','Input3','Input4','Output1','Output2','Output3','Output4','Output5']\n",
        "axial_data_frame=pd.read_csv(csvFilePath.format('UnitCell_Axial_Data_Complete.csv'),header=None)\n",
        "axial_data_frame.columns=columns\n",
        "bending_data_frame=pd.read_csv(csvFilePath.format('UnitCell_Bending_Data_Complete.csv'),header=None)\n",
        "bending_data_frame.columns=columns\n",
        "twisting_data_frame=pd.read_csv(csvFilePath.format('UnitCell_Twist_Data_Complete.csv'),header=None)\n",
        "twisting_data_frame.columns=columns"
      ],
      "metadata": {
        "id": "F8KGx1aGvDjn"
      },
      "execution_count": null,
      "outputs": []
    },
    {
      "cell_type": "markdown",
      "source": [
        "##Data Split"
      ],
      "metadata": {
        "id": "nQT-lGA9w33G"
      }
    },
    {
      "cell_type": "code",
      "source": [
        "#For Axial data\n",
        "axial_data_model,axial_data_test=train_test_split(axial_data_frame,test_size=0.2)\n",
        "#For Bending data\n",
        "bending_data_model,bending_data_test=train_test_split(bending_data_frame,test_size=0.2)\n",
        "#For Twist data\n",
        "twisting_data_model,twisting_data_test=train_test_split(twisting_data_frame,test_size=0.2)\n"
      ],
      "metadata": {
        "id": "wMeU7X7PxoDv"
      },
      "execution_count": null,
      "outputs": []
    },
    {
      "cell_type": "markdown",
      "source": [
        "#Axial Data"
      ],
      "metadata": {
        "id": "c1rG6imJ1FgX"
      }
    },
    {
      "cell_type": "markdown",
      "source": [
        " There are 4 Inputs and 5 Outputs in the Axial daata frame\n",
        "\n",
        "* **Input1**- Internal pressure                                  \n",
        "\n",
        "* **Input2**-X components of the external force\n",
        "\n",
        "* **Input3** - Y components of the external force\n",
        "\n",
        "* **Input 4** - Z components of the external force\n",
        "\n",
        "* **Output1** -Magnitude of the displacement\n",
        "* **Output2** - X component of the displacement\n",
        "* **Output3** - Y component of the displacement\n",
        "* **Output4** -Z components of thr displacemnt\n",
        "* **Output5** - Resultant force\n",
        " \n"
      ],
      "metadata": {
        "id": "9xY3RJzYUq2_"
      }
    },
    {
      "cell_type": "markdown",
      "source": [
        "##Functions"
      ],
      "metadata": {
        "id": "58M75o0XGUix"
      }
    },
    {
      "cell_type": "code",
      "source": [
        "# Functions definitions for axial data \n",
        "def PCA_Input_output(data):\n",
        "    outputCols=['Output2','Output3','Output4'] #,'Output5']\n",
        "    inputCols=['Input1','Input2','Input3','Input4'] #'Input1',\n",
        "    modelOutputData=data[outputCols]\n",
        "    predictOutputData=data[outputCols]\n",
        "    modelInputData=data[inputCols]\n",
        "    predictInputData=data[inputCols]\n",
        "    pcaOutputData=md.principle_component_values(modelOutputData,predictOutputData,len([*modelOutputData]))\n",
        "    pcaInputData=md.principle_component_values(modelInputData,predictInputData,len([*modelInputData]))\n",
        "    return [pcaOutputData, pcaInputData]\n",
        "\n",
        "def reg_fit2_outputs(Xmodel,ymodel):\n",
        "    regr = linear_model.LinearRegression()\n",
        "    yregModel=regr.fit(Xmodel, ymodel)\n",
        "    yregModelpredict=yregModel.predict(Xmodel)\n",
        "    print(yregModel.coef_, 'Intercept: '+str(yregModel.intercept_))\n",
        "    return yregModelpredict\n",
        "def axial_unit_cell_model(axial_data_model):\n",
        "    inputCols=['Input1','Input2','Input4']\n",
        "    outputCols=['Output2','Output3','Output4']\n",
        "    model_inputs=axial_data_model[inputCols]\n",
        "    model_outputs=axial_data_model[outputCols] \n",
        "    regr1 = linear_model.LinearRegression()\n",
        "    linregModel1=regr1.fit(model_inputs, model_outputs)\n",
        "    model_inputs=axial_data_model[['Input1','Output1']]\n",
        "    model_outputs=axial_data_model[['Output5']]\n",
        "    poly = PolynomialFeatures(2)\n",
        "    model_inputs_poly=pd.DataFrame(poly.fit_transform(model_inputs.to_numpy()))\n",
        "\n",
        "\n",
        "    regr2 = linear_model.LinearRegression()\n",
        "    linregModel2=regr2.fit(model_inputs_poly, model_outputs)\n",
        "    return [linregModel1,linregModel2]\n",
        "\n",
        "def axial_unit_cell_predict(linregModel1,linregModel2,axial_data_inputs):\n",
        "    inputCols=['Input1','Input2','Input4']\n",
        "    axial_data_inputs=axial_data_inputs.copy()\n",
        "    test_inputs1=axial_data_inputs[inputCols]\n",
        "    predict_test_outputs1=linregModel1.predict(test_inputs1)\n",
        "    predict_test_outputs_PDF=pd.DataFrame(predict_test_outputs1,columns=['Output2','Output3','Output4'])\n",
        "    \n",
        "    axial_data_inputs['Output1']=(predict_test_outputs_PDF**2).sum(axis='columns').apply(np.sqrt).to_list()\n",
        "    predict_test_outputs_PDF['Output1']=(predict_test_outputs_PDF**2).sum(axis='columns').apply(np.sqrt).to_list()\n",
        "\n",
        "    test_inputs2=axial_data_inputs[['Input1','Output1']]\n",
        "    poly = PolynomialFeatures(2)\n",
        "    test_inputs2_poly=pd.DataFrame(poly.fit_transform(test_inputs2.to_numpy()))\n",
        "    predict_test_outputs2=linregModel2.predict(test_inputs2_poly)\n",
        "    predict_test_outputs_PDF['Output5']=predict_test_outputs2\n",
        "    return [test_inputs2_poly,predict_test_outputs_PDF]\n",
        "\n",
        "def axial_unit_cell_model_validation(axial_data_frame):\n",
        "    axial_data_model,axial_data_test=train_test_split(axial_data_frame,test_size=0.2)\n",
        "    [linregModel1,linregModel2]=axial_unit_cell_model(axial_data_model)\n",
        "    inputCols=['Input1','Input2','Input4']\n",
        "    outputCols=['Output2','Output3','Output4']\n",
        "    \n",
        "    test_inputs1=axial_data_test[inputCols].copy()\n",
        "    test_outputs1=axial_data_test[outputCols]\n",
        "    predictScore1=linregModel1.score(test_inputs1,test_outputs1)    \n",
        "    \n",
        "    [test_inputs2_poly,predict_test_outputs_PDF]=axial_unit_cell_predict(linregModel1,linregModel2,test_inputs1)\n",
        "    display(predict_test_outputs_PDF)\n",
        "    predict_test_outputs1=predict_test_outputs_PDF[outputCols].to_numpy()\n",
        "    predict_test_outputs2=predict_test_outputs_PDF[['Output5']].to_numpy()\n",
        "    predictScore2=linregModel2.score(test_inputs2_poly,axial_data_test['Output5'])  \n",
        "\n",
        "    Xreal=test_outputs1\n",
        "    Xpredict=predict_test_outputs1\n",
        "    fig1=go.Figure()\n",
        "    fig1.add_trace(go.Scatter3d(x=Xreal[outputCols[0]],y=Xreal[outputCols[1]].to_list(),z=Xreal[outputCols[2]].to_list(),mode='markers',marker={'size':2},name='Actual'))\n",
        "    fig1.add_trace(go.Scatter3d(x=Xpredict[:,0],y=Xpredict[:,1],z=Xpredict[:,2],mode='markers',marker={'size':2},name='Predicted'))\n",
        "    fig1.show()\n",
        "\n",
        "    Xreal=axial_data_test[['Input1','Output1']]\n",
        "    Xpredict=predict_test_outputs_PDF[['Output1','Output2','Output3','Output4','Output5']]\n",
        "    fig2=go.Figure()\n",
        "    fig2.add_trace(go.Scatter3d(x=Xreal['Input1'],y=Xreal['Output1'],z=axial_data_test['Output5'].to_list(),mode='markers',marker={'size':2},name='Actual'))\n",
        "    fig2.add_trace(go.Scatter3d(x=Xreal['Input1'],y=Xpredict['Output1'],z=Xpredict['Output5'],mode='markers',marker={'size':2},name='Predicted'))\n",
        "    fig2.show()\n",
        "\n",
        "\n",
        "    Xreal=axial_data_test[['Output1','Output2','Output3','Output4','Output5']]\n",
        "    fig3=go.Figure()\n",
        "    fig3.add_trace(go.Scatter3d(x=Xreal['Output1'],y=Xreal['Output3'],z=Xreal['Output5'],mode='markers',marker={'size':2},name='Actual'))\n",
        "    fig3.add_trace(go.Scatter3d(x=Xpredict['Output1'],y=Xpredict['Output3'],z=Xpredict['Output5'],mode='markers',marker={'size':2},name='Predicted'))\n",
        "    fig3.show()\n",
        "\n",
        "    r2Score=r2_score(axial_data_test[['Output1','Output2','Output3','Output4','Output5']],predict_test_outputs_PDF[['Output1','Output2','Output3','Output4','Output5']])\n",
        "    return {'r2Score':r2Score,'predictScore1':predictScore1,'predictScore2':predictScore2}"
      ],
      "metadata": {
        "id": "zsqnzKlkGXYo"
      },
      "execution_count": null,
      "outputs": []
    },
    {
      "cell_type": "markdown",
      "source": [
        "##Data visualizations"
      ],
      "metadata": {
        "id": "q73gsE59HL4x"
      }
    },
    {
      "cell_type": "code",
      "source": [
        "data=axial_data_frame \n",
        "data_input=data[['Input1','Input2','Input3','Input4']]\n",
        "data_Output=data[['Output1','Output2','Output3','Output4']]"
      ],
      "metadata": {
        "id": "qubis-6fHiXE"
      },
      "execution_count": null,
      "outputs": []
    },
    {
      "cell_type": "markdown",
      "source": [
        "### Data distributions"
      ],
      "metadata": {
        "id": "oJNhe5mfa4zW"
      }
    },
    {
      "cell_type": "markdown",
      "source": [
        "####Inputs"
      ],
      "metadata": {
        "id": "vZkyZkMTbPlM"
      }
    },
    {
      "cell_type": "code",
      "source": [
        "\n",
        "#Histogram plots of inputs\n",
        "for label in data_input:\n",
        "  plot_histograms(data_input,label)\n"
      ],
      "metadata": {
        "id": "4s5_aiq3iuv1"
      },
      "execution_count": null,
      "outputs": []
    },
    {
      "cell_type": "code",
      "source": [
        "#Box plots of inputs\n",
        "for label in data_input:\n",
        "  plot_BoxPlot(data_input,label)"
      ],
      "metadata": {
        "id": "jT1NYubqjoXE"
      },
      "execution_count": null,
      "outputs": []
    },
    {
      "cell_type": "code",
      "source": [
        "#Dash plots plots of inputs\n",
        "for label in data_input:\n",
        "   plot_DashPlot(data_input,label)"
      ],
      "metadata": {
        "id": "uJr_MS74jy3E"
      },
      "execution_count": null,
      "outputs": []
    },
    {
      "cell_type": "markdown",
      "source": [
        "####Outputs"
      ],
      "metadata": {
        "id": "nyHZtrfpbSI-"
      }
    },
    {
      "cell_type": "code",
      "source": [
        "#histograms plots of Outputs\n",
        "for label in data_Output:\n",
        "  plot_histograms(data_Output,label)"
      ],
      "metadata": {
        "id": "g3Y6PtP9izJN"
      },
      "execution_count": null,
      "outputs": []
    },
    {
      "cell_type": "code",
      "source": [
        "#Box plots of inputs\n",
        "for label in data_Output:\n",
        "  plot_BoxPlot(data_Output,label)"
      ],
      "metadata": {
        "id": "b_PKz96MkD9i"
      },
      "execution_count": null,
      "outputs": []
    },
    {
      "cell_type": "code",
      "source": [
        "#Dash plots plots of inputs\n",
        "for label in data_input:\n",
        "   plot_DashPlot(data_input,label)"
      ],
      "metadata": {
        "id": "QNxnopUbkEmc"
      },
      "execution_count": null,
      "outputs": []
    },
    {
      "cell_type": "markdown",
      "source": [
        "### Input Output "
      ],
      "metadata": {
        "id": "XRkxUVgWbd79"
      }
    },
    {
      "cell_type": "code",
      "source": [
        "# Scatter plots of input vs outputs\n",
        "for label1 in data_Output :\n",
        "     plot_ScatterPlot(data_input,'Input2',label1)"
      ],
      "metadata": {
        "id": "qP4dcpVVlUOb"
      },
      "execution_count": null,
      "outputs": []
    },
    {
      "cell_type": "markdown",
      "source": [
        "##Correlation Analysis"
      ],
      "metadata": {
        "id": "vBLXLaeBKpbY"
      }
    },
    {
      "cell_type": "markdown",
      "source": [
        "According to the following correlation analysis input output correlations can be approximated as\n",
        "* **Output 1** - Output2 Output2 Output4 ($Output1=\\sqrt{Output2^2+Output3^2+Output4^2}$)\n",
        "* **Output 2** -Input1 Input2 input4 (Linear appximation)\n",
        "* **Output 3** -Input1 Input2 input4 (Linear appximation)\n",
        "* **Output 4** -Input1 Input2 input4 (Linear appximation)\n",
        "* **Output 5** -Input1 output1 (non liner appximation)\n"
      ],
      "metadata": {
        "id": "aVmLNXuV7V7B"
      }
    },
    {
      "cell_type": "markdown",
      "source": [
        "###Input output correlation"
      ],
      "metadata": {
        "id": "53-Z88bCKvFr"
      }
    },
    {
      "cell_type": "code",
      "source": [
        "outputLabels=['Output1','Output2','Output3','Output4','Output5']\n",
        "X=axial_data_frame[['Input1','Input2','Input3','Input4']]\n",
        "fig=go.Figure()\n",
        "rvals=[]\n",
        "for i,lbl in enumerate(outputLabels):\n",
        "    y=axial_data_frame[lbl]\n",
        "    rr=r_regression(X, y.to_numpy())\n",
        "    print(rr)\n",
        "    fig.add_trace(go.Scatter(y=rr,name=lbl))\n",
        "fig.show()"
      ],
      "metadata": {
        "id": "lvfUuuboK9S4"
      },
      "execution_count": null,
      "outputs": []
    },
    {
      "cell_type": "markdown",
      "source": [
        "###Output-output correlation"
      ],
      "metadata": {
        "id": "G7b0DxWmKxTC"
      }
    },
    {
      "cell_type": "code",
      "source": [
        "outputLabels=['Output1','Output2','Output3','Output4','Output5']\n",
        "X=axial_data_frame[outputLabels]\n",
        "fig=go.Figure()\n",
        "rvals=[]\n",
        "for i,lbl in enumerate(outputLabels):\n",
        "    y=axial_data_frame[lbl]\n",
        "    rr=r_regression(X, y.to_numpy())\n",
        "    print(rr)\n",
        "    fig.add_trace(go.Scatter(y=rr,name=lbl))\n",
        "fig.show()"
      ],
      "metadata": {
        "id": "gI0pmaAHLV0w"
      },
      "execution_count": null,
      "outputs": []
    },
    {
      "cell_type": "markdown",
      "source": [
        "###Input Output Relations "
      ],
      "metadata": {
        "id": "Uv5nErKz_-4v"
      }
    },
    {
      "cell_type": "code",
      "source": [
        "#Output1 <-----(Output2 ,Output3,Output4)\n",
        "\n",
        "data=axial_data_frame \n",
        "data_input=data[['Input1','Input2','Input3','Input4']]\n",
        "data_Output=data[['Output1','Output2','Output3','Output4','Output5']]\n",
        "\n",
        "fig=go.Figure()\n",
        "fig.add_trace(go.Scatter3d(x=data_Output['Output2'].to_list(),y=data_Output['Output4'].to_list(),z=data_Output['Output1'].to_list(),mode='markers',marker={'size':2},name='Actual'))\n",
        "fig.show()"
      ],
      "metadata": {
        "id": "0NTAQXt8AcEq"
      },
      "execution_count": null,
      "outputs": []
    },
    {
      "cell_type": "code",
      "source": [
        "#Output2 /Output 3/Output 4 <-----(input 1, Input 2,input 4)\n",
        "\n",
        "fig=go.Figure()\n",
        "fig.add_trace(go.Scatter3d(x=data_input['Input1'].to_list(),y=data_input['Input4'].to_list(),z=data_Output['Output2'].to_list(),mode='markers',marker={'size':2},name='Actual'))\n",
        "fig.show()"
      ],
      "metadata": {
        "id": "ENHpyA-2C254"
      },
      "execution_count": null,
      "outputs": []
    },
    {
      "cell_type": "code",
      "source": [
        "#Output5 <----- (Input1,Output1)\n",
        "fig=go.Figure()\n",
        "fig.add_trace(go.Scatter3d(x=data_input['Input1'].to_list(),y=data_Output['Output1'].to_list(),z=data_Output['Output5'].to_list(),mode='markers',marker={'size':2},name='Actual'))\n",
        "fig.show()"
      ],
      "metadata": {
        "id": "ZDUzw90kENyX"
      },
      "execution_count": null,
      "outputs": []
    },
    {
      "cell_type": "markdown",
      "source": [
        "##Modeing and Validation"
      ],
      "metadata": {
        "id": "pV9AeqrYOCrg"
      }
    },
    {
      "cell_type": "markdown",
      "source": [
        "###Liner Regression -All Outputs with All Inputs"
      ],
      "metadata": {
        "id": "QuAxPngJHXoI"
      }
    },
    {
      "cell_type": "code",
      "source": [
        "model_inputs=axial_data_model[['Input1','Input2','Input3','Input4']]\n",
        "model_outputs=axial_data_model[['Output1','Output2','Output3','Output4','Output5']] \n",
        "test_inputs=axial_data_test[['Input1','Input2','Input3','Input4']]\n",
        "test_outputs=axial_data_test[['Output1','Output2','Output3','Output4','Output5']] #\n",
        "lin_reg_model=md.linear_regression_modeling(model_inputs,model_outputs,test_inputs,test_outputs)\n",
        "Xreal=test_outputs\n",
        "Xpredict=lin_reg_model['predict_test_output']\n",
        "fig=go.Figure()\n",
        "fig.add_trace(go.Scatter3d(x=Xreal['Output2'],y=Xreal['Output3'].to_list(),z=Xreal['Output4'].to_list(),mode='markers',marker={'size':2},name='Actual'))\n",
        "fig.add_trace(go.Scatter3d(x=Xpredict[:,1],y=Xpredict[:,2],z=Xpredict[:,3],mode='markers',marker={'size':2},name='Predicted'))\n",
        "fig.show()"
      ],
      "metadata": {
        "id": "HQnt2EXNOKZ3"
      },
      "execution_count": null,
      "outputs": []
    },
    {
      "cell_type": "markdown",
      "source": [
        "### Linear Regression -Output2 Output3 Output4 with Input1 Input2 input4"
      ],
      "metadata": {
        "id": "jz3uK7xdH4G_"
      }
    },
    {
      "cell_type": "code",
      "source": [
        "inputCols=['Input1','Input2','Input4']\n",
        "outputCols=['Output2','Output3','Output4']\n",
        "model_inputs=axial_data_model[inputCols]\n",
        "model_outputs=axial_data_model[outputCols] \n",
        "test_inputs=axial_data_test[inputCols]\n",
        "test_outputs=axial_data_test[outputCols] #\n",
        "lin_reg_model=md.linear_regression_modeling(model_inputs,model_outputs,test_inputs,test_outputs)\n",
        "Xreal=test_outputs\n",
        "Xpredict=lin_reg_model['predict_test_output']\n",
        "fig=go.Figure()\n",
        "fig.add_trace(go.Scatter3d(x=Xreal[outputCols[0]],y=Xreal[outputCols[1]].to_list(),z=Xreal[outputCols[2]].to_list(),mode='markers',marker={'size':2},name='Actual'))\n",
        "fig.add_trace(go.Scatter3d(x=Xpredict[:,0],y=Xpredict[:,1],z=Xpredict[:,2],mode='markers',marker={'size':2},name='Predicted'))\n",
        "fig.show()"
      ],
      "metadata": {
        "id": "GBNHOLVtPeIg"
      },
      "execution_count": null,
      "outputs": []
    },
    {
      "cell_type": "code",
      "source": [
        "(pd.DataFrame(Xpredict)**2).sum(axis='columns').apply(np.sqrt)"
      ],
      "metadata": {
        "id": "Ikg6MRCtRTT_"
      },
      "execution_count": null,
      "outputs": []
    },
    {
      "cell_type": "markdown",
      "source": [
        "###Liner regression -Output5 with Input1 Output1"
      ],
      "metadata": {
        "id": "8WUbDMwCI59P"
      }
    },
    {
      "cell_type": "code",
      "source": [
        "model_inputs=axial_data_model[['Input1','Output1']]\n",
        "model_outputs=axial_data_model[['Output5']] \n",
        "test_inputs=axial_data_test[['Input1','Output1']]\n",
        "test_outputs=axial_data_test[['Output5']] #\n",
        "lin_reg_model=md.linear_regression_modeling(model_inputs,model_outputs,test_inputs,test_outputs)\n",
        "Xreal=test_inputs\n",
        "Xpredict=lin_reg_model['predict_test_output']\n",
        "fig=go.Figure()\n",
        "fig.add_trace(go.Scatter3d(x=Xreal['Input1'],y=Xreal['Output1'],z=test_outputs['Output5'].to_list(),mode='markers',marker={'size':2},name='Actual'))\n",
        "fig.add_trace(go.Scatter3d(x=Xreal['Input1'],y=Xreal['Output1'],z=Xpredict[:,0],mode='markers',marker={'size':2},name='Predicted'))\n",
        "fig.show()"
      ],
      "metadata": {
        "id": "8EGtOZlBhe8G"
      },
      "execution_count": null,
      "outputs": []
    },
    {
      "cell_type": "markdown",
      "source": [
        "###Liner regression -Output5 with Input1 Output1(Polynomial approximation of Inputs)"
      ],
      "metadata": {
        "id": "Zk8N372wJIu_"
      }
    },
    {
      "cell_type": "code",
      "source": [
        "model_inputs=axial_data_model[['Input1','Output1']]\n",
        "model_outputs=axial_data_model[['Output5']] \n",
        "test_inputs=axial_data_test[['Input1','Output1']]\n",
        "test_outputs=axial_data_test[['Output5']] #\n",
        "poly = PolynomialFeatures(2)\n",
        "model_inputs_poly=pd.DataFrame(poly.fit_transform(model_inputs.to_numpy()))\n",
        "test_inputs_poly=pd.DataFrame(poly.fit_transform(test_inputs.to_numpy()))\n",
        "lin_reg_model=md.linear_regression_modeling(model_inputs_poly,model_outputs,test_inputs_poly,test_outputs)\n",
        "Xreal=test_inputs\n",
        "Xpredict=lin_reg_model['predict_test_output']\n",
        "fig=go.Figure()\n",
        "fig.add_trace(go.Scatter3d(x=Xreal['Input1'],y=Xreal['Output1'],z=test_outputs['Output5'].to_list(),mode='markers',marker={'size':2},name='Actual'))\n",
        "fig.add_trace(go.Scatter3d(x=Xreal['Input1'],y=Xreal['Output1'],z=Xpredict[:,0],mode='markers',marker={'size':2},name='Predicted'))\n",
        "fig.show()"
      ],
      "metadata": {
        "id": "h9ubId_QOvr4"
      },
      "execution_count": null,
      "outputs": []
    },
    {
      "cell_type": "markdown",
      "source": [
        "### Model development"
      ],
      "metadata": {
        "id": "IxjYe1NeLHmR"
      }
    },
    {
      "cell_type": "code",
      "source": [
        "#Prediction\n",
        "axial_data_model,axial_data_test=train_test_split(axial_data_frame,test_size=0.2)\n",
        "[linregModel1,linregModel2]=axial_unit_cell_model(axial_data_model)\n",
        "axial_unit_cell_predict(linregModel1,linregModel2,axial_data_test[['Input1','Input2','Input4']])"
      ],
      "metadata": {
        "id": "EYeyyqrPPuHQ"
      },
      "execution_count": null,
      "outputs": []
    },
    {
      "cell_type": "code",
      "source": [
        "#validation\n",
        "axial_data_model,axial_data_test=train_test_split(axial_data_frame,test_size=0.2)\n",
        "outputs=axial_unit_cell_model_validation(axial_data_frame)"
      ],
      "metadata": {
        "id": "elmqitEwRzyJ"
      },
      "execution_count": null,
      "outputs": []
    },
    {
      "cell_type": "markdown",
      "source": [
        "#Bending data"
      ],
      "metadata": {
        "id": "5WSKwutOLgdP"
      }
    },
    {
      "cell_type": "markdown",
      "source": [
        "##Functions"
      ],
      "metadata": {
        "id": "cmONu4rqH-fb"
      }
    },
    {
      "cell_type": "code",
      "source": [
        "def regression_modeling_with_PCA_model(polyDeg,model_inputs,model_outputs):\n",
        "        \n",
        "\n",
        "        nnPCs1=len([*model_inputs])\n",
        "        pca1=sklearn.decomposition.PCA(n_components=nnPCs1);\n",
        "        model_input_PCA=pca1.fit_transform(model_inputs);\n",
        "\n",
        "        nnPCs2=len([*model_outputs])\n",
        "        pca2=sklearn.decomposition.PCA(n_components=nnPCs2);\n",
        "        model_Output_PCA=pca2.fit_transform(model_outputs);\n",
        "\n",
        "        \n",
        "        poly = PolynomialFeatures(polyDeg)\n",
        "        model_input_PCA_poly=poly.fit_transform(model_input_PCA)\n",
        "      \n",
        "        \n",
        "        regr = linear_model.LinearRegression()\n",
        "        linregModel=regr.fit(model_input_PCA_poly, model_Output_PCA)\n",
        "        \n",
        "\n",
        "        return linregModel ,pca1,pca2\n",
        "\n",
        "\n",
        "def bending_unitcell_modeling(data_model):\n",
        "     inputCols1=['Input1','Input3'] #'Input2','Input3','Input4']\n",
        "     outputCols1=['Output3']\n",
        "     \n",
        "     model_outputs1=data_model[outputCols1]\n",
        "     model_inputs1=data_model[inputCols1]\n",
        "     linregModel,pca1_1,pca2_1=regression_modeling_with_PCA_model(3,model_inputs1, model_outputs1)\n",
        "\n",
        "     inputCols2=['Input1','Input2','Input4']\n",
        "     outputCols2=['Output2','Output4','Output5']\n",
        "\n",
        "     model_outputs2=data_model[outputCols2]\n",
        "     model_inputs2=data_model[inputCols2]\n",
        "     linregModel2,pca1_2,pca2_2=regression_modeling_with_PCA_model(5,model_inputs2, model_outputs2)\n",
        "     \n",
        "     return linregModel ,linregModel2,pca1_1,pca2_1,pca1_2,pca2_2\n",
        "\n",
        "\n",
        "\n",
        "def bending_unitcell_predict(data_test_input,linregModel1 ,linregModel2,pca1_1,pca2_1,pca1_2,pca2_2):\n",
        "\n",
        "     inputCols=['Input1','Input2','Input3','Input4']\n",
        "     outputCols=['Output3','Output2','Output4','Output5']\n",
        "     inputCols1=['Input1','Input3']\n",
        "     inputCols2=['Input1','Input2','Input4']\n",
        "     \n",
        "\n",
        "\n",
        "     data_input_1=data_test_input[inputCols1]\n",
        "     data_input_2=data_test_input[inputCols2]\n",
        "\n",
        "\n",
        "\n",
        "     data_input_PCA1=pca1_1.fit_transform(data_input_1);\n",
        "\n",
        "\n",
        "    \n",
        "     data_input_PCA2=pca1_2.fit_transform(data_input_2);\n",
        "\n",
        "     \n",
        "     poly1 = PolynomialFeatures(3)\n",
        "     data_input_PCA_poly1=poly1.fit_transform(data_input_PCA1)\n",
        "\n",
        "     poly2 = PolynomialFeatures(5)\n",
        "     data_input_PCA_poly2=poly2.fit_transform(data_input_PCA2)\n",
        "\n",
        "     predict_output_PCA1=linregModel1.predict(data_input_PCA_poly1)\n",
        "     predict_output_PCA2=linregModel2.predict(data_input_PCA_poly2)\n",
        "  \n",
        "\n",
        "     predict_output1  = pca2_1.inverse_transform(predict_output_PCA1)\n",
        "     predict_output2  = pca2_2.inverse_transform(predict_output_PCA2)\n",
        "     predict_output=np.hstack((predict_output1, predict_output2))\n",
        "\n",
        "     predict_output_pdf=pd.DataFrame(predict_output,columns=outputCols)\n",
        "\n",
        "     return predict_output_pdf\n",
        "\n",
        "def bending_unit_cell_fit_transform(data_frame):\n",
        "    data_model,data_test=train_test_split(data_frame,test_size=0.2)\n",
        "    \n",
        "    inputCols=['Input1','Input3'] #'Input2','Input3','Input4']\n",
        "    outputCols=['Output3']\n",
        "\n",
        "    model_outputs=data_model[outputCols]\n",
        "    test_outputs=data_test[outputCols]\n",
        "    model_inputs=data_model[inputCols]\n",
        "    test_inputs=data_test[inputCols]\n",
        "\n",
        "    model_fit_output=md.regression_modeling_with_PCA(3,model_inputs,model_outputs,test_inputs,test_outputs)\n",
        "    InputsReal=test_inputs\n",
        "    OutputsReal=test_outputs\n",
        "    Xpredict=pd.DataFrame(model_fit_output['predict_test_output'],columns=outputCols)\n",
        "    fig=go.Figure()\n",
        "    fig.add_trace(go.Scatter3d(x=InputsReal['Input1'],y=InputsReal['Input3'],z=OutputsReal['Output3'],mode='markers',marker={'size':2},name='Actual'))\n",
        "    fig.add_trace(go.Scatter3d(x=InputsReal['Input1'],y=InputsReal['Input3'],z=Xpredict['Output3'],mode='markers',marker={'size':2},name='Predicted'))\n",
        "    fig.show()\n",
        "\n",
        "    inputCols2=['Input1','Input2','Input4']\n",
        "    outputCols2=['Output2','Output4','Output5']\n",
        "\n",
        "    model_outputs2=data_model[outputCols2]\n",
        "    test_outputs2=data_test[outputCols2]\n",
        "    model_inputs2=data_model[inputCols2]\n",
        "    test_inputs2=data_test[inputCols2]\n",
        "    model_fit_output2=md.regression_modeling_with_PCA(5,model_inputs2,model_outputs2,test_inputs2,test_outputs2)\n",
        "    \n",
        "    InputsReal2=test_inputs2\n",
        "    OutputsReal2=test_outputs2\n",
        "    Xpredict2=pd.DataFrame(model_fit_output2['predict_test_output'],columns=outputCols2)\n",
        "    \n",
        "    fig2=go.Figure()\n",
        "    fig2.add_trace(go.Scatter3d(x=OutputsReal2['Output2'],y=OutputsReal2['Output5'],z=OutputsReal2['Output4'],mode='markers',marker={'size':2},name='Actual'))\n",
        "    fig2.add_trace(go.Scatter3d(x=Xpredict2['Output2'],y=Xpredict2['Output5'],z=Xpredict2['Output4'],mode='markers',marker={'size':2},name='Predicted'))\n",
        "    fig2.show()\n",
        "\n",
        "    yPredict=pd.concat([Xpredict,Xpredict2],axis=1)\n",
        "    r2Score=r2_score(data_test[outputCols+outputCols2],yPredict[outputCols+outputCols2])\n",
        "    return yPredict,r2Score"
      ],
      "metadata": {
        "id": "Ab-x7UaoI4Ra"
      },
      "execution_count": null,
      "outputs": []
    },
    {
      "cell_type": "code",
      "source": [
        "data=bending_data_frame\n",
        "\n",
        "\n"
      ],
      "metadata": {
        "id": "W-Qm6cwbJdh8"
      },
      "execution_count": null,
      "outputs": []
    },
    {
      "cell_type": "markdown",
      "source": [
        "##Data Visualization"
      ],
      "metadata": {
        "id": "0BokwTyBIKxb"
      }
    },
    {
      "cell_type": "code",
      "source": [
        "#User inputs - Drop down menus\n",
        "histGpCol=None # Pick from drop down list [None]+categoryCols\n",
        "histPltCol='Output2' #'new_cases' # Pick from drop down list [None]+categoryCols\n",
        "histPltValCol=histPltCol #'new_cases' #'people_vaccinated' #'total_deaths' #'icu_patients_per_million' #'total_boosters_per_hundred' #None # Pick from drop down list [None]+valueCols\n",
        "#Python code\n",
        "histPlotDataPDF=pd.DataFrame()\n",
        "#histGpFldList=list(set(data[histGpCol].to_list()))\n",
        "#histGpFldList.sort()\n",
        "histPltFldList=list(set(data[histPltCol].to_list()))\n",
        "histPltFldList.sort()\n",
        "histPlotDataPDF[histPltValCol]=[float(xx) for xx in data[histPltValCol].to_list()] #[data[histPltCol].isin(histPltFldList)]\n",
        "binRange=[min([float(xx) for xx in histPlotDataPDF[histPltValCol].to_list()]),max([float(xx) for xx in histPlotDataPDF[histPltValCol].to_list()])]\n",
        "binSize=((binRange[1]-binRange[0])/100)+0*1\n",
        "xLabelHist=histPltValCol\n",
        "yLabelHist='Numbers'\n",
        "histTitle=histPltValCol\n",
        "figHist=hist_plot(False, histPlotDataPDF, binRange, binSize, histGpCol, histPltValCol, histTitle, xLabelHist, yLabelHist)\n",
        "figHist.show()"
      ],
      "metadata": {
        "id": "8exm9RbkJzpb"
      },
      "execution_count": null,
      "outputs": []
    },
    {
      "cell_type": "code",
      "source": [
        "#2d scatter plots input vs output\n",
        "fig=go.Figure()\n",
        "scatterDataPDF=data\n",
        "xcol='Input1'\n",
        "for ycol in ['Output1','Output2','Output3','Output4','Output5']:\n",
        "    fig.add_trace(go.Scatter(x=scatterDataPDF[xcol].to_list(), y=scatterDataPDF[ycol].to_list(),mode='markers',name=ycol))\n",
        "fig.show()"
      ],
      "metadata": {
        "id": "cOEgDuWjKZBD"
      },
      "execution_count": null,
      "outputs": []
    },
    {
      "cell_type": "code",
      "source": [
        "#3d scatter plots input vs output\n",
        "fig=go.Figure()\n",
        "scatter3Ddata=data\n",
        "xcol='Input1'; ycol='Input2'; zcol='Output5';\n",
        "fig.add_trace(go.Scatter3d(x=scatter3Ddata[xcol].to_list(),y=scatter3Ddata[ycol].to_list(),z=scatter3Ddata[zcol].to_list(),mode='markers',marker={'size':2}))"
      ],
      "metadata": {
        "id": "32X0Omd4KX37"
      },
      "execution_count": null,
      "outputs": []
    },
    {
      "cell_type": "code",
      "source": [
        "#2d scatter plots input vs output(special case inputi=0 -> output)\n",
        "fig=go.Figure()\n",
        "scatterDataPDF=data[((data['Input2']==0) & (data['Input3']==0))] \n",
        "xcol='Input1'\n",
        "for ycol in ['Output1','Output2','Output3','Output4','Output5']:\n",
        "    fig.add_trace(go.Scatter(x=scatterDataPDF[xcol].to_list(), y=scatterDataPDF[ycol].to_list(),mode='markers',name=ycol))\n",
        "fig.show()"
      ],
      "metadata": {
        "id": "wRXNU1OWJ-w8"
      },
      "execution_count": null,
      "outputs": []
    },
    {
      "cell_type": "code",
      "source": [
        "#3d scatter plots input vs output(special case inputi=0 -> output)\n",
        "fig=go.Figure()\n",
        "scatter3Ddata=data[((data['Input4']==0) & (data['Input2']==0))] #data\n",
        "xcol='Input1'; ycol='Input3'; zcol='Output5';\n",
        "fig.add_trace(go.Scatter3d(x=scatter3Ddata[xcol].to_list(),y=scatter3Ddata[ycol].to_list(),z=scatter3Ddata[zcol].to_list(),mode='markers'))"
      ],
      "metadata": {
        "id": "d0bQ2l6PKCWr"
      },
      "execution_count": null,
      "outputs": []
    },
    {
      "cell_type": "markdown",
      "source": [
        "##Coralationn Analysis"
      ],
      "metadata": {
        "id": "0cGeRf0bIQrD"
      }
    },
    {
      "cell_type": "markdown",
      "source": [
        "###Inputs -Outputs"
      ],
      "metadata": {
        "id": "7M0S3vhrLeib"
      }
    },
    {
      "cell_type": "code",
      "source": [
        "outputLabels=['Output1','Output2','Output3','Output4','Output5']\n",
        "X=data[['Input1','Input2','Input3','Input4']]\n",
        "fig=go.Figure()\n",
        "rvals=[]\n",
        "for i,lbl in enumerate(outputLabels):\n",
        "    y=data[lbl]\n",
        "    rr=r_regression(X, y.to_numpy())\n",
        "    print(rr)\n",
        "    fig.add_trace(go.Scatter(y=rr,name=lbl))\n",
        "fig.show()"
      ],
      "metadata": {
        "id": "c4kwcFjPLgiS"
      },
      "execution_count": null,
      "outputs": []
    },
    {
      "cell_type": "markdown",
      "source": [
        "###Output-Output"
      ],
      "metadata": {
        "id": "R4cmuaKkLh6K"
      }
    },
    {
      "cell_type": "code",
      "source": [
        "outputLabels=['Output1','Output2','Output3','Output4','Output5']\n",
        "X=data[outputLabels]\n",
        "fig=go.Figure()\n",
        "rvals=[]\n",
        "for i,lbl in enumerate(outputLabels):\n",
        "    y=data[lbl]\n",
        "    rr=r_regression(X, y.to_numpy())\n",
        "    print(rr)\n",
        "    fig.add_trace(go.Scatter(y=rr,name=lbl))\n",
        "fig.show()"
      ],
      "metadata": {
        "id": "rVQ2_lA8L5fi"
      },
      "execution_count": null,
      "outputs": []
    },
    {
      "cell_type": "markdown",
      "source": [
        "##PCA analysis"
      ],
      "metadata": {
        "id": "HMjm4EGMIXRT"
      }
    },
    {
      "cell_type": "markdown",
      "source": [
        "##Model design and Validation"
      ],
      "metadata": {
        "id": "bhxkFPhcIa8D"
      }
    },
    {
      "cell_type": "code",
      "source": [
        "[linregModel1,linregModel2,pca1_1,pca2_1,pca1_2,pca2_2]=bending_unitcell_modeling(bending_data_model)"
      ],
      "metadata": {
        "id": "3GpDiYjh79I2"
      },
      "execution_count": null,
      "outputs": []
    },
    {
      "cell_type": "code",
      "source": [
        "predict_output=bending_unitcell_predict(bending_data_model,linregModel1 ,linregModel2,pca1_1,pca2_1,pca1_2,pca2_2)"
      ],
      "metadata": {
        "id": "aLxujQ1kJl-F"
      },
      "execution_count": null,
      "outputs": []
    },
    {
      "cell_type": "code",
      "source": [
        "bending_unit_cell_fit_transform(bending_data_frame)"
      ],
      "metadata": {
        "id": "ljHCp5ZS_voB"
      },
      "execution_count": null,
      "outputs": []
    },
    {
      "cell_type": "markdown",
      "source": [
        "#Twisting data"
      ],
      "metadata": {
        "id": "ZVwB-CJ6Lj52"
      }
    },
    {
      "cell_type": "markdown",
      "source": [
        "##Functions"
      ],
      "metadata": {
        "id": "1838Q4v_vmc3"
      }
    },
    {
      "cell_type": "code",
      "source": [
        "\n",
        "################################\n",
        "def twisting_unit_cell_model(axial_data_model):\n",
        "    inputCols=['Input1','Input2','Input3']\n",
        "    outputCols=['Output2','Output5',]\n",
        "    model_inputs=axial_data_model[inputCols]\n",
        "    model_outputs=axial_data_model[outputCols] \n",
        "    regr1 = linear_model.LinearRegression()\n",
        "    linregModel1=regr1.fit(model_inputs, model_outputs)\n",
        "\n",
        "    model_inputs=axial_data_model[['Input4','Output2']]\n",
        "    model_outputs=axial_data_model[['Output3','Output4']]\n",
        "    poly = PolynomialFeatures(1)\n",
        "    model_inputs_poly=pd.DataFrame(poly.fit_transform(model_inputs.to_numpy()))\n",
        "\n",
        "\n",
        "    regr2 = linear_model.LinearRegression()\n",
        "    linregModel2=regr2.fit(model_inputs_poly, model_outputs)\n",
        "    return [linregModel1,linregModel2]\n",
        "\n",
        "def twisting_unit_cell_predict(linregModel1,linregModel2,axial_data_inputs):\n",
        "    inputCols=['Input1','Input2','Input3']\n",
        "    axial_data_inputs=axial_data_inputs.copy()\n",
        "    test_inputs1=axial_data_inputs[inputCols]\n",
        "    predict_test_outputs1=linregModel1.predict(test_inputs1)\n",
        "    predict_test_outputs_PDF=pd.DataFrame(predict_test_outputs1,columns=['Output2','Output5'])\n",
        "    \n",
        "    axial_data_inputs['Output1']=(predict_test_outputs_PDF**2).sum(axis='columns').apply(np.sqrt).to_list()\n",
        "    predict_test_outputs_PDF['Output1']=(predict_test_outputs_PDF**2).sum(axis='columns').apply(np.sqrt).to_list()\n",
        "\n",
        "    test_inputs2=axial_data_inputs[['Input4','Input2']]\n",
        "    poly = PolynomialFeatures(1)\n",
        "    test_inputs2_poly=pd.DataFrame(poly.fit_transform(test_inputs2.to_numpy()))\n",
        "    predict_test_outputs2=linregModel2.predict(test_inputs2_poly)\n",
        "    predict_test_outputs_PDF['Output3']=predict_test_outputs2[:,0]\n",
        "    predict_test_outputs_PDF['Output4']=predict_test_outputs2[:,1]\n",
        "    return [test_inputs2_poly,predict_test_outputs_PDF]\n",
        "\n",
        "def twisting_cell_model_validation(axial_data_frame):\n",
        "  \n",
        "    axial_data_model,axial_data_test=train_test_split(axial_data_frame,test_size=0.2)\n",
        "    [linregModel1,linregModel2]=axial_unit_cell_model(axial_data_model)\n",
        "    inputCols=['Input1','Input2','Input3']\n",
        "    outputCols=['Output2','Output5']\n",
        "    \n",
        "    test_inputs1=axial_data_test[inputCols].copy()\n",
        "    test_outputs1=axial_data_test[outputCols]\n",
        "    predictScore1=linregModel1.score(test_inputs1,test_outputs1)    \n",
        "    \n",
        "    [test_inputs2_poly,predict_test_outputs_PDF]=axial_unit_cell_predict(linregModel1,linregModel2,test_inputs1)\n",
        "    display(predict_test_outputs_PDF)\n",
        "    predict_test_outputs1=predict_test_outputs_PDF[outputCols].to_numpy()\n",
        "    predict_test_outputs2=predict_test_outputs_PDF[['Output5']].to_numpy()\n",
        "    predictScore2=linregModel2.score(test_inputs2_poly,axial_data_test['Output5'])  \n",
        "\n",
        "    Xreal=test_outputs1\n",
        "    Xpredict=predict_test_outputs1\n",
        "    fig1=go.Figure()\n",
        "    fig1.add_trace(go.Scatter3d(x=Xreal[outputCols[0]],y=Xreal[outputCols[1]].to_list(),z=Xreal[outputCols[2]].to_list(),mode='markers',marker={'size':2},name='Actual'))\n",
        "    fig1.add_trace(go.Scatter3d(x=Xpredict[:,0],y=Xpredict[:,1],z=Xpredict[:,2],mode='markers',marker={'size':2},name='Predicted'))\n",
        "    fig1.show()\n",
        "\n",
        "    Xreal=axial_data_test[['Input1','Output1']]\n",
        "    Xpredict=predict_test_outputs_PDF[['Output1','Output2','Output3','Output4','Output5']]\n",
        "    fig2=go.Figure()\n",
        "    fig2.add_trace(go.Scatter3d(x=Xreal['Input1'],y=Xreal['Output1'],z=axial_data_test['Output5'].to_list(),mode='markers',marker={'size':2},name='Actual'))\n",
        "    fig2.add_trace(go.Scatter3d(x=Xreal['Input1'],y=Xpredict['Output1'],z=Xpredict['Output5'],mode='markers',marker={'size':2},name='Predicted'))\n",
        "    fig2.show()\n",
        "\n",
        "\n",
        "    Xreal=axial_data_test[['Output1','Output2','Output3','Output4','Output5']]\n",
        "    fig3=go.Figure()\n",
        "    fig3.add_trace(go.Scatter3d(x=Xreal['Output1'],y=Xreal['Output3'],z=Xreal['Output5'],mode='markers',marker={'size':2},name='Actual'))\n",
        "    fig3.add_trace(go.Scatter3d(x=Xpredict['Output1'],y=Xpredict['Output3'],z=Xpredict['Output5'],mode='markers',marker={'size':2},name='Predicted'))\n",
        "    fig3.show()\n",
        "\n",
        "    r2Score=r2_score(axial_data_test[['Output1','Output2','Output3','Output4','Output5']],predict_test_outputs_PDF[['Output1','Output2','Output3','Output4','Output5']])\n",
        "    return {'r2Score':r2Score,'predictScore1':predictScore1,'predictScore2':predictScore2}\n",
        "\n",
        "def dicision_tree(x,y):\n",
        "\n",
        "     X_train, X_test, y_train, y_test = train_test_split(X, y, test_size=0.2, random_state=42)\n",
        "\n",
        "     regressor = DecisionTreeRegressor(random_state=42)\n",
        "\n",
        "     regressor.fit(X_train, y_train)\n",
        "\n",
        "     y_pred = regressor.predict(X_test)\n",
        "\n",
        "     mse = mean_squared_error(y_test, y_pred)\n",
        "     print(\"Mean Squared Error:\", mse)\n",
        "     return mse;\n",
        "\n",
        "\n",
        "\n",
        "\n",
        "\n",
        "\n",
        "def twisting_unit_cell_fit_transform(data_frame):\n",
        "\n",
        "    data_model,data_test=train_test_split(data_frame,test_size=0.2)\n",
        "    \n",
        "    inputCols=['Input1','Input2','Input3'] #'Input2','Input3','Input4']\n",
        "    outputCols=['Output2','Output5']\n",
        "\n",
        "    model_outputs=data_model[outputCols]\n",
        "    test_outputs=data_test[outputCols]\n",
        "    model_inputs=data_model[inputCols]\n",
        "    test_inputs=data_test[inputCols]\n",
        "\n",
        "    model_fit_output=md.regression_modeling_with_PCA(1,model_inputs,model_outputs,test_inputs,test_outputs)\n",
        "\n",
        "    InputsReal=test_inputs\n",
        "    OutputsReal=test_outputs\n",
        "    predict_out=pd.DataFrame(model_fit_output['predict_test_output'],columns=outputCols)\n",
        "    fig=go.Figure()\n",
        "    fig.add_trace(go.Scatter3d(x=InputsReal['Input1'],y=OutputsReal['Output2'],z=OutputsReal['Output5'],mode='markers',marker={'size':2},name='Actual'))\n",
        "    fig.add_trace(go.Scatter3d(x=InputsReal['Input1'],y=predict_out['Output2'],z=predict_out['Output5'],mode='markers',marker={'size':2},name='Predicted'))\n",
        "    fig.show()\n",
        "\n",
        "    inputCols2=['Input1','Input2','Input4']\n",
        "    outputCols2=['Output3','Output4']\n",
        "\n",
        "    model_outputs2=data_model[outputCols2]\n",
        "    test_outputs2=data_test[outputCols2]\n",
        "    model_inputs2=data_model[inputCols2]\n",
        "    test_inputs2=data_test[inputCols2]\n",
        "    model_fit_output2=md.regression_modeling_with_PCA(2,model_inputs2,model_outputs2,test_inputs2,test_outputs2)\n",
        "    \n",
        "    InputsReal2=test_inputs2\n",
        "    OutputsReal2=test_outputs2\n",
        "    predict2_out=pd.DataFrame(model_fit_output2['predict_test_output'],columns=outputCols2)\n",
        "    \n",
        "    fig2=go.Figure()\n",
        "    fig2.add_trace(go.Scatter3d(x=InputsReal2['Input4'],y=OutputsReal2['Output3'],z=OutputsReal2['Output4'],mode='markers',marker={'size':2},name='Actual'))\n",
        "    fig2.add_trace(go.Scatter3d(x=InputsReal2['Input4'],y=predict2_out['Output3'],z=predict2_out['Output4'],mode='markers',marker={'size':2},name='Predicted'))\n",
        "    fig2.show()\n",
        "\n",
        "    yPredict=pd.concat([predict_out,predict2_out],axis=1)\n",
        "    r2Score=r2_score(data_test[outputCols+outputCols2],yPredict[outputCols+outputCols2])\n",
        "    return yPredict,r2Score"
      ],
      "metadata": {
        "id": "5TP1GpT7AIdY"
      },
      "execution_count": null,
      "outputs": []
    },
    {
      "cell_type": "code",
      "source": [
        "data=twisting_data_frame"
      ],
      "metadata": {
        "id": "djvXCkNZAMl_"
      },
      "execution_count": null,
      "outputs": []
    },
    {
      "cell_type": "markdown",
      "source": [
        "##Data visualization"
      ],
      "metadata": {
        "id": "lj48huD3vpyf"
      }
    },
    {
      "cell_type": "code",
      "source": [
        "data=twisting_data_frame"
      ],
      "metadata": {
        "id": "jOaKP9KDwb-a"
      },
      "execution_count": null,
      "outputs": []
    },
    {
      "cell_type": "code",
      "source": [
        "#User inputs - Drop down menus\n",
        "histGpCol=None # Pick from drop down list [None]+categoryCols\n",
        "histPltCol='Output1' #'new_cases' # Pick from drop down list [None]+categoryCols\n",
        "histPltValCol=histPltCol #'new_cases' #'people_vaccinated' #'total_deaths' #'icu_patients_per_million' #'total_boosters_per_hundred' #None # Pick from drop down list [None]+valueCols\n",
        "#Python code\n",
        "histPlotDataPDF=pd.DataFrame()\n",
        "#histGpFldList=list(set(data[histGpCol].to_list()))\n",
        "#histGpFldList.sort()\n",
        "histPltFldList=list(set(data[histPltCol].to_list()))\n",
        "histPltFldList.sort()\n",
        "histPlotDataPDF[histPltValCol]=[float(xx) for xx in data[histPltValCol].to_list()] #[data[histPltCol].isin(histPltFldList)]\n",
        "binRange=[min([float(xx) for xx in histPlotDataPDF[histPltValCol].to_list()]),max([float(xx) for xx in histPlotDataPDF[histPltValCol].to_list()])]\n",
        "binSize=((binRange[1]-binRange[0])/100)+0*1\n",
        "xLabelHist=histPltValCol\n",
        "yLabelHist='Numbers'\n",
        "histTitle=histPltValCol\n",
        "figHist=hist_plot(False, histPlotDataPDF, binRange, binSize, histGpCol, histPltValCol, histTitle, xLabelHist, yLabelHist)\n",
        "figHist.show()\n",
        "\n"
      ],
      "metadata": {
        "id": "dTwHsqHVwpii"
      },
      "execution_count": null,
      "outputs": []
    },
    {
      "cell_type": "code",
      "source": [
        "data"
      ],
      "metadata": {
        "id": "3dQPUxcFxG37"
      },
      "execution_count": null,
      "outputs": []
    },
    {
      "cell_type": "code",
      "source": [
        "#2d scatter plots input vs output\n",
        "fig=go.Figure()\n",
        "scatterDataPDF=data\n",
        "xcol='Input1'\n",
        "for ycol in ['Output1','Output2','Output3','Output4','Output5']:\n",
        "    fig.add_trace(go.Scatter(x=scatterDataPDF[xcol].to_list(), y=scatterDataPDF[ycol].to_list(),mode='markers',name=ycol))\n",
        "fig.show()"
      ],
      "metadata": {
        "id": "LgzdZiIEwr4A"
      },
      "execution_count": null,
      "outputs": []
    },
    {
      "cell_type": "code",
      "source": [
        "#3d scatter plots input vs output\n",
        "fig=go.Figure()\n",
        "scatter3Ddata=data\n",
        "xcol='Input1'; ycol='Input3'; zcol='Output5';\n",
        "fig.add_trace(go.Scatter3d(x=scatter3Ddata[xcol].to_list(),y=scatter3Ddata[ycol].to_list(),z=scatter3Ddata[zcol].to_list(),mode='markers',marker={'size':2}))"
      ],
      "metadata": {
        "id": "y0VRPczTwuqY"
      },
      "execution_count": null,
      "outputs": []
    },
    {
      "cell_type": "code",
      "source": [
        "#2d scatter plots input vs output(special case inputi=0 -> output)\n",
        "fig=go.Figure()\n",
        "scatterDataPDF=data[((data['Input2']==0) & (data['Input3']==0))] \n",
        "xcol='Input1'\n",
        "for ycol in ['Output1','Output2','Output3','Output4','Output5']:\n",
        "    fig.add_trace(go.Scatter(x=scatterDataPDF[xcol].to_list(), y=scatterDataPDF[ycol].to_list(),mode='markers',name=ycol))\n",
        "fig.show()"
      ],
      "metadata": {
        "id": "AZkFQof1w5mf"
      },
      "execution_count": null,
      "outputs": []
    },
    {
      "cell_type": "code",
      "source": [
        "#3d scatter plots input vs output(special case inputi=0 -> output)\n",
        "fig=go.Figure()\n",
        "scatter3Ddata=data[((data['Input4']==0) & (data['Input2']==0))] #data\n",
        "xcol='Input1'; ycol='Input3'; zcol='Output5';\n",
        "fig.add_trace(go.Scatter3d(x=scatter3Ddata[xcol].to_list(),y=scatter3Ddata[ycol].to_list(),z=scatter3Ddata[zcol].to_list(),mode='markers'))"
      ],
      "metadata": {
        "id": "AJ0AoRLLw9NB"
      },
      "execution_count": null,
      "outputs": []
    },
    {
      "cell_type": "markdown",
      "source": [
        "##Coralationn analysis"
      ],
      "metadata": {
        "id": "PPORgru5vw9w"
      }
    },
    {
      "cell_type": "markdown",
      "source": [
        "###Input and Output"
      ],
      "metadata": {
        "id": "fdcs1du-yzXZ"
      }
    },
    {
      "cell_type": "code",
      "source": [
        "data=twisting_data_frame\n",
        "outputLabels=['Output1','Output2','Output3','Output4','Output5']\n",
        "X=data[['Input1','Input2','Input3','Input4']]\n",
        "fig=go.Figure()\n",
        "rvals=[]\n",
        "for i,lbl in enumerate(outputLabels):\n",
        "    y=data[lbl]\n",
        "    rr=r_regression(X, y.to_numpy())\n",
        "    print(rr)\n",
        "    fig.add_trace(go.Scatter(y=rr,name=lbl))\n",
        "fig.show()"
      ],
      "metadata": {
        "id": "PPtKFT1DzEFv"
      },
      "execution_count": null,
      "outputs": []
    },
    {
      "cell_type": "markdown",
      "source": [
        "###Output and Output"
      ],
      "metadata": {
        "id": "jYpsqGihy4cI"
      }
    },
    {
      "cell_type": "code",
      "source": [
        "data=twisting_data_frame\n",
        "outputLabels=['Output1','Output2','Output3','Output4','Output5']\n",
        "X=data[outputLabels]\n",
        "fig=go.Figure()\n",
        "rvals=[]\n",
        "for i,lbl in enumerate(outputLabels):\n",
        "    y=data[lbl]\n",
        "    rr=r_regression(X, y.to_numpy())\n",
        "    print(rr)\n",
        "    fig.add_trace(go.Scatter(y=rr,name=lbl))\n",
        "fig.show()"
      ],
      "metadata": {
        "id": "1qiWyiNXzFAn"
      },
      "execution_count": null,
      "outputs": []
    },
    {
      "cell_type": "markdown",
      "source": [
        "##PCA analysis"
      ],
      "metadata": {
        "id": "oIzW7zSUvsa5"
      }
    },
    {
      "cell_type": "markdown",
      "source": [
        "##Model designing "
      ],
      "metadata": {
        "id": "qE-fh2vMv6Lh"
      }
    },
    {
      "cell_type": "code",
      "source": [
        "#Linear regression with all inputs and all outputs\n",
        "inputCols=['Input1','Input2','Input3','Input4'];\n",
        "outputCols=['Output1','Output2','Output3','Output4','Output5']\n",
        "\n",
        "model_inputs=twisting_data_model[inputCols]\n",
        "model_outputs=twisting_data_model[outputCols] \n",
        "test_inputs=twisting_data_test[inputCols]\n",
        "test_outputs=twisting_data_test[outputCols] #\n",
        "lin_reg_model=md.linear_regression_modeling(model_inputs,model_outputs,test_inputs,test_outputs)\n",
        "actual_out=test_outputs\n",
        "predict_out=lin_reg_model['predict_test_output']\n",
        "fig=go.Figure()\n",
        "fig.add_trace(go.Scatter3d(x=actual_out['Output2'],y=actual_out['Output3'].to_list(),z=actual_out['Output4'].to_list(),mode='markers',marker={'size':2},name='Actual'))\n",
        "fig.add_trace(go.Scatter3d(x=predict_out[:,1],y=predict_out[:,2],z=predict_out[:,3],mode='markers',marker={'size':2},name='Predicted'))\n",
        "fig.show()"
      ],
      "metadata": {
        "id": "MaXQ6IuXIwPo"
      },
      "execution_count": null,
      "outputs": []
    },
    {
      "cell_type": "code",
      "source": [
        "#Linear regression with selected\n",
        "inputCols=['Input1','Input2','Input3']\n",
        "outputCols=['Output2','Output5']\n",
        "\n",
        "model_inputs=twisting_data_model[inputCols]\n",
        "model_outputs=twisting_data_model[outputCols] \n",
        "test_inputs=twisting_data_test[inputCols]\n",
        "test_outputs=twisting_data_test[outputCols] #\n",
        "lin_reg_model=md.linear_regression_modeling(model_inputs,model_outputs,test_inputs,test_outputs)\n",
        "actual_out=test_outputs\n",
        "predict_out=lin_reg_model['predict_test_output']\n",
        "fig=go.Figure()\n",
        "fig.add_trace(go.Scatter3d(x=test_inputs['Input1'].to_list(),y=actual_out['Output2'].to_list(),z=actual_out['Output5'].to_list(),mode='markers',marker={'size':2},name='Actual'))\n",
        "fig.add_trace(go.Scatter3d(x=test_inputs['Input1'].to_list(),y=predict_out[:,0],z=predict_out[:,1],mode='markers',marker={'size':2},name='Predicted'))\n",
        "fig.show()"
      ],
      "metadata": {
        "id": "b-1IyhGBJlpg"
      },
      "execution_count": null,
      "outputs": []
    },
    {
      "cell_type": "code",
      "source": [
        "#Polinomaial regressionregression with selected inputs\n",
        "\n",
        "inputCols=['Input1','Input2','Input3']\n",
        "outputCols=['Output2','Output5']\n",
        "poly=2;\n",
        "\n",
        "model_inputs=twisting_data_model[inputCols]\n",
        "model_outputs=twisting_data_model[outputCols] \n",
        "test_inputs=twisting_data_test[inputCols]\n",
        "test_outputs=twisting_data_test[outputCols] #\n",
        "poly = PolynomialFeatures(poly)\n",
        "model_inputs_poly=pd.DataFrame(poly.fit_transform(model_inputs.to_numpy()))\n",
        "test_inputs_poly=pd.DataFrame(poly.fit_transform(test_inputs.to_numpy()))\n",
        "lin_reg_model=md.linear_regression_modeling(model_inputs_poly,model_outputs,test_inputs_poly,test_outputs)\n",
        "actual_out=test_outputs\n",
        "predict_out=lin_reg_model['predict_test_output']\n",
        "fig=go.Figure()\n",
        "fig.add_trace(go.Scatter3d(x=test_inputs['Input1'].to_list(),y=actual_out['Output2'].to_list(),z=actual_out['Output5'].to_list(),mode='markers',marker={'size':2},name='Actual'))\n",
        "fig.add_trace(go.Scatter3d(x=test_inputs['Input1'].to_list(),y=predict_out[:,0],z=predict_out[:,1],mode='markers',marker={'size':2},name='Predicted'))\n",
        "fig.show()"
      ],
      "metadata": {
        "id": "xEaoGirpNKP9"
      },
      "execution_count": null,
      "outputs": []
    },
    {
      "cell_type": "code",
      "source": [
        "#Linear regression with selected inputs\n",
        "inputCols=['Input4','Input2','Input1']\n",
        "outputCols=['Output3','Output4']\n",
        "\n",
        "model_inputs=twisting_data_model[inputCols]\n",
        "model_outputs=twisting_data_model[outputCols] \n",
        "test_inputs=twisting_data_test[inputCols]\n",
        "test_outputs=twisting_data_test[outputCols] #\n",
        "lin_reg_model=md.linear_regression_modeling(model_inputs,model_outputs,test_inputs,test_outputs)\n",
        "actual_out=test_outputs\n",
        "predict_out=lin_reg_model['predict_test_output']\n",
        "fig=go.Figure()\n",
        "fig.add_trace(go.Scatter3d(x=test_inputs['Input4'].to_list(),y=actual_out['Output3'].to_list(),z=actual_out['Output4'].to_list(),mode='markers',marker={'size':2},name='Actual'))\n",
        "fig.add_trace(go.Scatter3d(x=test_inputs['Input4'].to_list(),y=predict_out[:,0],z=predict_out[:,1],mode='markers',marker={'size':2},name='Predicted'))\n",
        "fig.show()"
      ],
      "metadata": {
        "id": "hhJ1bRWj9iT_"
      },
      "execution_count": null,
      "outputs": []
    },
    {
      "cell_type": "code",
      "source": [
        "#Polinomaial regressionregression with selected inputs\n",
        "\n",
        "inputCols=['Input4','Input2','Input1']\n",
        "outputCols=['Output3','Output4']\n",
        "poly=2;\n",
        "\n",
        "model_inputs=twisting_data_model[inputCols]\n",
        "model_outputs=twisting_data_model[outputCols] \n",
        "test_inputs=twisting_data_test[inputCols]\n",
        "test_outputs=twisting_data_test[outputCols] #\n",
        "poly = PolynomialFeatures(poly)\n",
        "model_inputs_poly=pd.DataFrame(poly.fit_transform(model_inputs.to_numpy()))\n",
        "test_inputs_poly=pd.DataFrame(poly.fit_transform(test_inputs.to_numpy()))\n",
        "lin_reg_model=md.linear_regression_modeling(model_inputs_poly,model_outputs,test_inputs_poly,test_outputs)\n",
        "actual_out=test_outputs\n",
        "predict_out=lin_reg_model['predict_test_output']\n",
        "fig=go.Figure()\n",
        "fig.add_trace(go.Scatter3d(x=test_inputs['Input4'].to_list(),y=actual_out['Output3'].to_list(),z=actual_out['Output4'].to_list(),mode='markers',marker={'size':2},name='Actual'))\n",
        "fig.add_trace(go.Scatter3d(x=test_inputs['Input4'].to_list(),y=predict_out[:,0],z=predict_out[:,1],mode='markers',marker={'size':2},name='Predicted'))\n",
        "fig.show()"
      ],
      "metadata": {
        "id": "p1xDnnPq-GV-"
      },
      "execution_count": null,
      "outputs": []
    },
    {
      "cell_type": "code",
      "source": [
        "\n",
        "#Liner regression with PCA\n",
        "[ypredic,r_core]=twisting_unit_cell_fit_transform(twisting_data_frame);"
      ],
      "metadata": {
        "id": "OzgTO6dsKF7V"
      },
      "execution_count": null,
      "outputs": []
    },
    {
      "cell_type": "code",
      "source": [
        "#Decision tree\n",
        "\n",
        "inputCols=['Input4','Input2','Input1']\n",
        "outputCols=['Output3','Output4']\n",
        "\n",
        "model_inputs=twisting_data_model[inputCols]\n",
        "model_outputs=twisting_data_model[outputCols] \n",
        "test_inputs=twisting_data_test[inputCols]\n",
        "test_outputs=twisting_data_test[outputCols] \n",
        "\n",
        "\n",
        "regressor = DecisionTreeRegressor(random_state=100)\n",
        "\n",
        "regressor.fit(model_inputs,model_outputs)\n",
        "test_pred_outputs = regressor.predict(test_inputs)\n",
        "\n",
        "mse = mean_squared_error(test_outputs, test_pred_outputs )\n",
        "r2core=r2_score(test_outputs, test_pred_outputs )\n",
        "print(\"R2 score:\", r2core)\n",
        "\n",
        "actual_out=test_outputs\n",
        "predict_out=test_pred_outputs\n",
        "fig=go.Figure()\n",
        "fig.add_trace(go.Scatter3d(x=test_inputs['Input4'].to_list(),y=actual_out['Output3'].to_list(),z=actual_out['Output4'].to_list(),mode='markers',marker={'size':2},name='Actual'))\n",
        "fig.add_trace(go.Scatter3d(x=test_inputs['Input4'].to_list(),y=predict_out[:,0],z=predict_out[:,1],mode='markers',marker={'size':2},name='Predicted'))\n",
        "fig.show()\n",
        "\n"
      ],
      "metadata": {
        "id": "Gu1J62jjQ3bV"
      },
      "execution_count": null,
      "outputs": []
    },
    {
      "cell_type": "code",
      "source": [
        "#Decision tree\n",
        "\n",
        "inputCols=['Input1','Input2','Input3']\n",
        "outputCols=['Output2','Output5']\n",
        "\n",
        "model_inputs=twisting_data_model[inputCols]\n",
        "model_outputs=twisting_data_model[outputCols] \n",
        "test_inputs=twisting_data_test[inputCols]\n",
        "test_outputs=twisting_data_test[outputCols] \n",
        "\n",
        "\n",
        "regressor = DecisionTreeRegressor(random_state=100)\n",
        "\n",
        "regressor.fit(model_inputs,model_outputs)\n",
        "test_pred_outputs = regressor.predict(test_inputs)\n",
        "\n",
        "mse = mean_squared_error(test_outputs, test_pred_outputs )\n",
        "r2core=r2_score(test_outputs, test_pred_outputs )\n",
        "print(\"R2 score:\", r2core)\n",
        "\n",
        "actual_out=test_outputs\n",
        "predict_out=test_pred_outputs\n",
        "fig=go.Figure()\n",
        "fig.add_trace(go.Scatter3d(x=test_inputs['Input1'].to_list(),y=actual_out['Output2'].to_list(),z=actual_out['Output5'].to_list(),mode='markers',marker={'size':2},name='Actual'))\n",
        "fig.add_trace(go.Scatter3d(x=test_inputs['Input1'].to_list(),y=predict_out[:,0],z=predict_out[:,1],mode='markers',marker={'size':2},name='Predicted'))\n",
        "fig.show()\n"
      ],
      "metadata": {
        "id": "iI7PZCEQUTPF"
      },
      "execution_count": null,
      "outputs": []
    },
    {
      "cell_type": "markdown",
      "source": [
        "#Model design_output2"
      ],
      "metadata": {
        "id": "BZoWd50ks8sf"
      }
    },
    {
      "cell_type": "code",
      "source": [
        "inputs=twisting_data_frame[['Input1','Input2','Input3','Input4']]\n",
        "outputs=twisting_data_frame[['Output2']] \n",
        "\n",
        "fig=go.Figure()\n",
        "fig.add_trace(go.Scatter(x=inputs['Input2'],y=outputs['Output2'].to_list(),mode='markers',marker={'size':2},name='Actual'))\n",
        "fig.show()"
      ],
      "metadata": {
        "id": "zrT41uDXBxNd"
      },
      "execution_count": null,
      "outputs": []
    },
    {
      "cell_type": "code",
      "source": [
        "correlation =twisting_data_model.corr()"
      ],
      "metadata": {
        "id": "QfbWrJRZADT9"
      },
      "execution_count": null,
      "outputs": []
    },
    {
      "cell_type": "markdown",
      "source": [
        "###Output2_Original data"
      ],
      "metadata": {
        "id": "vygYb6b4Z6fv"
      }
    },
    {
      "cell_type": "code",
      "source": [
        "#Linear regression with all inputs and all outputs\n",
        "inputCols=['Input1','Input2','Input3','Input4'];\n",
        "outputCols=['Output2']\n",
        "\n",
        "model_inputs=twisting_data_model[inputCols]\n",
        "model_outputs=twisting_data_model[outputCols] \n",
        "test_inputs=twisting_data_test[inputCols]\n",
        "test_outputs=twisting_data_test[outputCols] #\n",
        "lin_reg_model=md.linear_regression_modeling(model_inputs,model_outputs,test_inputs,test_outputs)\n",
        "actual_out=test_outputs\n",
        "predict_out=lin_reg_model['predict_test_output']\n",
        "fig=go.Figure()\n",
        "fig.add_trace(go.Scatter3d(x=test_inputs['Input1'],y=test_inputs['Input2'].to_list(),z=actual_out['Output2'].to_list(),mode='markers',marker={'size':2},name='Actual'))\n",
        "fig.add_trace(go.Scatter3d(x=test_inputs['Input1'],y=test_inputs['Input2'],z=predict_out[:,0],mode='markers',marker={'size':2},name='Predicted'))\n",
        "fig.show()"
      ],
      "metadata": {
        "id": "UZ0ihkbLaMr4"
      },
      "execution_count": null,
      "outputs": []
    },
    {
      "cell_type": "code",
      "source": [
        "#Linear regression with selected\n",
        "inputCols=['Input4','Input2','Input3']\n",
        "outputCols=['Output2']\n",
        "\n",
        "model_inputs=twisting_data_model[inputCols]\n",
        "model_outputs=twisting_data_model[outputCols] \n",
        "test_inputs=twisting_data_test[inputCols]\n",
        "test_outputs=twisting_data_test[outputCols] #\n",
        "lin_reg_model=md.linear_regression_modeling(model_inputs,model_outputs,test_inputs,test_outputs)\n",
        "actual_out=test_outputs\n",
        "predict_out=lin_reg_model['predict_test_output']\n",
        "fig=go.Figure()\n",
        "fig.add_trace(go.Scatter3d(x=test_inputs['Input4'].to_list(),y=test_inputs['Input2'].to_list(),z=actual_out['Output2'].to_list(),mode='markers',marker={'size':2},name='Actual'))\n",
        "fig.add_trace(go.Scatter3d(x=test_inputs['Input4'].to_list(),y=test_inputs['Input2'],z=predict_out[:,0],mode='markers',marker={'size':2},name='Predicted'))\n",
        "fig.show()"
      ],
      "metadata": {
        "id": "Q4Z19j4ocV3g"
      },
      "execution_count": null,
      "outputs": []
    },
    {
      "cell_type": "code",
      "source": [
        "#Polinomaial regressionregression with selected inputs\n",
        "\n",
        "inputCols=['Input4','Input2','Input3']\n",
        "outputCols=['Output2']\n",
        "poly=2;\n",
        "\n",
        "model_inputs=twisting_data_model[inputCols]\n",
        "model_outputs=twisting_data_model[outputCols] \n",
        "test_inputs=twisting_data_test[inputCols]\n",
        "test_outputs=twisting_data_test[outputCols] #\n",
        "poly = PolynomialFeatures(poly)\n",
        "model_inputs_poly=pd.DataFrame(poly.fit_transform(model_inputs.to_numpy()))\n",
        "test_inputs_poly=pd.DataFrame(poly.fit_transform(test_inputs.to_numpy()))\n",
        "lin_reg_model=md.linear_regression_modeling(model_inputs_poly,model_outputs,test_inputs_poly,test_outputs)\n",
        "actual_out=test_outputs\n",
        "predict_out=lin_reg_model['predict_test_output']\n",
        "fig=go.Figure()\n",
        "fig.add_trace(go.Scatter3d(x=test_inputs['Input4'].to_list(),y=test_inputs['Input2'].to_list(),z=actual_out['Output2'].to_list(),mode='markers',marker={'size':2},name='Actual'))\n",
        "fig.add_trace(go.Scatter3d(x=test_inputs['Input4'].to_list(),y=test_inputs['Input2'],z=predict_out[:,0],mode='markers',marker={'size':2},name='Predicted'))\n",
        "fig.show()"
      ],
      "metadata": {
        "id": "WCxBfv7kdiNj"
      },
      "execution_count": null,
      "outputs": []
    },
    {
      "cell_type": "code",
      "source": [
        "#Decision tree\n",
        "\n",
        "inputCols=['Input1','Input2','Input3','Input3']\n",
        "outputCols=['Output2']\n",
        "\n",
        "model_inputs=twisting_data_model[inputCols]\n",
        "model_outputs=twisting_data_model[outputCols] \n",
        "test_inputs=twisting_data_test[inputCols]\n",
        "test_outputs=twisting_data_test[outputCols] \n",
        "\n",
        "\n",
        "regressor = DecisionTreeRegressor(random_state=100)\n",
        "\n",
        "regressor.fit(model_inputs,model_outputs)\n",
        "test_pred_outputs = regressor.predict(test_inputs)\n",
        "\n",
        "mse = mean_squared_error(test_outputs, test_pred_outputs )\n",
        "r2core=r2_score(test_outputs, test_pred_outputs )\n",
        "print(\"R2 score:\", r2core)\n",
        "\n",
        "actual_out=test_outputs\n",
        "predict_out=test_pred_outputs\n",
        "fig=go.Figure()\n",
        "fig.add_trace(go.Scatter3d(x=test_inputs['Input1'].to_list(),y=test_inputs['Input2'].to_list(),z=actual_out['Output2'].to_list(),mode='markers',marker={'size':2},name='Actual'))\n",
        "fig.add_trace(go.Scatter3d(x=test_inputs['Input1'].to_list(),y=test_inputs['Input2'],z=predict_out,mode='markers',marker={'size':2},name='Predicted'))\n",
        "fig.show()\n"
      ],
      "metadata": {
        "id": "53DaOHG6eGvf"
      },
      "execution_count": null,
      "outputs": []
    },
    {
      "cell_type": "markdown",
      "source": [
        "###Output2 with PCA"
      ],
      "metadata": {
        "id": "IIw6Ebo5Sqa1"
      }
    },
    {
      "cell_type": "code",
      "source": [
        "#Pca analysis\n",
        "inputsp=twisting_data_frame[['Input1','Input2','Input3','Input4']]\n",
        "outputsp=twisting_data_frame[['Output1','Output2','Output3','Output4','Output5']] \n",
        "pca_in=sklearn.decomposition.PCA(n_components=4);\n",
        "pca_out=sklearn.decomposition.PCA(n_components=5);\n",
        "pca_input=pca_in.fit_transform(inputsp);\n",
        "pca_output=pca_out.fit_transform(outputsp);\n",
        "\n",
        "pca_input_pdf = pd.DataFrame(pca_input, columns = ['Input1','Input2','Input3','Input4'])\n",
        "pca_output_pdf = pd.DataFrame(pca_output, columns = ['Output1','Output2','Output3','Output4','Output5'])\n",
        "twisting_data_frame_pca= pd.concat([pca_input_pdf, pca_output_pdf], axis=1)\n",
        "twisting_data_model_pca,twisting_data_test_pca=train_test_split(twisting_data_frame_pca,test_size=0.2)"
      ],
      "metadata": {
        "id": "YM5oJp-IAK9M"
      },
      "execution_count": null,
      "outputs": []
    },
    {
      "cell_type": "code",
      "source": [
        "#coraltion analysis\n",
        "data=twisting_data_frame_pca\n",
        "outputLabels=['Output1','Output2','Output3','Output4','Output5']\n",
        "X=data[['Input1','Input2','Input3','Input4']]\n",
        "fig=go.Figure()\n",
        "rvals=[]\n",
        "for i,lbl in enumerate(outputLabels):\n",
        "    y=data[lbl]\n",
        "    rr=r_regression(X, y.to_numpy())\n",
        "    print(rr)\n",
        "    fig.add_trace(go.Scatter(y=rr,name=lbl))\n",
        "fig.show()"
      ],
      "metadata": {
        "id": "YofBONDdgYIe"
      },
      "execution_count": null,
      "outputs": []
    },
    {
      "cell_type": "code",
      "source": [
        "#Linear regression with all inputs and all outputs\n",
        "inputCols=['Input1','Input2','Input3','Input4'];\n",
        "outputCols=['Output2']\n",
        "\n",
        "model_inputs=twisting_data_model_pca[inputCols]\n",
        "model_outputs=twisting_data_model_pca[outputCols] \n",
        "test_inputs=twisting_data_test_pca[inputCols]\n",
        "test_outputs=twisting_data_test_pca[outputCols]\n",
        "lin_reg_model=md.linear_regression_modeling(model_inputs,model_outputs,test_inputs,test_outputs)\n",
        "actual_out=test_outputs\n",
        "predict_out=lin_reg_model['predict_test_output']\n",
        "fig=go.Figure()\n",
        "fig.add_trace(go.Scatter3d(x=test_inputs['Input1'],y=test_inputs['Input2'].to_list(),z=actual_out['Output2'].to_list(),mode='markers',marker={'size':2},name='Actual'))\n",
        "fig.add_trace(go.Scatter3d(x=test_inputs['Input1'],y=test_inputs['Input2'],z=predict_out[:,0],mode='markers',marker={'size':2},name='Predicted'))\n",
        "fig.show()"
      ],
      "metadata": {
        "id": "zhCq0bOaWUJA"
      },
      "execution_count": null,
      "outputs": []
    },
    {
      "cell_type": "code",
      "source": [
        "#Linear regression with selected\n",
        "inputCols=['Input4','Input2','Input3']\n",
        "outputCols=['Output2']\n",
        "\n",
        "model_inputs=twisting_data_model_pca[inputCols]\n",
        "model_outputs=twisting_data_model_pca[outputCols] \n",
        "test_inputs=twisting_data_test_pca[inputCols]\n",
        "test_outputs=twisting_data_test_pca[outputCols] #\n",
        "lin_reg_model=md.linear_regression_modeling(model_inputs,model_outputs,test_inputs,test_outputs)\n",
        "actual_out=test_outputs\n",
        "predict_out=lin_reg_model['predict_test_output']\n",
        "fig=go.Figure()\n",
        "fig.add_trace(go.Scatter3d(x=test_inputs['Input4'].to_list(),y=test_inputs['Input2'].to_list(),z=actual_out['Output2'].to_list(),mode='markers',marker={'size':2},name='Actual'))\n",
        "fig.add_trace(go.Scatter3d(x=test_inputs['Input4'].to_list(),y=test_inputs['Input2'],z=predict_out[:,0],mode='markers',marker={'size':2},name='Predicted'))\n",
        "fig.show()"
      ],
      "metadata": {
        "id": "8BICwTGnWjCI"
      },
      "execution_count": null,
      "outputs": []
    },
    {
      "cell_type": "code",
      "source": [
        "#Polinomaial regressionregression with selected inputs\n",
        "\n",
        "inputCols=['Input4','Input2','Input3']\n",
        "outputCols=['Output2']\n",
        "poly=2;\n",
        "\n",
        "model_inputs=twisting_data_model_pca[inputCols]\n",
        "model_outputs=twisting_data_model_pca[outputCols] \n",
        "test_inputs=twisting_data_test_pca[inputCols]\n",
        "test_outputs=twisting_data_test_pca[outputCols] #\n",
        "poly = PolynomialFeatures(poly)\n",
        "model_inputs_poly=pd.DataFrame(poly.fit_transform(model_inputs.to_numpy()))\n",
        "test_inputs_poly=pd.DataFrame(poly.fit_transform(test_inputs.to_numpy()))\n",
        "lin_reg_model=md.linear_regression_modeling(model_inputs_poly,model_outputs,test_inputs_poly,test_outputs)\n",
        "actual_out=test_outputs\n",
        "predict_out=lin_reg_model['predict_test_output']\n",
        "fig=go.Figure()\n",
        "fig.add_trace(go.Scatter3d(x=test_inputs['Input4'].to_list(),y=test_inputs['Input2'].to_list(),z=actual_out['Output2'].to_list(),mode='markers',marker={'size':2},name='Actual'))\n",
        "fig.add_trace(go.Scatter3d(x=test_inputs['Input4'].to_list(),y=test_inputs['Input2'],z=predict_out[:,0],mode='markers',marker={'size':2},name='Predicted'))\n",
        "fig.show()"
      ],
      "metadata": {
        "colab": {
          "base_uri": "https://localhost:8080/",
          "height": 559
        },
        "id": "O9eNN3tzhv-d",
        "outputId": "feef9b65-d2fd-4432-ec64-0f01aa424619"
      },
      "execution_count": null,
      "outputs": [
        {
          "output_type": "stream",
          "name": "stdout",
          "text": [
            "R2 value = 0.8838561289059096\n"
          ]
        },
        {
          "output_type": "display_data",
          "data": {
            "text/html": [
              "<html>\n",
              "<head><meta charset=\"utf-8\" /></head>\n",
              "<body>\n",
              "    <div>            <script src=\"https://cdnjs.cloudflare.com/ajax/libs/mathjax/2.7.5/MathJax.js?config=TeX-AMS-MML_SVG\"></script><script type=\"text/javascript\">if (window.MathJax) {MathJax.Hub.Config({SVG: {font: \"STIX-Web\"}});}</script>                <script type=\"text/javascript\">window.PlotlyConfig = {MathJaxConfig: 'local'};</script>\n",
              "        <script src=\"https://cdn.plot.ly/plotly-2.8.3.min.js\"></script>                <div id=\"b5b8fe03-4291-45a8-a20c-659bc15b4b58\" class=\"plotly-graph-div\" style=\"height:525px; width:100%;\"></div>            <script type=\"text/javascript\">                                    window.PLOTLYENV=window.PLOTLYENV || {};                                    if (document.getElementById(\"b5b8fe03-4291-45a8-a20c-659bc15b4b58\")) {                    Plotly.newPlot(                        \"b5b8fe03-4291-45a8-a20c-659bc15b4b58\",                        [{\"marker\":{\"size\":2},\"mode\":\"markers\",\"name\":\"Actual\",\"x\":[-0.009370520097449434,-0.007733369255034307,-0.006737769175335729,0.0025220003043402834,0.0003401530855214141,-0.0025499793530526804,0.0043567616996450596,-0.006146062653782969,0.0015824207814004898,0.008185788254284333,-0.0018965211596161868,0.005007592625796876,0.0015391274794828555,-0.004145890013346668,-0.0026476294882942244,-0.001751100877372482,-0.0012558562449435724,0.008084403402273607,-0.007381603044439036,0.0019753704526761684,0.0011128518794094608,-0.002652573425546235,-0.00818892088506816,0.006451089047625988,-0.00808618929450068,0.0046006130933485875,0.006836407692096914,0.00818966048912744,-0.004147413117880286,-0.00011532084870657324,0.00450057808072195,-0.001411885555641502,-0.003664693115628173,-0.007081264001809236,-0.0031084777875338065,-0.0055455788080380234,0.0001738769667110858,0.011225012768775909,0.0008677314429550425,-0.0059757946555934055,0.0038625677952599203,0.0015172125297227693,0.003359126373687781,-0.005991939642325614,-0.007570981061109854,-0.002407252547922489,-0.0076391011046082185,-0.005288763053916128,0.009637741914600173,-0.007987913574652585,0.010926059312605797,0.004995514113422432,0.005291316488699649,-0.0029932131816398345,-0.0026547609625893285,0.000862587064533712,0.00749993012601428,-0.004147096133002165,0.004005189728564446,0.0010237607536529724,-0.0018678139928215418,0.0005679550618363935,-0.0027619126768006,-0.008173870758605014,0.009826377802955647,-0.006792143882197436,0.004861121615509404,0.002014908063459492,-0.006200377538376618,0.007495707342712484,-0.009276209998293079,-0.0011051361926668103,-0.0014128281251261682,-0.0016578141443339917,0.005539450487973033,-0.007526302172732528,0.005947626651688716,0.010225875312650144,0.006551492482249112,-0.010019399674803078,-0.0010255077979771116,0.003651412346902942,0.0037121437534961463,0.0018181802577864454,-0.0008296029172526034,0.002029491097755154,0.008246633103759,0.0065046618039042905,-0.0068238436374459185,0.002358480585738866,0.012616747164223629,-0.00023197104106023885,0.0008125307103174611,0.001980374212196243,0.00834143126944797,-0.0018756697218941872,0.012171220926767716,-0.005241016982106433,0.002223402680951224,-0.003550505496465465,0.002625695438757565],\"y\":[-0.0007627544492267558,-0.0024264048876554895,-0.0019889511323064094,-0.0009269014913298923,0.007357651376932378,0.0011535546794386939,0.0014359554068497607,-0.006851924963362376,0.007165713617744091,-0.0021420688466611847,0.012561958372845974,-0.0017179021587176492,0.011902860541907444,-0.003161011006849436,0.0026146390615664054,0.010710532233096568,0.0011422713693893967,-0.00525975385658232,0.002729515805430781,0.008264888253551317,-0.007342846795591028,0.002291098889950132,-0.004105858280689832,0.006710928620388524,-0.0033477521064921648,-0.0021136832770802774,-0.008981676432195792,0.004332350930096761,-0.002691918619289325,0.005667870110806546,-0.0037634987974864624,0.004489723585759782,-0.01010957222221992,0.003686680990998416,-0.0031693273994109253,-0.004911774909498387,-0.0013778462967333341,0.001055944520092926,-0.0014439571490290108,0.012169949002662467,0.0029421944710689174,-0.0060656842041113684,-0.0021588736799449137,0.0019375489801380854,0.009539725221759233,0.004021286211136234,-0.004685285765505321,0.004640969144745493,0.0016488523340156488,-0.005025308904489821,-0.0022659634377439264,-0.005501702087212803,-0.010797320325987422,0.010881814246101882,0.0029818276299259394,-0.009396574288393397,0.004964294052607381,0.0049216665388215584,-0.003745784968965236,-0.004791409365399395,-0.006709293223186036,-0.008351021333505607,-0.0040445537782512146,0.00257753307101501,-0.0049293928568056216,-0.0033487075434499793,0.008195545780519769,-0.0029621702570072146,-0.006305703116705355,0.0024976474611375908,0.0008006490616160884,0.007222806622821402,-0.002907389156481152,0.0010597025495515508,-0.009974334160647077,0.002437835525326664,-0.0003012817249716434,-0.0001586499847953015,0.0024366648246144716,-0.002096090329599101,-0.003821260534220835,-0.006320490473912341,0.0025641021814014585,-0.0014975431091752624,-0.008871043908692536,0.007744486089623016,0.002899583673776961,0.0063966709992386815,0.011111810435026008,-0.00864813025340353,-0.00041125923553833653,-0.006018528762437045,-0.010216318112050746,0.010494406682968183,0.0023508643840407513,-0.008026446560211398,0.00045201809936896314,-0.001487963132460962,0.0033596117723983993,-0.001523745378418734,0.009139459619455045],\"z\":[0.6697689786024406,-0.9734696694923212,-0.9768110892295215,2.781902439292415,0.8560243634260674,2.2400645303063325,-0.9574588932763075,0.03682324529234101,0.36963035726407223,1.057758877583826,-3.3342019151709947,4.675503283172981,-0.06956560576505975,2.5118826298653723,2.085611908344294,-4.6646557429418065,3.6355262058129996,3.083096218894062,-1.9625285226831217,-2.3845861492367275,-0.3663791335315526,0.29762253977755665,-2.31519770403753,-3.6117281227923774,-1.381973580544559,-0.7841156667557343,6.0027653677494826,-1.624924929749599,2.9047505964223124,-1.4109460001031433,0.12452250421691238,-3.3172507200115264,0.21061124572505308,-1.2927608314764851,-0.08785336079892644,0.12934155450646306,-1.3453150709273356,1.295275970011932,-2.0745483856585047,-2.124125901114389,-0.7092238022176965,1.3693835280477142,0.8416068828102155,-3.6081756999473966,-1.5283172496845003,-3.8077864765445653,-0.8453021155839061,-3.2953927106390646,2.2043403419467795,-2.117764033105264,3.64272483582494,-0.04792712584751451,2.0359408425754397,-2.0364339057970966,-2.73372553131414,0.09273865289855152,1.63289531071202,-2.5775293530239307,0.3374728710149606,2.5390027406918754,1.0771137618494446,1.8957895387729427,-0.24392476378331243,-0.9032106257618548,4.253238821236957,-1.8306740315857783,-1.7558517268342475,-0.08562918677020692,-1.437953712652501,1.941305477978246,-3.906540849093567,-0.6366945272348479,2.7146287315250124,0.5551513048529183,1.5558507968519208,0.12713213358977424,-0.4700492674448752,0.2486881543412402,1.926030555674666,0.3404531070310884,-1.9948372799133982,-0.1050919348244466,-1.5849954294519903,0.043903683415978105,-0.3642277225649308,-0.4432411120845673,2.780870459453874,-0.6844951514118097,-6.306414350742254,1.8524196856495654,2.478355146622118,-1.8626796432327435,0.9882128306605472,-3.2403311931314227,0.4756807722922485,-1.9786579309579053,2.7817404863805537,1.535059727334613,0.7947924964656489,1.6158287017183195,-1.516502166611133],\"type\":\"scatter3d\"},{\"marker\":{\"size\":2},\"mode\":\"markers\",\"name\":\"Predicted\",\"x\":[-0.009370520097449434,-0.007733369255034307,-0.006737769175335729,0.0025220003043402834,0.0003401530855214141,-0.0025499793530526804,0.0043567616996450596,-0.006146062653782969,0.0015824207814004898,0.008185788254284333,-0.0018965211596161868,0.005007592625796876,0.0015391274794828555,-0.004145890013346668,-0.0026476294882942244,-0.001751100877372482,-0.0012558562449435724,0.008084403402273607,-0.007381603044439036,0.0019753704526761684,0.0011128518794094608,-0.002652573425546235,-0.00818892088506816,0.006451089047625988,-0.00808618929450068,0.0046006130933485875,0.006836407692096914,0.00818966048912744,-0.004147413117880286,-0.00011532084870657324,0.00450057808072195,-0.001411885555641502,-0.003664693115628173,-0.007081264001809236,-0.0031084777875338065,-0.0055455788080380234,0.0001738769667110858,0.011225012768775909,0.0008677314429550425,-0.0059757946555934055,0.0038625677952599203,0.0015172125297227693,0.003359126373687781,-0.005991939642325614,-0.007570981061109854,-0.002407252547922489,-0.0076391011046082185,-0.005288763053916128,0.009637741914600173,-0.007987913574652585,0.010926059312605797,0.004995514113422432,0.005291316488699649,-0.0029932131816398345,-0.0026547609625893285,0.000862587064533712,0.00749993012601428,-0.004147096133002165,0.004005189728564446,0.0010237607536529724,-0.0018678139928215418,0.0005679550618363935,-0.0027619126768006,-0.008173870758605014,0.009826377802955647,-0.006792143882197436,0.004861121615509404,0.002014908063459492,-0.006200377538376618,0.007495707342712484,-0.009276209998293079,-0.0011051361926668103,-0.0014128281251261682,-0.0016578141443339917,0.005539450487973033,-0.007526302172732528,0.005947626651688716,0.010225875312650144,0.006551492482249112,-0.010019399674803078,-0.0010255077979771116,0.003651412346902942,0.0037121437534961463,0.0018181802577864454,-0.0008296029172526034,0.002029491097755154,0.008246633103759,0.0065046618039042905,-0.0068238436374459185,0.002358480585738866,0.012616747164223629,-0.00023197104106023885,0.0008125307103174611,0.001980374212196243,0.00834143126944797,-0.0018756697218941872,0.012171220926767716,-0.005241016982106433,0.002223402680951224,-0.003550505496465465,0.002625695438757565],\"y\":[-0.0007627544492267558,-0.0024264048876554895,-0.0019889511323064094,-0.0009269014913298923,0.007357651376932378,0.0011535546794386939,0.0014359554068497607,-0.006851924963362376,0.007165713617744091,-0.0021420688466611847,0.012561958372845974,-0.0017179021587176492,0.011902860541907444,-0.003161011006849436,0.0026146390615664054,0.010710532233096568,0.0011422713693893967,-0.00525975385658232,0.002729515805430781,0.008264888253551317,-0.007342846795591028,0.002291098889950132,-0.004105858280689832,0.006710928620388524,-0.0033477521064921648,-0.0021136832770802774,-0.008981676432195792,0.004332350930096761,-0.002691918619289325,0.005667870110806546,-0.0037634987974864624,0.004489723585759782,-0.01010957222221992,0.003686680990998416,-0.0031693273994109253,-0.004911774909498387,-0.0013778462967333341,0.001055944520092926,-0.0014439571490290108,0.012169949002662467,0.0029421944710689174,-0.0060656842041113684,-0.0021588736799449137,0.0019375489801380854,0.009539725221759233,0.004021286211136234,-0.004685285765505321,0.004640969144745493,0.0016488523340156488,-0.005025308904489821,-0.0022659634377439264,-0.005501702087212803,-0.010797320325987422,0.010881814246101882,0.0029818276299259394,-0.009396574288393397,0.004964294052607381,0.0049216665388215584,-0.003745784968965236,-0.004791409365399395,-0.006709293223186036,-0.008351021333505607,-0.0040445537782512146,0.00257753307101501,-0.0049293928568056216,-0.0033487075434499793,0.008195545780519769,-0.0029621702570072146,-0.006305703116705355,0.0024976474611375908,0.0008006490616160884,0.007222806622821402,-0.002907389156481152,0.0010597025495515508,-0.009974334160647077,0.002437835525326664,-0.0003012817249716434,-0.0001586499847953015,0.0024366648246144716,-0.002096090329599101,-0.003821260534220835,-0.006320490473912341,0.0025641021814014585,-0.0014975431091752624,-0.008871043908692536,0.007744486089623016,0.002899583673776961,0.0063966709992386815,0.011111810435026008,-0.00864813025340353,-0.00041125923553833653,-0.006018528762437045,-0.010216318112050746,0.010494406682968183,0.0023508643840407513,-0.008026446560211398,0.00045201809936896314,-0.001487963132460962,0.0033596117723983993,-0.001523745378418734,0.009139459619455045],\"z\":[0.23892662449098828,-0.5798761558440407,-0.6040104403763056,3.332508099938875,0.6415697439554593,2.3852504269386023,-1.0518627686317414,0.5775375393397033,0.004952927563984966,1.3094961353331507,-2.653488620466041,3.414755398167433,-0.1173962074224672,3.3135655941600235,2.2738311579380897,-3.2798654620208194,3.0478614247047444,2.7053845149476774,-2.7023894066469416,-3.317274237972405,0.25959432746650596,-0.2585320734400002,-2.9450735584189216,-2.20488340138705,-2.1864420594718577,-0.6739800241320368,3.3317090076651765,-1.624759009850652,2.231020796820811,-2.4286957181557343,0.34553962214306455,-3.0275741776374026,0.7009841293465005,-2.5806039871658597,-0.14627714023871266,0.8461061573999809,-1.43074519073234,1.453231661556293,-2.3332491707215697,-3.0498973124554505,-0.6312016564913989,2.063402992554157,0.1252336493710402,-3.3521749324050054,-3.038555626909586,-3.098538193650476,-1.4878824434899747,-2.0847195421013933,3.1484777734898435,-1.4453835124214924,3.7029484515657374,0.4915570803888511,3.045385968924682,-2.782896192008591,-1.7821392578943405,0.9616083440877441,1.2364508459777679,-3.390288337835662,0.9766938985056888,3.040803053800507,1.1756006098887426,1.8755732863771999,-0.2526161413948632,-0.7769511612364783,3.0973140736978633,-1.5953791294593962,-2.688214883987587,0.12288317348596378,-1.5834947527495613,0.8072496121806303,-3.5591891631878285,-0.9900219872027307,1.9461511734813164,0.626805181899873,2.3160685780182093,-0.24893338063452797,-0.14645769385709345,0.4239236931130513,1.34610733591791,-0.007018474387180201,-2.0982318613993995,0.4630263153828052,-0.9656424704604343,0.020567818104304636,0.16099372338951135,-0.6991495831213268,2.963667812504216,-0.25539178650025285,-3.4233373015800406,2.1386210183002317,2.2400866065847285,-1.3735992764428453,1.4799017688094533,-2.4503603855750042,0.9916922718709535,-1.003658295207394,2.490306612944634,1.3864503599077578,-0.0910374001071984,1.3267987240029404,-2.11390058057254],\"type\":\"scatter3d\"}],                        {\"template\":{\"data\":{\"bar\":[{\"error_x\":{\"color\":\"#2a3f5f\"},\"error_y\":{\"color\":\"#2a3f5f\"},\"marker\":{\"line\":{\"color\":\"#E5ECF6\",\"width\":0.5},\"pattern\":{\"fillmode\":\"overlay\",\"size\":10,\"solidity\":0.2}},\"type\":\"bar\"}],\"barpolar\":[{\"marker\":{\"line\":{\"color\":\"#E5ECF6\",\"width\":0.5},\"pattern\":{\"fillmode\":\"overlay\",\"size\":10,\"solidity\":0.2}},\"type\":\"barpolar\"}],\"carpet\":[{\"aaxis\":{\"endlinecolor\":\"#2a3f5f\",\"gridcolor\":\"white\",\"linecolor\":\"white\",\"minorgridcolor\":\"white\",\"startlinecolor\":\"#2a3f5f\"},\"baxis\":{\"endlinecolor\":\"#2a3f5f\",\"gridcolor\":\"white\",\"linecolor\":\"white\",\"minorgridcolor\":\"white\",\"startlinecolor\":\"#2a3f5f\"},\"type\":\"carpet\"}],\"choropleth\":[{\"colorbar\":{\"outlinewidth\":0,\"ticks\":\"\"},\"type\":\"choropleth\"}],\"contour\":[{\"colorbar\":{\"outlinewidth\":0,\"ticks\":\"\"},\"colorscale\":[[0.0,\"#0d0887\"],[0.1111111111111111,\"#46039f\"],[0.2222222222222222,\"#7201a8\"],[0.3333333333333333,\"#9c179e\"],[0.4444444444444444,\"#bd3786\"],[0.5555555555555556,\"#d8576b\"],[0.6666666666666666,\"#ed7953\"],[0.7777777777777778,\"#fb9f3a\"],[0.8888888888888888,\"#fdca26\"],[1.0,\"#f0f921\"]],\"type\":\"contour\"}],\"contourcarpet\":[{\"colorbar\":{\"outlinewidth\":0,\"ticks\":\"\"},\"type\":\"contourcarpet\"}],\"heatmap\":[{\"colorbar\":{\"outlinewidth\":0,\"ticks\":\"\"},\"colorscale\":[[0.0,\"#0d0887\"],[0.1111111111111111,\"#46039f\"],[0.2222222222222222,\"#7201a8\"],[0.3333333333333333,\"#9c179e\"],[0.4444444444444444,\"#bd3786\"],[0.5555555555555556,\"#d8576b\"],[0.6666666666666666,\"#ed7953\"],[0.7777777777777778,\"#fb9f3a\"],[0.8888888888888888,\"#fdca26\"],[1.0,\"#f0f921\"]],\"type\":\"heatmap\"}],\"heatmapgl\":[{\"colorbar\":{\"outlinewidth\":0,\"ticks\":\"\"},\"colorscale\":[[0.0,\"#0d0887\"],[0.1111111111111111,\"#46039f\"],[0.2222222222222222,\"#7201a8\"],[0.3333333333333333,\"#9c179e\"],[0.4444444444444444,\"#bd3786\"],[0.5555555555555556,\"#d8576b\"],[0.6666666666666666,\"#ed7953\"],[0.7777777777777778,\"#fb9f3a\"],[0.8888888888888888,\"#fdca26\"],[1.0,\"#f0f921\"]],\"type\":\"heatmapgl\"}],\"histogram\":[{\"marker\":{\"pattern\":{\"fillmode\":\"overlay\",\"size\":10,\"solidity\":0.2}},\"type\":\"histogram\"}],\"histogram2d\":[{\"colorbar\":{\"outlinewidth\":0,\"ticks\":\"\"},\"colorscale\":[[0.0,\"#0d0887\"],[0.1111111111111111,\"#46039f\"],[0.2222222222222222,\"#7201a8\"],[0.3333333333333333,\"#9c179e\"],[0.4444444444444444,\"#bd3786\"],[0.5555555555555556,\"#d8576b\"],[0.6666666666666666,\"#ed7953\"],[0.7777777777777778,\"#fb9f3a\"],[0.8888888888888888,\"#fdca26\"],[1.0,\"#f0f921\"]],\"type\":\"histogram2d\"}],\"histogram2dcontour\":[{\"colorbar\":{\"outlinewidth\":0,\"ticks\":\"\"},\"colorscale\":[[0.0,\"#0d0887\"],[0.1111111111111111,\"#46039f\"],[0.2222222222222222,\"#7201a8\"],[0.3333333333333333,\"#9c179e\"],[0.4444444444444444,\"#bd3786\"],[0.5555555555555556,\"#d8576b\"],[0.6666666666666666,\"#ed7953\"],[0.7777777777777778,\"#fb9f3a\"],[0.8888888888888888,\"#fdca26\"],[1.0,\"#f0f921\"]],\"type\":\"histogram2dcontour\"}],\"mesh3d\":[{\"colorbar\":{\"outlinewidth\":0,\"ticks\":\"\"},\"type\":\"mesh3d\"}],\"parcoords\":[{\"line\":{\"colorbar\":{\"outlinewidth\":0,\"ticks\":\"\"}},\"type\":\"parcoords\"}],\"pie\":[{\"automargin\":true,\"type\":\"pie\"}],\"scatter\":[{\"marker\":{\"colorbar\":{\"outlinewidth\":0,\"ticks\":\"\"}},\"type\":\"scatter\"}],\"scatter3d\":[{\"line\":{\"colorbar\":{\"outlinewidth\":0,\"ticks\":\"\"}},\"marker\":{\"colorbar\":{\"outlinewidth\":0,\"ticks\":\"\"}},\"type\":\"scatter3d\"}],\"scattercarpet\":[{\"marker\":{\"colorbar\":{\"outlinewidth\":0,\"ticks\":\"\"}},\"type\":\"scattercarpet\"}],\"scattergeo\":[{\"marker\":{\"colorbar\":{\"outlinewidth\":0,\"ticks\":\"\"}},\"type\":\"scattergeo\"}],\"scattergl\":[{\"marker\":{\"colorbar\":{\"outlinewidth\":0,\"ticks\":\"\"}},\"type\":\"scattergl\"}],\"scattermapbox\":[{\"marker\":{\"colorbar\":{\"outlinewidth\":0,\"ticks\":\"\"}},\"type\":\"scattermapbox\"}],\"scatterpolar\":[{\"marker\":{\"colorbar\":{\"outlinewidth\":0,\"ticks\":\"\"}},\"type\":\"scatterpolar\"}],\"scatterpolargl\":[{\"marker\":{\"colorbar\":{\"outlinewidth\":0,\"ticks\":\"\"}},\"type\":\"scatterpolargl\"}],\"scatterternary\":[{\"marker\":{\"colorbar\":{\"outlinewidth\":0,\"ticks\":\"\"}},\"type\":\"scatterternary\"}],\"surface\":[{\"colorbar\":{\"outlinewidth\":0,\"ticks\":\"\"},\"colorscale\":[[0.0,\"#0d0887\"],[0.1111111111111111,\"#46039f\"],[0.2222222222222222,\"#7201a8\"],[0.3333333333333333,\"#9c179e\"],[0.4444444444444444,\"#bd3786\"],[0.5555555555555556,\"#d8576b\"],[0.6666666666666666,\"#ed7953\"],[0.7777777777777778,\"#fb9f3a\"],[0.8888888888888888,\"#fdca26\"],[1.0,\"#f0f921\"]],\"type\":\"surface\"}],\"table\":[{\"cells\":{\"fill\":{\"color\":\"#EBF0F8\"},\"line\":{\"color\":\"white\"}},\"header\":{\"fill\":{\"color\":\"#C8D4E3\"},\"line\":{\"color\":\"white\"}},\"type\":\"table\"}]},\"layout\":{\"annotationdefaults\":{\"arrowcolor\":\"#2a3f5f\",\"arrowhead\":0,\"arrowwidth\":1},\"autotypenumbers\":\"strict\",\"coloraxis\":{\"colorbar\":{\"outlinewidth\":0,\"ticks\":\"\"}},\"colorscale\":{\"diverging\":[[0,\"#8e0152\"],[0.1,\"#c51b7d\"],[0.2,\"#de77ae\"],[0.3,\"#f1b6da\"],[0.4,\"#fde0ef\"],[0.5,\"#f7f7f7\"],[0.6,\"#e6f5d0\"],[0.7,\"#b8e186\"],[0.8,\"#7fbc41\"],[0.9,\"#4d9221\"],[1,\"#276419\"]],\"sequential\":[[0.0,\"#0d0887\"],[0.1111111111111111,\"#46039f\"],[0.2222222222222222,\"#7201a8\"],[0.3333333333333333,\"#9c179e\"],[0.4444444444444444,\"#bd3786\"],[0.5555555555555556,\"#d8576b\"],[0.6666666666666666,\"#ed7953\"],[0.7777777777777778,\"#fb9f3a\"],[0.8888888888888888,\"#fdca26\"],[1.0,\"#f0f921\"]],\"sequentialminus\":[[0.0,\"#0d0887\"],[0.1111111111111111,\"#46039f\"],[0.2222222222222222,\"#7201a8\"],[0.3333333333333333,\"#9c179e\"],[0.4444444444444444,\"#bd3786\"],[0.5555555555555556,\"#d8576b\"],[0.6666666666666666,\"#ed7953\"],[0.7777777777777778,\"#fb9f3a\"],[0.8888888888888888,\"#fdca26\"],[1.0,\"#f0f921\"]]},\"colorway\":[\"#636efa\",\"#EF553B\",\"#00cc96\",\"#ab63fa\",\"#FFA15A\",\"#19d3f3\",\"#FF6692\",\"#B6E880\",\"#FF97FF\",\"#FECB52\"],\"font\":{\"color\":\"#2a3f5f\"},\"geo\":{\"bgcolor\":\"white\",\"lakecolor\":\"white\",\"landcolor\":\"#E5ECF6\",\"showlakes\":true,\"showland\":true,\"subunitcolor\":\"white\"},\"hoverlabel\":{\"align\":\"left\"},\"hovermode\":\"closest\",\"mapbox\":{\"style\":\"light\"},\"paper_bgcolor\":\"white\",\"plot_bgcolor\":\"#E5ECF6\",\"polar\":{\"angularaxis\":{\"gridcolor\":\"white\",\"linecolor\":\"white\",\"ticks\":\"\"},\"bgcolor\":\"#E5ECF6\",\"radialaxis\":{\"gridcolor\":\"white\",\"linecolor\":\"white\",\"ticks\":\"\"}},\"scene\":{\"xaxis\":{\"backgroundcolor\":\"#E5ECF6\",\"gridcolor\":\"white\",\"gridwidth\":2,\"linecolor\":\"white\",\"showbackground\":true,\"ticks\":\"\",\"zerolinecolor\":\"white\"},\"yaxis\":{\"backgroundcolor\":\"#E5ECF6\",\"gridcolor\":\"white\",\"gridwidth\":2,\"linecolor\":\"white\",\"showbackground\":true,\"ticks\":\"\",\"zerolinecolor\":\"white\"},\"zaxis\":{\"backgroundcolor\":\"#E5ECF6\",\"gridcolor\":\"white\",\"gridwidth\":2,\"linecolor\":\"white\",\"showbackground\":true,\"ticks\":\"\",\"zerolinecolor\":\"white\"}},\"shapedefaults\":{\"line\":{\"color\":\"#2a3f5f\"}},\"ternary\":{\"aaxis\":{\"gridcolor\":\"white\",\"linecolor\":\"white\",\"ticks\":\"\"},\"baxis\":{\"gridcolor\":\"white\",\"linecolor\":\"white\",\"ticks\":\"\"},\"bgcolor\":\"#E5ECF6\",\"caxis\":{\"gridcolor\":\"white\",\"linecolor\":\"white\",\"ticks\":\"\"}},\"title\":{\"x\":0.05},\"xaxis\":{\"automargin\":true,\"gridcolor\":\"white\",\"linecolor\":\"white\",\"ticks\":\"\",\"title\":{\"standoff\":15},\"zerolinecolor\":\"white\",\"zerolinewidth\":2},\"yaxis\":{\"automargin\":true,\"gridcolor\":\"white\",\"linecolor\":\"white\",\"ticks\":\"\",\"title\":{\"standoff\":15},\"zerolinecolor\":\"white\",\"zerolinewidth\":2}}}},                        {\"responsive\": true}                    ).then(function(){\n",
              "                            \n",
              "var gd = document.getElementById('b5b8fe03-4291-45a8-a20c-659bc15b4b58');\n",
              "var x = new MutationObserver(function (mutations, observer) {{\n",
              "        var display = window.getComputedStyle(gd).display;\n",
              "        if (!display || display === 'none') {{\n",
              "            console.log([gd, 'removed!']);\n",
              "            Plotly.purge(gd);\n",
              "            observer.disconnect();\n",
              "        }}\n",
              "}});\n",
              "\n",
              "// Listen for the removal of the full notebook cells\n",
              "var notebookContainer = gd.closest('#notebook-container');\n",
              "if (notebookContainer) {{\n",
              "    x.observe(notebookContainer, {childList: true});\n",
              "}}\n",
              "\n",
              "// Listen for the clearing of the current output cell\n",
              "var outputEl = gd.closest('.output');\n",
              "if (outputEl) {{\n",
              "    x.observe(outputEl, {childList: true});\n",
              "}}\n",
              "\n",
              "                        })                };                            </script>        </div>\n",
              "</body>\n",
              "</html>"
            ]
          },
          "metadata": {}
        }
      ]
    },
    {
      "cell_type": "code",
      "source": [
        "#Decision tree\n",
        "\n",
        "inputCols=['Input1','Input2','Input3','Input3']\n",
        "outputCols=['Output2']\n",
        "\n",
        "model_inputs=twisting_data_model_pca[inputCols]\n",
        "model_outputs=twisting_data_model_pca[outputCols] \n",
        "test_inputs=twisting_data_test_pca[inputCols]\n",
        "test_outputs=twisting_data_test_pca[outputCols] \n",
        "\n",
        "\n",
        "regressor = DecisionTreeRegressor(random_state=100)\n",
        "\n",
        "regressor.fit(model_inputs,model_outputs)\n",
        "test_pred_outputs = regressor.predict(test_inputs)\n",
        "\n",
        "mse = mean_squared_error(test_outputs, test_pred_outputs )\n",
        "r2core=r2_score(test_outputs, test_pred_outputs )\n",
        "print(\"R2 score:\", r2core)\n",
        "\n",
        "actual_out=test_outputs\n",
        "predict_out=test_pred_outputs\n",
        "fig=go.Figure()\n",
        "fig.add_trace(go.Scatter3d(x=test_inputs['Input1'].to_list(),y=test_inputs['Input2'].to_list(),z=actual_out['Output2'].to_list(),mode='markers',marker={'size':2},name='Actual'))\n",
        "fig.add_trace(go.Scatter3d(x=test_inputs['Input1'].to_list(),y=test_inputs['Input2'],z=predict_out,mode='markers',marker={'size':2},name='Predicted'))\n",
        "fig.show()\n"
      ],
      "metadata": {
        "colab": {
          "base_uri": "https://localhost:8080/",
          "height": 559
        },
        "id": "8UbCTNemeqEH",
        "outputId": "0107743b-4614-47c5-ce6f-82ea70392e0a"
      },
      "execution_count": null,
      "outputs": [
        {
          "output_type": "stream",
          "name": "stdout",
          "text": [
            "R2 score: 0.07642923393654977\n"
          ]
        },
        {
          "output_type": "display_data",
          "data": {
            "text/html": [
              "<html>\n",
              "<head><meta charset=\"utf-8\" /></head>\n",
              "<body>\n",
              "    <div>            <script src=\"https://cdnjs.cloudflare.com/ajax/libs/mathjax/2.7.5/MathJax.js?config=TeX-AMS-MML_SVG\"></script><script type=\"text/javascript\">if (window.MathJax) {MathJax.Hub.Config({SVG: {font: \"STIX-Web\"}});}</script>                <script type=\"text/javascript\">window.PlotlyConfig = {MathJaxConfig: 'local'};</script>\n",
              "        <script src=\"https://cdn.plot.ly/plotly-2.8.3.min.js\"></script>                <div id=\"506d8439-4c5a-41dc-978e-2b586ca54b81\" class=\"plotly-graph-div\" style=\"height:525px; width:100%;\"></div>            <script type=\"text/javascript\">                                    window.PLOTLYENV=window.PLOTLYENV || {};                                    if (document.getElementById(\"506d8439-4c5a-41dc-978e-2b586ca54b81\")) {                    Plotly.newPlot(                        \"506d8439-4c5a-41dc-978e-2b586ca54b81\",                        [{\"marker\":{\"size\":2},\"mode\":\"markers\",\"name\":\"Actual\",\"x\":[-0.02488484168152363,-0.024919400395657525,0.015078490842604755,0.005137291217835581,-0.024884063881572084,-0.0048568795219808645,-0.004968195129936159,0.015079286970267992,0.005097499302319973,-0.004942611978011372,-0.01492889170855856,-0.024874231871055513,0.02511086890679494,0.0051536883579635295,-0.004853978551370462,-0.014950776372734429,-0.024848173956016746,-0.014922627327504859,-0.0049479131642219095,0.005020550512760082,0.005027113536087966,0.005089083426290084,0.005005718020449494,-0.02498002235659373,0.015034213811866365,0.015018269611381939,-0.02492283089212503,0.02501476308178033,-0.024869031608946462,0.025040616105132474,-0.02496281331390385,-0.024976518543533853,0.015047179066051531,0.025059203011272825,-0.024934277207576086,0.025094615394763615,-0.004975667528309853,0.015065886166950829,0.004991729923443999,0.02507806001497807,-0.024946350967897636,0.01508676075811696,0.005047956803594263,-0.024977174985388734,0.02507543308422084,-0.0049757250700035284,0.025043261363601393,-0.014933131554775,0.015116527604039786,-0.0049565599238347155,-0.004892968781321731,0.0050268121148632295,0.01506464521035817,-0.0049332164154314104,-0.01494554456082799,0.02503498401004214,-0.024906727509037222,-0.0049698813619877425,0.02505922156512206,0.005120074510961106,-0.01492544754347585,-0.014928608168516008,-0.014943981076348353,-0.014898995619962514,-0.024918288235208575,-0.024956642192767043,0.005023206214364147,-0.01495085179561029,-0.024980948896013506,0.005072687675637412,0.005028052845318335,-0.004914189565595684,-0.024887796025401882,0.02510082711935769,0.005046591936091937,0.015110324706968038,0.015039169031106634,-0.014965565482637208,-0.024911065274267046,-0.014893313647363106,0.0049912927586991725,0.015027345871554975,-0.014956301495151507,-0.004943543849194699,-0.004977498331403842,-0.004918117547452243,0.02512263102889416,0.005068743918882159,-0.02493153308714801,-0.00493200239368081,-0.01492809002299422,-0.005008705914234364,-0.0049553382378995205,-0.00494761429581017,0.015073194050957597,-0.015003818742231742,0.015085363177479522,0.025122316385583723,0.015077367301820493,-0.014887044381075359,0.00505218087491201],\"y\":[-0.0007627544492267558,-0.0024264048876554895,-0.0019889511323064094,-0.0009269014913298923,0.007357651376932378,0.0011535546794386939,0.0014359554068497607,-0.006851924963362376,0.007165713617744091,-0.0021420688466611847,0.012561958372845974,-0.0017179021587176492,0.011902860541907444,-0.003161011006849436,0.0026146390615664054,0.010710532233096568,0.0011422713693893967,-0.00525975385658232,0.002729515805430781,0.008264888253551317,-0.007342846795591028,0.002291098889950132,-0.004105858280689832,0.006710928620388524,-0.0033477521064921648,-0.0021136832770802774,-0.008981676432195792,0.004332350930096761,-0.002691918619289325,0.005667870110806546,-0.0037634987974864624,0.004489723585759782,-0.01010957222221992,0.003686680990998416,-0.0031693273994109253,-0.004911774909498387,-0.0013778462967333341,0.001055944520092926,-0.0014439571490290108,0.012169949002662467,0.0029421944710689174,-0.0060656842041113684,-0.0021588736799449137,0.0019375489801380854,0.009539725221759233,0.004021286211136234,-0.004685285765505321,0.004640969144745493,0.0016488523340156488,-0.005025308904489821,-0.0022659634377439264,-0.005501702087212803,-0.010797320325987422,0.010881814246101882,0.0029818276299259394,-0.009396574288393397,0.004964294052607381,0.0049216665388215584,-0.003745784968965236,-0.004791409365399395,-0.006709293223186036,-0.008351021333505607,-0.0040445537782512146,0.00257753307101501,-0.0049293928568056216,-0.0033487075434499793,0.008195545780519769,-0.0029621702570072146,-0.006305703116705355,0.0024976474611375908,0.0008006490616160884,0.007222806622821402,-0.002907389156481152,0.0010597025495515508,-0.009974334160647077,0.002437835525326664,-0.0003012817249716434,-0.0001586499847953015,0.0024366648246144716,-0.002096090329599101,-0.003821260534220835,-0.006320490473912341,0.0025641021814014585,-0.0014975431091752624,-0.008871043908692536,0.007744486089623016,0.002899583673776961,0.0063966709992386815,0.011111810435026008,-0.00864813025340353,-0.00041125923553833653,-0.006018528762437045,-0.010216318112050746,0.010494406682968183,0.0023508643840407513,-0.008026446560211398,0.00045201809936896314,-0.001487963132460962,0.0033596117723983993,-0.001523745378418734,0.009139459619455045],\"z\":[0.6697689786024406,-0.9734696694923212,-0.9768110892295215,2.781902439292415,0.8560243634260674,2.2400645303063325,-0.9574588932763075,0.03682324529234101,0.36963035726407223,1.057758877583826,-3.3342019151709947,4.675503283172981,-0.06956560576505975,2.5118826298653723,2.085611908344294,-4.6646557429418065,3.6355262058129996,3.083096218894062,-1.9625285226831217,-2.3845861492367275,-0.3663791335315526,0.29762253977755665,-2.31519770403753,-3.6117281227923774,-1.381973580544559,-0.7841156667557343,6.0027653677494826,-1.624924929749599,2.9047505964223124,-1.4109460001031433,0.12452250421691238,-3.3172507200115264,0.21061124572505308,-1.2927608314764851,-0.08785336079892644,0.12934155450646306,-1.3453150709273356,1.295275970011932,-2.0745483856585047,-2.124125901114389,-0.7092238022176965,1.3693835280477142,0.8416068828102155,-3.6081756999473966,-1.5283172496845003,-3.8077864765445653,-0.8453021155839061,-3.2953927106390646,2.2043403419467795,-2.117764033105264,3.64272483582494,-0.04792712584751451,2.0359408425754397,-2.0364339057970966,-2.73372553131414,0.09273865289855152,1.63289531071202,-2.5775293530239307,0.3374728710149606,2.5390027406918754,1.0771137618494446,1.8957895387729427,-0.24392476378331243,-0.9032106257618548,4.253238821236957,-1.8306740315857783,-1.7558517268342475,-0.08562918677020692,-1.437953712652501,1.941305477978246,-3.906540849093567,-0.6366945272348479,2.7146287315250124,0.5551513048529183,1.5558507968519208,0.12713213358977424,-0.4700492674448752,0.2486881543412402,1.926030555674666,0.3404531070310884,-1.9948372799133982,-0.1050919348244466,-1.5849954294519903,0.043903683415978105,-0.3642277225649308,-0.4432411120845673,2.780870459453874,-0.6844951514118097,-6.306414350742254,1.8524196856495654,2.478355146622118,-1.8626796432327435,0.9882128306605472,-3.2403311931314227,0.4756807722922485,-1.9786579309579053,2.7817404863805537,1.535059727334613,0.7947924964656489,1.6158287017183195,-1.516502166611133],\"type\":\"scatter3d\"},{\"marker\":{\"size\":2},\"mode\":\"markers\",\"name\":\"Predicted\",\"x\":[-0.02488484168152363,-0.024919400395657525,0.015078490842604755,0.005137291217835581,-0.024884063881572084,-0.0048568795219808645,-0.004968195129936159,0.015079286970267992,0.005097499302319973,-0.004942611978011372,-0.01492889170855856,-0.024874231871055513,0.02511086890679494,0.0051536883579635295,-0.004853978551370462,-0.014950776372734429,-0.024848173956016746,-0.014922627327504859,-0.0049479131642219095,0.005020550512760082,0.005027113536087966,0.005089083426290084,0.005005718020449494,-0.02498002235659373,0.015034213811866365,0.015018269611381939,-0.02492283089212503,0.02501476308178033,-0.024869031608946462,0.025040616105132474,-0.02496281331390385,-0.024976518543533853,0.015047179066051531,0.025059203011272825,-0.024934277207576086,0.025094615394763615,-0.004975667528309853,0.015065886166950829,0.004991729923443999,0.02507806001497807,-0.024946350967897636,0.01508676075811696,0.005047956803594263,-0.024977174985388734,0.02507543308422084,-0.0049757250700035284,0.025043261363601393,-0.014933131554775,0.015116527604039786,-0.0049565599238347155,-0.004892968781321731,0.0050268121148632295,0.01506464521035817,-0.0049332164154314104,-0.01494554456082799,0.02503498401004214,-0.024906727509037222,-0.0049698813619877425,0.02505922156512206,0.005120074510961106,-0.01492544754347585,-0.014928608168516008,-0.014943981076348353,-0.014898995619962514,-0.024918288235208575,-0.024956642192767043,0.005023206214364147,-0.01495085179561029,-0.024980948896013506,0.005072687675637412,0.005028052845318335,-0.004914189565595684,-0.024887796025401882,0.02510082711935769,0.005046591936091937,0.015110324706968038,0.015039169031106634,-0.014965565482637208,-0.024911065274267046,-0.014893313647363106,0.0049912927586991725,0.015027345871554975,-0.014956301495151507,-0.004943543849194699,-0.004977498331403842,-0.004918117547452243,0.02512263102889416,0.005068743918882159,-0.02493153308714801,-0.00493200239368081,-0.01492809002299422,-0.005008705914234364,-0.0049553382378995205,-0.00494761429581017,0.015073194050957597,-0.015003818742231742,0.015085363177479522,0.025122316385583723,0.015077367301820493,-0.014887044381075359,0.00505218087491201],\"y\":[-0.0007627544492267558,-0.0024264048876554895,-0.0019889511323064094,-0.0009269014913298923,0.007357651376932378,0.0011535546794386939,0.0014359554068497607,-0.006851924963362376,0.007165713617744091,-0.0021420688466611847,0.012561958372845974,-0.0017179021587176492,0.011902860541907444,-0.003161011006849436,0.0026146390615664054,0.010710532233096568,0.0011422713693893967,-0.00525975385658232,0.002729515805430781,0.008264888253551317,-0.007342846795591028,0.002291098889950132,-0.004105858280689832,0.006710928620388524,-0.0033477521064921648,-0.0021136832770802774,-0.008981676432195792,0.004332350930096761,-0.002691918619289325,0.005667870110806546,-0.0037634987974864624,0.004489723585759782,-0.01010957222221992,0.003686680990998416,-0.0031693273994109253,-0.004911774909498387,-0.0013778462967333341,0.001055944520092926,-0.0014439571490290108,0.012169949002662467,0.0029421944710689174,-0.0060656842041113684,-0.0021588736799449137,0.0019375489801380854,0.009539725221759233,0.004021286211136234,-0.004685285765505321,0.004640969144745493,0.0016488523340156488,-0.005025308904489821,-0.0022659634377439264,-0.005501702087212803,-0.010797320325987422,0.010881814246101882,0.0029818276299259394,-0.009396574288393397,0.004964294052607381,0.0049216665388215584,-0.003745784968965236,-0.004791409365399395,-0.006709293223186036,-0.008351021333505607,-0.0040445537782512146,0.00257753307101501,-0.0049293928568056216,-0.0033487075434499793,0.008195545780519769,-0.0029621702570072146,-0.006305703116705355,0.0024976474611375908,0.0008006490616160884,0.007222806622821402,-0.002907389156481152,0.0010597025495515508,-0.009974334160647077,0.002437835525326664,-0.0003012817249716434,-0.0001586499847953015,0.0024366648246144716,-0.002096090329599101,-0.003821260534220835,-0.006320490473912341,0.0025641021814014585,-0.0014975431091752624,-0.008871043908692536,0.007744486089623016,0.002899583673776961,0.0063966709992386815,0.011111810435026008,-0.00864813025340353,-0.00041125923553833653,-0.006018528762437045,-0.010216318112050746,0.010494406682968183,0.0023508643840407513,-0.008026446560211398,0.00045201809936896314,-0.001487963132460962,0.0033596117723983993,-0.001523745378418734,0.009139459619455045],\"z\":[2.531680460849312,4.776073579698556,0.19781498242139156,0.9978632651568147,4.6258513713163945,2.430059813453316,-0.8731745214500727,1.8084545737013666,0.3578270015672995,-3.0280535685516208,-2.81601832792292,3.323887374175509,0.18469100318088477,3.0779764122549964,1.9210415250361224,-3.912326161336591,7.036275322905807,0.7157731626668914,-0.7918432383165421,-2.04173148229402,-0.058708191769761914,-1.6862255529332721,-4.200294107302074,-2.15978944242023,0.976751674111899,-0.6232308097159359,6.0027653677494826,-4.219606442379827,4.616135641076239,-1.1909373065513211,-0.4265599268775159,-4.5564476954424045,1.3650987548466447,-0.08095710113551911,1.8360140993973502,2.0611401395105284,-2.098976721148656,0.7340391389625152,-3.2135064688757864,-3.6661922553315773,-0.6970919177619584,2.6411058998793266,-1.147861029588771,-3.990501575450255,-1.0333989768422378,-2.805462580770607,0.08995771599660363,-1.53931063296186,1.5696332164379736,-0.37659769518947556,2.089465727974907,-0.11762317837037671,4.198803849414434,-2.7773073405846036,-0.6970919177619584,-0.11376686397909629,1.2308632901300485,-1.7648157857627123,-0.4265599268775159,1.5505558221661995,0.7157731626668914,2.820843431800702,0.63391576657406,0.211468626692359,4.776073579698556,0.976751674111899,-2.04173148229402,0.976751674111899,-0.013229067223890762,-1.7290611258610746,-1.2772471294425352,-0.1841988252115545,3.3822532207920672,1.1181120530967918,1.3650987548466447,0.7483619944020528,-1.5087807941318014,-2.4479496946881754,0.7581937870459033,3.400229529561422,-3.682570143263165,-0.8297219983886618,-0.6970919177619584,-0.5331792803913326,-0.013229067223890762,-0.1841988252115545,1.043235822356906,-1.53931063296186,-2.7773073405846036,1.3802476780544202,2.820843431800702,-2.5415463167257104,1.7839881099451642,-4.091423611323008,-1.7290611258610746,10.815594962804957,0.6948964512192188,2.089465727974907,-1.6862255529332721,3.811049932446895,-4.33583897660366],\"type\":\"scatter3d\"}],                        {\"template\":{\"data\":{\"bar\":[{\"error_x\":{\"color\":\"#2a3f5f\"},\"error_y\":{\"color\":\"#2a3f5f\"},\"marker\":{\"line\":{\"color\":\"#E5ECF6\",\"width\":0.5},\"pattern\":{\"fillmode\":\"overlay\",\"size\":10,\"solidity\":0.2}},\"type\":\"bar\"}],\"barpolar\":[{\"marker\":{\"line\":{\"color\":\"#E5ECF6\",\"width\":0.5},\"pattern\":{\"fillmode\":\"overlay\",\"size\":10,\"solidity\":0.2}},\"type\":\"barpolar\"}],\"carpet\":[{\"aaxis\":{\"endlinecolor\":\"#2a3f5f\",\"gridcolor\":\"white\",\"linecolor\":\"white\",\"minorgridcolor\":\"white\",\"startlinecolor\":\"#2a3f5f\"},\"baxis\":{\"endlinecolor\":\"#2a3f5f\",\"gridcolor\":\"white\",\"linecolor\":\"white\",\"minorgridcolor\":\"white\",\"startlinecolor\":\"#2a3f5f\"},\"type\":\"carpet\"}],\"choropleth\":[{\"colorbar\":{\"outlinewidth\":0,\"ticks\":\"\"},\"type\":\"choropleth\"}],\"contour\":[{\"colorbar\":{\"outlinewidth\":0,\"ticks\":\"\"},\"colorscale\":[[0.0,\"#0d0887\"],[0.1111111111111111,\"#46039f\"],[0.2222222222222222,\"#7201a8\"],[0.3333333333333333,\"#9c179e\"],[0.4444444444444444,\"#bd3786\"],[0.5555555555555556,\"#d8576b\"],[0.6666666666666666,\"#ed7953\"],[0.7777777777777778,\"#fb9f3a\"],[0.8888888888888888,\"#fdca26\"],[1.0,\"#f0f921\"]],\"type\":\"contour\"}],\"contourcarpet\":[{\"colorbar\":{\"outlinewidth\":0,\"ticks\":\"\"},\"type\":\"contourcarpet\"}],\"heatmap\":[{\"colorbar\":{\"outlinewidth\":0,\"ticks\":\"\"},\"colorscale\":[[0.0,\"#0d0887\"],[0.1111111111111111,\"#46039f\"],[0.2222222222222222,\"#7201a8\"],[0.3333333333333333,\"#9c179e\"],[0.4444444444444444,\"#bd3786\"],[0.5555555555555556,\"#d8576b\"],[0.6666666666666666,\"#ed7953\"],[0.7777777777777778,\"#fb9f3a\"],[0.8888888888888888,\"#fdca26\"],[1.0,\"#f0f921\"]],\"type\":\"heatmap\"}],\"heatmapgl\":[{\"colorbar\":{\"outlinewidth\":0,\"ticks\":\"\"},\"colorscale\":[[0.0,\"#0d0887\"],[0.1111111111111111,\"#46039f\"],[0.2222222222222222,\"#7201a8\"],[0.3333333333333333,\"#9c179e\"],[0.4444444444444444,\"#bd3786\"],[0.5555555555555556,\"#d8576b\"],[0.6666666666666666,\"#ed7953\"],[0.7777777777777778,\"#fb9f3a\"],[0.8888888888888888,\"#fdca26\"],[1.0,\"#f0f921\"]],\"type\":\"heatmapgl\"}],\"histogram\":[{\"marker\":{\"pattern\":{\"fillmode\":\"overlay\",\"size\":10,\"solidity\":0.2}},\"type\":\"histogram\"}],\"histogram2d\":[{\"colorbar\":{\"outlinewidth\":0,\"ticks\":\"\"},\"colorscale\":[[0.0,\"#0d0887\"],[0.1111111111111111,\"#46039f\"],[0.2222222222222222,\"#7201a8\"],[0.3333333333333333,\"#9c179e\"],[0.4444444444444444,\"#bd3786\"],[0.5555555555555556,\"#d8576b\"],[0.6666666666666666,\"#ed7953\"],[0.7777777777777778,\"#fb9f3a\"],[0.8888888888888888,\"#fdca26\"],[1.0,\"#f0f921\"]],\"type\":\"histogram2d\"}],\"histogram2dcontour\":[{\"colorbar\":{\"outlinewidth\":0,\"ticks\":\"\"},\"colorscale\":[[0.0,\"#0d0887\"],[0.1111111111111111,\"#46039f\"],[0.2222222222222222,\"#7201a8\"],[0.3333333333333333,\"#9c179e\"],[0.4444444444444444,\"#bd3786\"],[0.5555555555555556,\"#d8576b\"],[0.6666666666666666,\"#ed7953\"],[0.7777777777777778,\"#fb9f3a\"],[0.8888888888888888,\"#fdca26\"],[1.0,\"#f0f921\"]],\"type\":\"histogram2dcontour\"}],\"mesh3d\":[{\"colorbar\":{\"outlinewidth\":0,\"ticks\":\"\"},\"type\":\"mesh3d\"}],\"parcoords\":[{\"line\":{\"colorbar\":{\"outlinewidth\":0,\"ticks\":\"\"}},\"type\":\"parcoords\"}],\"pie\":[{\"automargin\":true,\"type\":\"pie\"}],\"scatter\":[{\"marker\":{\"colorbar\":{\"outlinewidth\":0,\"ticks\":\"\"}},\"type\":\"scatter\"}],\"scatter3d\":[{\"line\":{\"colorbar\":{\"outlinewidth\":0,\"ticks\":\"\"}},\"marker\":{\"colorbar\":{\"outlinewidth\":0,\"ticks\":\"\"}},\"type\":\"scatter3d\"}],\"scattercarpet\":[{\"marker\":{\"colorbar\":{\"outlinewidth\":0,\"ticks\":\"\"}},\"type\":\"scattercarpet\"}],\"scattergeo\":[{\"marker\":{\"colorbar\":{\"outlinewidth\":0,\"ticks\":\"\"}},\"type\":\"scattergeo\"}],\"scattergl\":[{\"marker\":{\"colorbar\":{\"outlinewidth\":0,\"ticks\":\"\"}},\"type\":\"scattergl\"}],\"scattermapbox\":[{\"marker\":{\"colorbar\":{\"outlinewidth\":0,\"ticks\":\"\"}},\"type\":\"scattermapbox\"}],\"scatterpolar\":[{\"marker\":{\"colorbar\":{\"outlinewidth\":0,\"ticks\":\"\"}},\"type\":\"scatterpolar\"}],\"scatterpolargl\":[{\"marker\":{\"colorbar\":{\"outlinewidth\":0,\"ticks\":\"\"}},\"type\":\"scatterpolargl\"}],\"scatterternary\":[{\"marker\":{\"colorbar\":{\"outlinewidth\":0,\"ticks\":\"\"}},\"type\":\"scatterternary\"}],\"surface\":[{\"colorbar\":{\"outlinewidth\":0,\"ticks\":\"\"},\"colorscale\":[[0.0,\"#0d0887\"],[0.1111111111111111,\"#46039f\"],[0.2222222222222222,\"#7201a8\"],[0.3333333333333333,\"#9c179e\"],[0.4444444444444444,\"#bd3786\"],[0.5555555555555556,\"#d8576b\"],[0.6666666666666666,\"#ed7953\"],[0.7777777777777778,\"#fb9f3a\"],[0.8888888888888888,\"#fdca26\"],[1.0,\"#f0f921\"]],\"type\":\"surface\"}],\"table\":[{\"cells\":{\"fill\":{\"color\":\"#EBF0F8\"},\"line\":{\"color\":\"white\"}},\"header\":{\"fill\":{\"color\":\"#C8D4E3\"},\"line\":{\"color\":\"white\"}},\"type\":\"table\"}]},\"layout\":{\"annotationdefaults\":{\"arrowcolor\":\"#2a3f5f\",\"arrowhead\":0,\"arrowwidth\":1},\"autotypenumbers\":\"strict\",\"coloraxis\":{\"colorbar\":{\"outlinewidth\":0,\"ticks\":\"\"}},\"colorscale\":{\"diverging\":[[0,\"#8e0152\"],[0.1,\"#c51b7d\"],[0.2,\"#de77ae\"],[0.3,\"#f1b6da\"],[0.4,\"#fde0ef\"],[0.5,\"#f7f7f7\"],[0.6,\"#e6f5d0\"],[0.7,\"#b8e186\"],[0.8,\"#7fbc41\"],[0.9,\"#4d9221\"],[1,\"#276419\"]],\"sequential\":[[0.0,\"#0d0887\"],[0.1111111111111111,\"#46039f\"],[0.2222222222222222,\"#7201a8\"],[0.3333333333333333,\"#9c179e\"],[0.4444444444444444,\"#bd3786\"],[0.5555555555555556,\"#d8576b\"],[0.6666666666666666,\"#ed7953\"],[0.7777777777777778,\"#fb9f3a\"],[0.8888888888888888,\"#fdca26\"],[1.0,\"#f0f921\"]],\"sequentialminus\":[[0.0,\"#0d0887\"],[0.1111111111111111,\"#46039f\"],[0.2222222222222222,\"#7201a8\"],[0.3333333333333333,\"#9c179e\"],[0.4444444444444444,\"#bd3786\"],[0.5555555555555556,\"#d8576b\"],[0.6666666666666666,\"#ed7953\"],[0.7777777777777778,\"#fb9f3a\"],[0.8888888888888888,\"#fdca26\"],[1.0,\"#f0f921\"]]},\"colorway\":[\"#636efa\",\"#EF553B\",\"#00cc96\",\"#ab63fa\",\"#FFA15A\",\"#19d3f3\",\"#FF6692\",\"#B6E880\",\"#FF97FF\",\"#FECB52\"],\"font\":{\"color\":\"#2a3f5f\"},\"geo\":{\"bgcolor\":\"white\",\"lakecolor\":\"white\",\"landcolor\":\"#E5ECF6\",\"showlakes\":true,\"showland\":true,\"subunitcolor\":\"white\"},\"hoverlabel\":{\"align\":\"left\"},\"hovermode\":\"closest\",\"mapbox\":{\"style\":\"light\"},\"paper_bgcolor\":\"white\",\"plot_bgcolor\":\"#E5ECF6\",\"polar\":{\"angularaxis\":{\"gridcolor\":\"white\",\"linecolor\":\"white\",\"ticks\":\"\"},\"bgcolor\":\"#E5ECF6\",\"radialaxis\":{\"gridcolor\":\"white\",\"linecolor\":\"white\",\"ticks\":\"\"}},\"scene\":{\"xaxis\":{\"backgroundcolor\":\"#E5ECF6\",\"gridcolor\":\"white\",\"gridwidth\":2,\"linecolor\":\"white\",\"showbackground\":true,\"ticks\":\"\",\"zerolinecolor\":\"white\"},\"yaxis\":{\"backgroundcolor\":\"#E5ECF6\",\"gridcolor\":\"white\",\"gridwidth\":2,\"linecolor\":\"white\",\"showbackground\":true,\"ticks\":\"\",\"zerolinecolor\":\"white\"},\"zaxis\":{\"backgroundcolor\":\"#E5ECF6\",\"gridcolor\":\"white\",\"gridwidth\":2,\"linecolor\":\"white\",\"showbackground\":true,\"ticks\":\"\",\"zerolinecolor\":\"white\"}},\"shapedefaults\":{\"line\":{\"color\":\"#2a3f5f\"}},\"ternary\":{\"aaxis\":{\"gridcolor\":\"white\",\"linecolor\":\"white\",\"ticks\":\"\"},\"baxis\":{\"gridcolor\":\"white\",\"linecolor\":\"white\",\"ticks\":\"\"},\"bgcolor\":\"#E5ECF6\",\"caxis\":{\"gridcolor\":\"white\",\"linecolor\":\"white\",\"ticks\":\"\"}},\"title\":{\"x\":0.05},\"xaxis\":{\"automargin\":true,\"gridcolor\":\"white\",\"linecolor\":\"white\",\"ticks\":\"\",\"title\":{\"standoff\":15},\"zerolinecolor\":\"white\",\"zerolinewidth\":2},\"yaxis\":{\"automargin\":true,\"gridcolor\":\"white\",\"linecolor\":\"white\",\"ticks\":\"\",\"title\":{\"standoff\":15},\"zerolinecolor\":\"white\",\"zerolinewidth\":2}}}},                        {\"responsive\": true}                    ).then(function(){\n",
              "                            \n",
              "var gd = document.getElementById('506d8439-4c5a-41dc-978e-2b586ca54b81');\n",
              "var x = new MutationObserver(function (mutations, observer) {{\n",
              "        var display = window.getComputedStyle(gd).display;\n",
              "        if (!display || display === 'none') {{\n",
              "            console.log([gd, 'removed!']);\n",
              "            Plotly.purge(gd);\n",
              "            observer.disconnect();\n",
              "        }}\n",
              "}});\n",
              "\n",
              "// Listen for the removal of the full notebook cells\n",
              "var notebookContainer = gd.closest('#notebook-container');\n",
              "if (notebookContainer) {{\n",
              "    x.observe(notebookContainer, {childList: true});\n",
              "}}\n",
              "\n",
              "// Listen for the clearing of the current output cell\n",
              "var outputEl = gd.closest('.output');\n",
              "if (outputEl) {{\n",
              "    x.observe(outputEl, {childList: true});\n",
              "}}\n",
              "\n",
              "                        })                };                            </script>        </div>\n",
              "</body>\n",
              "</html>"
            ]
          },
          "metadata": {}
        }
      ]
    }
  ]
}