{
  "nbformat": 4,
  "nbformat_minor": 0,
  "metadata": {
    "colab": {
      "provenance": [],
      "authorship_tag": "ABX9TyPy8GqTUTWO1qGABJi0ygZs",
      "include_colab_link": true
    },
    "kernelspec": {
      "name": "python3",
      "display_name": "Python 3"
    },
    "language_info": {
      "name": "python"
    }
  },
  "cells": [
    {
      "cell_type": "markdown",
      "metadata": {
        "id": "view-in-github",
        "colab_type": "text"
      },
      "source": [
        "<a href=\"https://colab.research.google.com/github/Group-ProjectE17/PCA-Analysics/blob/main/PCA_Analysis.ipynb\" target=\"_parent\"><img src=\"https://colab.research.google.com/assets/colab-badge.svg\" alt=\"Open In Colab\"/></a>"
      ]
    },
    {
      "cell_type": "markdown",
      "source": [
        "#Setup"
      ],
      "metadata": {
        "id": "8kP63iMGHPkR"
      }
    },
    {
      "cell_type": "code",
      "execution_count": 1,
      "metadata": {
        "id": "SgXSxXAyFoVg"
      },
      "outputs": [],
      "source": [
        "#Import libraries\n",
        "\n",
        "import plotly.express as px\n",
        "import pandas as pd\n",
        "import io\n",
        "from google.colab import files\n",
        "import plotly.graph_objs as go\n",
        "import plotly.figure_factory as ff\n",
        "import matplotlib.pyplot as plt\n",
        "import numpy as np\n",
        "\n",
        "from sklearn.preprocessing import StandardScaler\n",
        "from sklearn.decomposition import PCA\n",
        "from sklearn.cluster import KMeans\n",
        "from sklearn.cluster import AgglomerativeClustering\n",
        "\n",
        "\n",
        "###############FUNCTION definitions ####################\n",
        "\n",
        "#PLOTING\n",
        "\n",
        "#Histograms\n",
        "\n",
        "# ploty\n",
        "def plot_histograms(data_frame,data_coloum,col='red'):\n",
        "  fig = px.histogram(data_frame, x=data_coloum,  title=data_coloum, opacity=0.9,color_discrete_sequence=[col] , nbins=200)\n",
        "  fig.update(layout_title_text='Data distributions of '+data_coloum)\n",
        "  fig.show()\n",
        "\n",
        "#Matplotlib\n",
        "def plot_histograms_plt(data_frame,data,col=\"red\"):\n",
        "  plt.hist(data_frame[data],bins=100 ,color=col, alpha=0.7, density=True)\n",
        "  plt.title('Data distribution of'+data)\n",
        "  plt.ylabel(\"Probability\")\n",
        "  plt.xlabel(data)\n",
        "  plt.show()\n",
        "\n",
        "#(2) Dash plots\n",
        "def plot_DashPlot(data_frame,data_coloum,col='#F66095'):\n",
        "   hist_data =[data_frame[data_coloum]]\n",
        "   group_labels = [data_coloum] \n",
        "   fig = ff.create_distplot(hist_data, group_labels,bin_size=[0.1],colors=[col])\n",
        "   fig.show()\n",
        "\n",
        "#(Box plot)\n",
        "def plot_BoxPlot(data_frame,data_coloum,col='#F66095'):\n",
        "   fig = px.box(data_frame, y=data_coloum,points='all')\n",
        "   fig.update(layout_title_text='Boxplot of '+data_coloum)\n",
        "   fig.show()\n",
        "\n",
        "#(Scatter plots )\n",
        "def plot_ScatterPlot(data_frame,input,output,col='red'):\n",
        "   fig = px.scatter(data_frame, x=input, y=output,color_discrete_sequence=[col])\n",
        "   fig.update(layout_title_text='Variatios of ' +input +' Vs '+output)\n",
        "   fig.show()\n",
        "\n",
        "#(Scatter plots clustering)\n",
        "def pot_scatter_clust(data_frame,input,output,col):\n",
        "  fig = px.scatter(data_frame, y=output, x=input, color=col)\n",
        "  fig.update_traces(marker_size=6)\n",
        "  fig.show()\n",
        "\n",
        "# PCA Analysis\n",
        "def PCA_Analysis(data_frame,num_components=3):\n",
        "  pca = PCA(n_components=num_components)\n",
        "  pca.fit(data_frame)\n",
        "  data_pca = pca.transform(data_frame)\n",
        "  total_var = pca.explained_variance_ratio_.sum() * 100\n",
        "  index=np.arange(1,data_frame.shape[0]+1)\n",
        "  index=np.c_[index,data_pca]\n",
        "\n",
        "  if (num_components==3):\n",
        "     Input_data_pca = pd.DataFrame(index , columns = ['Index','PC1','PC2','PC3'])\n",
        "  elif (num_components==4):\n",
        "     Input_data_pca = pd.DataFrame(index , columns = ['Index','PC1','PC2','PC3','PC4'])\n",
        "  elif (num_components==5):\n",
        "      Input_data_pca = pd.DataFrame(index , columns = ['Index','PC1','PC2','PC3','PC4','PC5'])\n",
        "\n",
        "  return Input_data_pca,  total_var\n",
        "\n",
        "\n"
      ]
    },
    {
      "cell_type": "markdown",
      "source": [
        "#Data"
      ],
      "metadata": {
        "id": "R9kg6nY4Ierm"
      }
    },
    {
      "cell_type": "code",
      "source": [
        "#Upload files\n",
        "uploaded = files.upload()\n",
        "data_frame = pd.read_csv(io.BytesIO(uploaded['Pattern1_UnitCell_Axial_Data_Complete.csv']))\n",
        "Inputs=data_frame.iloc[:,0:4]\n",
        "Outputs=data_frame.iloc[:,4:9]\n",
        "\n",
        "#Rearrange Inputs\n",
        "inputs_num = Inputs.to_numpy()\n",
        "index=np.arange(1,data_frame.shape[0]+1)\n",
        "index=np.c_[index,inputs_num ]\n",
        "Inputs = pd.DataFrame(index , columns = ['Index','Input1','Input2','Input3','Input4'])\n",
        "\n",
        "#Rearrange Outputs\n",
        "Outputs_num = Outputs.to_numpy()\n",
        "index=np.arange(1,data_frame.shape[0] +1)\n",
        "index=np.c_[index,Outputs_num ]\n",
        "Outputs = pd.DataFrame(index , columns = ['Index','Output1','Output2','Output3','Output4','Output5'])\n",
        "\n"
      ],
      "metadata": {
        "colab": {
          "base_uri": "https://localhost:8080/",
          "height": 73
        },
        "id": "YBj4k9eqIga3",
        "outputId": "582434ee-3dc8-436c-8571-4023687d9d18"
      },
      "execution_count": 3,
      "outputs": [
        {
          "output_type": "display_data",
          "data": {
            "text/plain": [
              "<IPython.core.display.HTML object>"
            ],
            "text/html": [
              "\n",
              "     <input type=\"file\" id=\"files-c0b3d9af-c08e-44fd-8197-7a25f773106e\" name=\"files[]\" multiple disabled\n",
              "        style=\"border:none\" />\n",
              "     <output id=\"result-c0b3d9af-c08e-44fd-8197-7a25f773106e\">\n",
              "      Upload widget is only available when the cell has been executed in the\n",
              "      current browser session. Please rerun this cell to enable.\n",
              "      </output>\n",
              "      <script>// Copyright 2017 Google LLC\n",
              "//\n",
              "// Licensed under the Apache License, Version 2.0 (the \"License\");\n",
              "// you may not use this file except in compliance with the License.\n",
              "// You may obtain a copy of the License at\n",
              "//\n",
              "//      http://www.apache.org/licenses/LICENSE-2.0\n",
              "//\n",
              "// Unless required by applicable law or agreed to in writing, software\n",
              "// distributed under the License is distributed on an \"AS IS\" BASIS,\n",
              "// WITHOUT WARRANTIES OR CONDITIONS OF ANY KIND, either express or implied.\n",
              "// See the License for the specific language governing permissions and\n",
              "// limitations under the License.\n",
              "\n",
              "/**\n",
              " * @fileoverview Helpers for google.colab Python module.\n",
              " */\n",
              "(function(scope) {\n",
              "function span(text, styleAttributes = {}) {\n",
              "  const element = document.createElement('span');\n",
              "  element.textContent = text;\n",
              "  for (const key of Object.keys(styleAttributes)) {\n",
              "    element.style[key] = styleAttributes[key];\n",
              "  }\n",
              "  return element;\n",
              "}\n",
              "\n",
              "// Max number of bytes which will be uploaded at a time.\n",
              "const MAX_PAYLOAD_SIZE = 100 * 1024;\n",
              "\n",
              "function _uploadFiles(inputId, outputId) {\n",
              "  const steps = uploadFilesStep(inputId, outputId);\n",
              "  const outputElement = document.getElementById(outputId);\n",
              "  // Cache steps on the outputElement to make it available for the next call\n",
              "  // to uploadFilesContinue from Python.\n",
              "  outputElement.steps = steps;\n",
              "\n",
              "  return _uploadFilesContinue(outputId);\n",
              "}\n",
              "\n",
              "// This is roughly an async generator (not supported in the browser yet),\n",
              "// where there are multiple asynchronous steps and the Python side is going\n",
              "// to poll for completion of each step.\n",
              "// This uses a Promise to block the python side on completion of each step,\n",
              "// then passes the result of the previous step as the input to the next step.\n",
              "function _uploadFilesContinue(outputId) {\n",
              "  const outputElement = document.getElementById(outputId);\n",
              "  const steps = outputElement.steps;\n",
              "\n",
              "  const next = steps.next(outputElement.lastPromiseValue);\n",
              "  return Promise.resolve(next.value.promise).then((value) => {\n",
              "    // Cache the last promise value to make it available to the next\n",
              "    // step of the generator.\n",
              "    outputElement.lastPromiseValue = value;\n",
              "    return next.value.response;\n",
              "  });\n",
              "}\n",
              "\n",
              "/**\n",
              " * Generator function which is called between each async step of the upload\n",
              " * process.\n",
              " * @param {string} inputId Element ID of the input file picker element.\n",
              " * @param {string} outputId Element ID of the output display.\n",
              " * @return {!Iterable<!Object>} Iterable of next steps.\n",
              " */\n",
              "function* uploadFilesStep(inputId, outputId) {\n",
              "  const inputElement = document.getElementById(inputId);\n",
              "  inputElement.disabled = false;\n",
              "\n",
              "  const outputElement = document.getElementById(outputId);\n",
              "  outputElement.innerHTML = '';\n",
              "\n",
              "  const pickedPromise = new Promise((resolve) => {\n",
              "    inputElement.addEventListener('change', (e) => {\n",
              "      resolve(e.target.files);\n",
              "    });\n",
              "  });\n",
              "\n",
              "  const cancel = document.createElement('button');\n",
              "  inputElement.parentElement.appendChild(cancel);\n",
              "  cancel.textContent = 'Cancel upload';\n",
              "  const cancelPromise = new Promise((resolve) => {\n",
              "    cancel.onclick = () => {\n",
              "      resolve(null);\n",
              "    };\n",
              "  });\n",
              "\n",
              "  // Wait for the user to pick the files.\n",
              "  const files = yield {\n",
              "    promise: Promise.race([pickedPromise, cancelPromise]),\n",
              "    response: {\n",
              "      action: 'starting',\n",
              "    }\n",
              "  };\n",
              "\n",
              "  cancel.remove();\n",
              "\n",
              "  // Disable the input element since further picks are not allowed.\n",
              "  inputElement.disabled = true;\n",
              "\n",
              "  if (!files) {\n",
              "    return {\n",
              "      response: {\n",
              "        action: 'complete',\n",
              "      }\n",
              "    };\n",
              "  }\n",
              "\n",
              "  for (const file of files) {\n",
              "    const li = document.createElement('li');\n",
              "    li.append(span(file.name, {fontWeight: 'bold'}));\n",
              "    li.append(span(\n",
              "        `(${file.type || 'n/a'}) - ${file.size} bytes, ` +\n",
              "        `last modified: ${\n",
              "            file.lastModifiedDate ? file.lastModifiedDate.toLocaleDateString() :\n",
              "                                    'n/a'} - `));\n",
              "    const percent = span('0% done');\n",
              "    li.appendChild(percent);\n",
              "\n",
              "    outputElement.appendChild(li);\n",
              "\n",
              "    const fileDataPromise = new Promise((resolve) => {\n",
              "      const reader = new FileReader();\n",
              "      reader.onload = (e) => {\n",
              "        resolve(e.target.result);\n",
              "      };\n",
              "      reader.readAsArrayBuffer(file);\n",
              "    });\n",
              "    // Wait for the data to be ready.\n",
              "    let fileData = yield {\n",
              "      promise: fileDataPromise,\n",
              "      response: {\n",
              "        action: 'continue',\n",
              "      }\n",
              "    };\n",
              "\n",
              "    // Use a chunked sending to avoid message size limits. See b/62115660.\n",
              "    let position = 0;\n",
              "    do {\n",
              "      const length = Math.min(fileData.byteLength - position, MAX_PAYLOAD_SIZE);\n",
              "      const chunk = new Uint8Array(fileData, position, length);\n",
              "      position += length;\n",
              "\n",
              "      const base64 = btoa(String.fromCharCode.apply(null, chunk));\n",
              "      yield {\n",
              "        response: {\n",
              "          action: 'append',\n",
              "          file: file.name,\n",
              "          data: base64,\n",
              "        },\n",
              "      };\n",
              "\n",
              "      let percentDone = fileData.byteLength === 0 ?\n",
              "          100 :\n",
              "          Math.round((position / fileData.byteLength) * 100);\n",
              "      percent.textContent = `${percentDone}% done`;\n",
              "\n",
              "    } while (position < fileData.byteLength);\n",
              "  }\n",
              "\n",
              "  // All done.\n",
              "  yield {\n",
              "    response: {\n",
              "      action: 'complete',\n",
              "    }\n",
              "  };\n",
              "}\n",
              "\n",
              "scope.google = scope.google || {};\n",
              "scope.google.colab = scope.google.colab || {};\n",
              "scope.google.colab._files = {\n",
              "  _uploadFiles,\n",
              "  _uploadFilesContinue,\n",
              "};\n",
              "})(self);\n",
              "</script> "
            ]
          },
          "metadata": {}
        },
        {
          "output_type": "stream",
          "name": "stdout",
          "text": [
            "Saving Pattern1_UnitCell_Axial_Data_Complete.csv to Pattern1_UnitCell_Axial_Data_Complete (1).csv\n"
          ]
        }
      ]
    },
    {
      "cell_type": "markdown",
      "source": [
        "#Inputs"
      ],
      "metadata": {
        "id": "h-ifSx9smhxq"
      }
    },
    {
      "cell_type": "markdown",
      "source": [
        "##Original Inputs"
      ],
      "metadata": {
        "id": "ciT-zypTWa9l"
      }
    },
    {
      "cell_type": "code",
      "source": [
        "#Scatter plots of Ibdex Vs Inputs"
      ],
      "metadata": {
        "id": "N3FPC-DjpOOb"
      },
      "execution_count": null,
      "outputs": []
    },
    {
      "cell_type": "code",
      "source": [
        "plot_ScatterPlot(Inputs,'Index','Input1')"
      ],
      "metadata": {
        "id": "EJ2oGjxlXLbr"
      },
      "execution_count": null,
      "outputs": []
    },
    {
      "cell_type": "code",
      "source": [
        "plot_ScatterPlot(Inputs,'Index','Input2')"
      ],
      "metadata": {
        "id": "Woj026DgXcoi"
      },
      "execution_count": null,
      "outputs": []
    },
    {
      "cell_type": "code",
      "source": [
        "plot_ScatterPlot(Inputs,'Index','Input3')"
      ],
      "metadata": {
        "id": "lXh2PyYmXmAr"
      },
      "execution_count": null,
      "outputs": []
    },
    {
      "cell_type": "code",
      "source": [
        "plot_ScatterPlot(Inputs,'Index','Input4')"
      ],
      "metadata": {
        "id": "Be38mjkeXqRN"
      },
      "execution_count": null,
      "outputs": []
    },
    {
      "cell_type": "markdown",
      "source": [
        "##PCA"
      ],
      "metadata": {
        "id": "D4j1MVFSHaUn"
      }
    },
    {
      "cell_type": "code",
      "source": [
        "#PCA Anaysics\n",
        "\n",
        "#Scaling the input variabes\n",
        "scaler = StandardScaler()\n",
        "scaled_input_data = scaler.fit_transform(Inputs[['Input1','Input2','Input3','Input4']])\n",
        "\n",
        "#PCA Anaysics\n",
        "Inputs_PCA,var= PCA_Analysis(scaled_input_data,4)\n"
      ],
      "metadata": {
        "id": "cLT9_03TJRxe"
      },
      "execution_count": 7,
      "outputs": []
    },
    {
      "cell_type": "code",
      "source": [
        "#Visualize PCA \n",
        "plot_ScatterPlot(Inputs_PCA,'Index','PC1')"
      ],
      "metadata": {
        "id": "cd-pQFsHKxfG"
      },
      "execution_count": null,
      "outputs": []
    },
    {
      "cell_type": "code",
      "source": [
        "plot_ScatterPlot(Inputs_PCA,'Index','PC2')"
      ],
      "metadata": {
        "id": "VC6WwMbdV2GV"
      },
      "execution_count": null,
      "outputs": []
    },
    {
      "cell_type": "code",
      "source": [
        "plot_ScatterPlot(Inputs_PCA,'Index','PC3')"
      ],
      "metadata": {
        "id": "mMjun0xtV9JU"
      },
      "execution_count": null,
      "outputs": []
    },
    {
      "cell_type": "markdown",
      "source": [
        "### PCA Clustering"
      ],
      "metadata": {
        "id": "4q2wBdF6vhOp"
      }
    },
    {
      "cell_type": "code",
      "source": [
        "# calculate sum of squares errors for different K values\n",
        "\n",
        "k_values = [1,2,3,4,5,6,7,8,9,10]\n",
        "wcss_error = []\n",
        "for k in k_values:\n",
        "    model = KMeans(n_clusters=k)\n",
        "    model.fit(Inputs_PCA[['PC1','PC2','PC3']])\n",
        "    wcss_error.append(model.inertia_)\n",
        "    wcss_error"
      ],
      "metadata": {
        "id": "CFqEmSXfvnmZ"
      },
      "execution_count": 11,
      "outputs": []
    },
    {
      "cell_type": "code",
      "source": [
        "#Train model using k=5\n",
        "model = KMeans(n_clusters=5)\n",
        "pred = model.fit_predict(Inputs_PCA[['PC1','PC2','PC3']])\n",
        "Inputs_PCA['cluster'] = pred"
      ],
      "metadata": {
        "id": "Dl027rUEvrKx"
      },
      "execution_count": 12,
      "outputs": []
    },
    {
      "cell_type": "code",
      "source": [
        "#Visualize PCA Clustering\n",
        "fig = px.scatter_3d(\n",
        "   Inputs_PCA, x='PC1', y='PC2', z='PC3', color=Inputs_PCA['cluster'],\n",
        "    title=f'Total Explained Variance: {var:.2f}%',\n",
        "    labels={'0': 'PC 1', '1': 'PC 2', '2': 'PC 3'}\n",
        ")\n",
        "fig.show()"
      ],
      "metadata": {
        "id": "8wt42us2wbsh"
      },
      "execution_count": null,
      "outputs": []
    },
    {
      "cell_type": "markdown",
      "source": [
        "#Outputs"
      ],
      "metadata": {
        "id": "Lt-OW3W4m12B"
      }
    },
    {
      "cell_type": "markdown",
      "source": [
        "##Original Outputs"
      ],
      "metadata": {
        "id": "4Zgf7dP2m5j7"
      }
    },
    {
      "cell_type": "code",
      "source": [
        "#Scatter plots of Ibdex Vs Outputs"
      ],
      "metadata": {
        "id": "65dNnnaCziwv"
      },
      "execution_count": null,
      "outputs": []
    },
    {
      "cell_type": "code",
      "source": [
        "plot_ScatterPlot(Outputs,'Index','Output1')"
      ],
      "metadata": {
        "id": "nOd3k-adzpUR"
      },
      "execution_count": null,
      "outputs": []
    },
    {
      "cell_type": "code",
      "source": [
        "plot_ScatterPlot(Outputs,'Index','Output2')"
      ],
      "metadata": {
        "id": "hb_yVhgczwHx"
      },
      "execution_count": null,
      "outputs": []
    },
    {
      "cell_type": "code",
      "source": [
        "plot_ScatterPlot(Outputs,'Index','Output2')"
      ],
      "metadata": {
        "id": "bJnjNx6qzwqp"
      },
      "execution_count": null,
      "outputs": []
    },
    {
      "cell_type": "code",
      "source": [
        "plot_ScatterPlot(Outputs,'Index','Output3')"
      ],
      "metadata": {
        "id": "ydSawynbzxSB"
      },
      "execution_count": null,
      "outputs": []
    },
    {
      "cell_type": "code",
      "source": [
        "plot_ScatterPlot(Outputs,'Index','Output4')"
      ],
      "metadata": {
        "id": "gcwQngiSzyDJ"
      },
      "execution_count": null,
      "outputs": []
    },
    {
      "cell_type": "markdown",
      "source": [
        "## PCA "
      ],
      "metadata": {
        "id": "J4fz0HrSm_8b"
      }
    },
    {
      "cell_type": "code",
      "source": [
        "#PCA Anaysics\n",
        "\n",
        "#Scaling the input variabes\n",
        "scaler = StandardScaler()\n",
        "scaled_Output_data = scaler.fit_transform(Outputs[['Output1','Output2','Output3','Output4','Output5']])\n",
        "\n",
        "#PCA Anaysics\n",
        "Outputs_PCA,var= PCA_Analysis(scaled_Output_data,5)\n"
      ],
      "metadata": {
        "id": "Kt5mMC080BZQ"
      },
      "execution_count": 16,
      "outputs": []
    },
    {
      "cell_type": "code",
      "source": [
        "#Train model using k=5\n",
        "model = KMeans(n_clusters=5)\n",
        "pred = model.fit_predict(Outputs_PCA[['PC1','PC2','PC3']])\n",
        "Outputs_PCA['cluster'] = pred"
      ],
      "metadata": {
        "id": "e23mM9I10Ef4"
      },
      "execution_count": 18,
      "outputs": []
    },
    {
      "cell_type": "code",
      "source": [
        "#Visualize PCA Clustering\n",
        "fig = px.scatter_3d(\n",
        "   Outputs_PCA, x='PC1', y='PC2', z='PC3', color=Outputs_PCA['cluster'],\n",
        "    title=f'Total Explained Variance: {var:.2f}%',\n",
        "    labels={'0': 'PC 1', '1': 'PC 2', '2': 'PC 3'}\n",
        ")\n",
        "fig.show()"
      ],
      "metadata": {
        "id": "iE52BBQ20GjC"
      },
      "execution_count": null,
      "outputs": []
    }
  ]
}