{
  "nbformat": 4,
  "nbformat_minor": 0,
  "metadata": {
    "colab": {
      "provenance": [],
      "collapsed_sections": [
        "UnFdJmm9rNGi",
        "kVdCVo5DsrFP",
        "sXhHAkf0t6dZ",
        "ds71S0WJuO5P",
        "_0JItGySuwFX",
        "bDlx5V2Swzx-",
        "nQT-lGA9w33G",
        "TbapcBFanLvN",
        "weDhN0NiQxZq",
        "vYAsJa_gRtmi"
      ],
      "authorship_tag": "ABX9TyPr911W3cDHwWFB88pPDb/E",
      "include_colab_link": true
    },
    "kernelspec": {
      "name": "python3",
      "display_name": "Python 3"
    },
    "language_info": {
      "name": "python"
    }
  },
  "cells": [
    {
      "cell_type": "markdown",
      "metadata": {
        "id": "view-in-github",
        "colab_type": "text"
      },
      "source": [
        "<a href=\"https://colab.research.google.com/github/Group-ProjectE17/PCA-Analysics/blob/main/Flex_Robot_Modeling_.ipynb\" target=\"_parent\"><img src=\"https://colab.research.google.com/assets/colab-badge.svg\" alt=\"Open In Colab\"/></a>"
      ]
    },
    {
      "cell_type": "markdown",
      "source": [
        "#Setup"
      ],
      "metadata": {
        "id": "UnFdJmm9rNGi"
      }
    },
    {
      "cell_type": "markdown",
      "source": [
        "##Initilizations"
      ],
      "metadata": {
        "id": "kVdCVo5DsrFP"
      }
    },
    {
      "cell_type": "code",
      "source": [
        "import numpy as np\n",
        "from itertools import combinations\n",
        "from datetime import datetime, timedelta\n",
        "#import datefinder\n",
        "import pandas as pd\n",
        "import string\n",
        "import os\n",
        "import os.path\n",
        "import uuid\n",
        "import random\n",
        "from pprint import pprint\n",
        "import json\n",
        "import csv\n",
        "import plotly.graph_objects as go\n",
        "import plotly.express as px\n",
        "from plotly.subplots import make_subplots\n",
        "from numpy import linalg as lin\n",
        "from sklearn import datasets\n",
        "import sklearn\n",
        "from sklearn.mixture import GaussianMixture\n",
        "import smtplib\n",
        "from sklearn.model_selection import train_test_split\n",
        "import sklearn\n",
        "from sklearn import linear_model\n",
        "from sklearn.decomposition import PCA\n",
        "from sklearn.metrics import r2_score\n",
        "\n",
        "\n",
        "from google.colab import drive\n",
        "drive.mount('/content/drive')"
      ],
      "metadata": {
        "colab": {
          "base_uri": "https://localhost:8080/"
        },
        "id": "3OcQFsaQtFW6",
        "outputId": "23d5d820-f751-4dd4-8857-0798ed31aa99"
      },
      "execution_count": 47,
      "outputs": [
        {
          "output_type": "stream",
          "name": "stdout",
          "text": [
            "Drive already mounted at /content/drive; to attempt to forcibly remount, call drive.mount(\"/content/drive\", force_remount=True).\n"
          ]
        }
      ]
    },
    {
      "cell_type": "markdown",
      "source": [
        "##Function definitions"
      ],
      "metadata": {
        "id": "7eNCjbgpsxN_"
      }
    },
    {
      "cell_type": "markdown",
      "source": [
        "###Data analysis by Dr Maithreepaa"
      ],
      "metadata": {
        "id": "sXhHAkf0t6dZ"
      }
    },
    {
      "cell_type": "code",
      "source": [
        "class mugas_data_analysis:\n",
        "    def principle_component_values(self, modelDF, predictDF, nnPCs):\n",
        "        tempModelDataPDF=modelDF.copy();\n",
        "        tempPredictDataPDF=predictDF.copy();\n",
        "        #nnPCs=min(len(tempModelDataPDF.index.values),len(tempModelDataPDF.columns));\n",
        "        #nnPCs='mle'\n",
        "        pca=sklearn.decomposition.PCA(n_components=nnPCs);\n",
        "        modelnumPCA=pca.fit_transform(tempModelDataPDF);\n",
        "        PCweights=pca.singular_values_;\n",
        "        PCAmodelScore=pca.score(tempModelDataPDF);\n",
        "        PCAmeans=pca.mean_\n",
        "        predictnumPCA=pca.transform(tempPredictDataPDF);\n",
        "        PCApredictScore=pca.score(tempPredictDataPDF);\n",
        "        #scaling=sklearn.preprocessing.StandardScaler().fit(pd.DataFrame(numPCA));\n",
        "        #scaledPCA=scaling.transform(numPCA);\n",
        "        transformer = sklearn.decomposition.FactorAnalysis(n_components=nnPCs); # n_components=nnPCs, random_state=0);\n",
        "        modelsvdFactor = transformer.fit_transform(tempModelDataPDF);\n",
        "        FactorSVDmeans=transformer.mean_\n",
        "        svdFactormodelScore=transformer.score(tempModelDataPDF);\n",
        "        predictsvdFactor = transformer.transform(tempPredictDataPDF);\n",
        "        svdFactorpredictScore=transformer.score(tempPredictDataPDF);\n",
        "    \n",
        "\n",
        "        traceNames=[];\n",
        "        for nn in range(len(PCweights)):\n",
        "            traceNames+=['P'+str(nn)];\n",
        "\n",
        "        mindex=tempModelDataPDF.index.values;\n",
        "        pindex=tempPredictDataPDF.index.values;\n",
        "        #figFactor=self.hist_plot(PPFactor.T,histBinSize, binRange, traceNames,'Distributions of the PC Factors','PC Factors','Frequency')\n",
        "        pcaOutput={'PCAmeans':PCAmeans,'FactorSVDmeans':FactorSVDmeans,'traceNames':traceNames, 'fitScores': {'PCApredictScore':PCApredictScore, 'PCAmodelScore':PCAmodelScore, 'svdFactormodelScore':svdFactormodelScore, 'svdFactorpredictScore':svdFactorpredictScore}, 'PCweights':PCweights, 'modelnumPCA':pd.DataFrame(modelnumPCA,index=mindex),'predictnumPCA':pd.DataFrame(predictnumPCA,index=pindex), 'modelsvdFactor':pd.DataFrame(modelsvdFactor,index=mindex),  'predictsvdFactor':pd.DataFrame(predictsvdFactor,index=pindex)}\n",
        "        return pcaOutput\n",
        "\n",
        "    def gmm_data_model(self, mData, nClusters):\n",
        "        #mData - numeric centered np array of shape (ndata,nfactors)\n",
        "\n",
        "        gmm = sklearn.mixture.GaussianMixture(n_components = nClusters)\n",
        "        gmm.fit(mData)\n",
        "        labels = gmm.predict(mData)\n",
        "        clusterIC=[gmm.aic(mData), gmm.bic(mData)]\n",
        "        print(clusterIC)\n",
        "        fig1=md.scatter_plot3D(mData[:,0],mData[:,1],mData[:,2],labels)\n",
        "\n",
        "        return {'gmm':gmm, 'clusterIC':clusterIC}\n",
        "\n",
        "\n",
        "    def gmm_data_classifier(self, model_DataPDF, predict_DataPDF,nClusters):\n",
        "        modelDataPDF0=model_DataPDF.copy();\n",
        "        predictDataPDF0=predict_DataPDF.copy();\n",
        "        modelData=modelDataPDF0.to_numpy();\n",
        "        predictData=predictDataPDF0.to_numpy();\n",
        "        nPCs=modelData.shape[1]\n",
        "        #print([modelPCA[n].shape,predictPCA[n].shape])\n",
        "        fitGMM=self.gmm_data_model(modelData,nClusters)\n",
        "        gmm=fitGMM['gmm'];\n",
        "\n",
        "        #Plabels=[];\n",
        "        #for nn in range(nPCs):\n",
        "        #    Plabels+=['PF'+str(nn)]\n",
        "\n",
        "        mLabels = gmm.predict(modelData)\n",
        "        #modelFitScore=gmm.score(modelData);\n",
        "        modelDist={'Model Mean':gmm.means_, 'Model Covaraince':gmm.covariances_};\n",
        "        modelSampleFitScore=gmm.score_samples(modelData);\n",
        "        modelDataPDF0['labels']=mLabels\n",
        "        modelDataPDF0['Fit Score']=modelSampleFitScore;\n",
        "\n",
        "        pLabels = gmm.predict(predictData)\n",
        "        #predictFitScore=gmm.score(predictData);\n",
        "        predictProbDist=gmm.predict_proba(predictData);\n",
        "        predictSampleFitScore=gmm.score_samples(predictData);\n",
        "\n",
        "        predictDataPDF0['labels']=pLabels\n",
        "        predictDataPDF0['Fit Score']=predictSampleFitScore;\n",
        "        xx1=[]; yy1=[]; traceNames1=[];\n",
        "        xx2=[]; yy2=[]; traceNames2=[];\n",
        "\n",
        "        for kk in set(modelDataPDF0['labels'].to_list()):\n",
        "            xx1+=[['All Data']];\n",
        "            yy1+=[[len(modelDataPDF0[modelDataPDF0['labels']==kk])]];\n",
        "            yy2+=[[len(predictDataPDF0[predictDataPDF0['labels']==kk])]];\n",
        "            traceNames1+=['GP'+str(kk)]\n",
        "        fig21=self.bar_plot(xx1,yy1,traceNames1,'Model Clusters','','Numbers','stack')\n",
        "        fig31=self.bar_plot(xx1,yy2,traceNames1,'Predicted Clusters','','Numbers','stack')\n",
        "        #print({'modelFitScore':modelFitScore, 'predictFitScore':predictFitScore})\n",
        "        return {'labeled model data':modelDataPDF0, 'labeled predict data':predictDataPDF0,'fitScore':{'modelFitScore':modelSampleFitScore, 'predictFitScore':predictSampleFitScore},'Probability Model':modelDist}\n",
        "\n",
        "    def logistic_reg_data_classifier(self, model_XDataPDF, model_YDataPDF, predict_XDataPDF):\n",
        "        MXDataPDF=model_XDataPDF.copy();\n",
        "        MYDataPDF=model_YDataPDF.copy();\n",
        "        PXDataPDF=predict_XDataPDF.copy();\n",
        "        clf = sklearn.linear_model.LogisticRegression(random_state=0).fit(MXDataPDF.to_numpy(), MYDataPDF.to_numpy());\n",
        "        mLabels = clf.predict(MXDataPDF.to_numpy())\n",
        "        modelDist=clf.predict_proba(MXDataPDF.to_numpy());\n",
        "        modelSampleFitScore=clf.score(MXDataPDF.to_numpy(), MYDataPDF.to_numpy());\n",
        "        MXDataPDF['labels']=mLabels\n",
        "        mLabelTypes=list(set(mLabels));\n",
        "        probLabels=[];\n",
        "        for mlt in mLabelTypes:\n",
        "            probLabels+=['p('+str(mlt)+')']\n",
        "    \n",
        "        MXDataPDF[probLabels]=modelDist;\n",
        "\n",
        "        pLabels = clf.predict(PXDataPDF.to_numpy())\n",
        "        predictDist=clf.predict_proba(PXDataPDF.to_numpy());\n",
        "        pLabelTypes=set(probLabels);\n",
        "        PXDataPDF['labels']=pLabels;\n",
        "        pLabelTypes=list(set(pLabels));\n",
        "        probLabels=[];\n",
        "        for mlt in pLabelTypes:\n",
        "            probLabels+=['p('+str(mlt)+')']\n",
        "\n",
        "        PXDataPDF[probLabels]=predictDist;\n",
        "        \n",
        "        xx1=[]; yy1=[]; traceNames1=[];\n",
        "        xx2=[]; yy2=[]; traceNames2=[];\n",
        "\n",
        "        for kk in set(MXDataPDF['labels'].to_list()):\n",
        "            xx1+=[['All Data']];\n",
        "            yy1+=[[len(MXDataPDF[MXDataPDF['labels']==kk])]];\n",
        "            yy2+=[[len(PXDataPDF[PXDataPDF['labels']==kk])]];\n",
        "            traceNames1+=['GP-'+str(kk)]\n",
        "        fig21=self.bar_plot(xx1,yy1,traceNames1,'Model Clusters','','Numbers','stack')\n",
        "        fig31=self.bar_plot(xx1,yy2,traceNames1,'Predicted Clusters','','Numbers','stack')\n",
        "        \n",
        "        \n",
        "        #print({'modelFitScore':modelFitScore, 'predictFitScore':predictFitScore})\n",
        "        return {'labeled model data':MXDataPDF, 'labeled predict data':PXDataPDF,'Probability Model':{'modelDist':modelDist,'predictDist':predictDist}}\n",
        "\n",
        "\n",
        "    def hist_plot(self, xx, binSize, binRange, traceNames, titleText, xLabel,yLabel):\n",
        "        fig = go.Figure()\n",
        "\n",
        "        for i,x in enumerate(xx):\n",
        "            fig.add_trace(go.Histogram(\n",
        "                x=x,\n",
        "                #histnorm='percent',\n",
        "                #cumulative_enabled=cumulative,\n",
        "                name=traceNames[i], # name used in legend and hover labels\n",
        "                xbins=dict( # bins used for histogram\n",
        "                    start=binRange[0],\n",
        "                    end=binRange[1],\n",
        "                    size=binSize\n",
        "                ),\n",
        "                #marker_color='#EB89B5',\n",
        "                opacity=0.75\n",
        "            ))\n",
        "\n",
        "        fig.update_layout(\n",
        "            title_text=titleText, # title of plot\n",
        "            xaxis_title_text=xLabel, # xaxis label\n",
        "            yaxis_title_text=yLabel, # yaxis label\n",
        "            bargap=0.2, # gap between bars of adjacent location coordinates\n",
        "            bargroupgap=0.1 # gap between bars of the same location coordinates\n",
        "        )\n",
        "\n",
        "        fig.show()\n",
        "        #fig.write_html(\"/content/drive/My Drive/LMS Logs/Course_STATS_upto_May/\"+titleText+\".html\")\n",
        "        return fig\n",
        "\n",
        "    def scatter_plot3D(self,xx,yy,zz,color):\n",
        "        fig = go.Figure(data=[go.Scatter3d(x=xx, y=yy, z=zz, \n",
        "                                    mode='markers',marker=dict(\n",
        "          #size=12,\n",
        "          color=color,                # set color to an array/list of desired values\n",
        "          #colorscale='Viridis',   # choose a colorscale\n",
        "          opacity=0.5\n",
        "        ))])\n",
        "        fig.show()\n",
        "        return fig\n",
        "\n",
        "    def bar_plot(self, xx, yy, traceName, figTitle, xLabel, yLabel, barmode):\n",
        "        fig = go.Figure()\n",
        "        for i,x in enumerate(xx):\n",
        "            fig.add_trace(go.Bar(y=yy[i], x=x, name=traceName[i]))\n",
        "        \n",
        "        \n",
        "        fig.update_layout(\n",
        "            title=figTitle, xaxis_title=xLabel, yaxis_title=yLabel, barmode=barmode\n",
        "            )\n",
        "        fig.show()\n",
        "        return fig   "
      ],
      "metadata": {
        "id": "mEtbz9iFtuG5"
      },
      "execution_count": 20,
      "outputs": []
    },
    {
      "cell_type": "code",
      "source": [
        "md=mugas_data_analysis()"
      ],
      "metadata": {
        "id": "9xOhSfFJuLLY"
      },
      "execution_count": 21,
      "outputs": []
    },
    {
      "cell_type": "markdown",
      "source": [
        "###Other functions"
      ],
      "metadata": {
        "id": "ds71S0WJuO5P"
      }
    },
    {
      "cell_type": "code",
      "source": [
        "\n",
        "\n",
        "def PCA_Analisis(input,output):\n",
        "    pcaOutputData=md.principle_component_values(output,output,len([*output]))\n",
        "    pcaInputData=md.principle_component_values(input,input,len([*input]))\n",
        "    return [ pcaInputData,pcaOutputData]\n",
        "    \n",
        "def PCA_invers(pca_val):\n",
        "    input=pca_val.to_numpy()\n",
        "    pca = PCA(n_components=4)\n",
        "    x_reconstructed  = pca.inverse_transform(input )\n",
        "    return x_reconstructed\n",
        "\n",
        "\n",
        "\n",
        "def reg_fit2_outputs(Xmodel,ymodel):\n",
        "    regr = linear_model.LinearRegression()\n",
        "    yregModel=regr.fit(Xmodel, ymodel)\n",
        "    yregModelpredict=yregModel.predict(Xmodel)\n",
        "    print(yregModel.coef_, 'Intercept: '+str(yregModel.intercept_))\n",
        "    return yregModelpredict\n",
        "\n",
        "def linear_reg_train(Xmodel,ymodel):\n",
        "    regr = linear_model.LinearRegression()\n",
        "    yregModel=regr.fit(Xmodel, ymodel)\n",
        "    return yregModel\n",
        "\n",
        "def liner_reg_predict(Xmodel,yregModel):\n",
        "    yregModelpredict=yregModel.predict(Xmodel)\n",
        "    return yregModelpredict\n",
        "     "
      ],
      "metadata": {
        "id": "fvi_sKIIxgiX"
      },
      "execution_count": 29,
      "outputs": []
    },
    {
      "cell_type": "markdown",
      "source": [
        "#Import data And Preprossesing"
      ],
      "metadata": {
        "id": "_0JItGySuwFX"
      }
    },
    {
      "cell_type": "markdown",
      "source": [
        "##Import Data"
      ],
      "metadata": {
        "id": "bDlx5V2Swzx-"
      }
    },
    {
      "cell_type": "code",
      "source": [
        "csvFilePath='/content/drive/My Drive/Project_3rd_year/Data/{}'\n",
        "columns=['Input1','Input2','Input3','Input4','Output1','Output2','Output3','Output4','Output5']\n",
        "axial_data_frame=pd.read_csv(csvFilePath.format('UnitCell_Axial_Data_Complete.csv'),header=None)\n",
        "axial_data_frame.columns=columns\n",
        "bending_data_frame=pd.read_csv(csvFilePath.format('UnitCell_Bending_Data_Complete.csv'),header=None)\n",
        "bending_data_frame.columns=columns\n",
        "twisting_data_frame=pd.read_csv(csvFilePath.format('UnitCell_Twist_Data_Complete.csv'),header=None)\n",
        "twisting_data_frame.columns=columns"
      ],
      "metadata": {
        "id": "F8KGx1aGvDjn"
      },
      "execution_count": 23,
      "outputs": []
    },
    {
      "cell_type": "markdown",
      "source": [
        "##Data Split"
      ],
      "metadata": {
        "id": "nQT-lGA9w33G"
      }
    },
    {
      "cell_type": "code",
      "source": [
        "#For Axial data\n",
        "axial_data_model,axial_data_test=train_test_split(axial_data_frame,test_size=0.2)\n",
        "#For Bending data\n",
        "bending_data_model,bending_data_test=train_test_split(bending_data_frame,test_size=0.2)\n",
        "#For Twist data\n",
        "twisting_data_model,twisting_data_test=train_test_split(twisting_data_frame,test_size=0.2)\n"
      ],
      "metadata": {
        "id": "wMeU7X7PxoDv"
      },
      "execution_count": 151,
      "outputs": []
    },
    {
      "cell_type": "markdown",
      "source": [
        "#Axial Data"
      ],
      "metadata": {
        "id": "c1rG6imJ1FgX"
      }
    },
    {
      "cell_type": "markdown",
      "source": [
        "##PCA_transform"
      ],
      "metadata": {
        "id": "VM6KHHX2nFXF"
      }
    },
    {
      "cell_type": "code",
      "source": [
        "factorType='modelnumPCA' #'modelsvdFactor' #'modelsvdFactor' [axial_data_frame['Input1']==-0.2]\n",
        "inputs=axial_data_model[['Input1','Input2','Input3','Input4']]\n",
        "outputs=axial_data_model[['Output2','Output3','Output4','Output5']]\n",
        "[ pcaInputData,pcaOutputData]=PCA_Analisis(inputs,outputs)\n"
      ],
      "metadata": {
        "id": "5ihrxuiM1NhX"
      },
      "execution_count": 152,
      "outputs": []
    },
    {
      "cell_type": "markdown",
      "source": [
        "###Plots"
      ],
      "metadata": {
        "id": "TbapcBFanLvN"
      }
    },
    {
      "cell_type": "code",
      "source": [
        "figOutputPCA=md.hist_plot(pcaOutputData[factorType].to_numpy().T,0.5,[-100,100],pcaOutputData['traceNames'],'Distributions of the Output PCA','PCAs','Frequency')\n",
        "figInputPCA=md.hist_plot(pcaInputData[factorType].to_numpy().T,0.0005,[-100,100],pcaInputData['traceNames'],'Distributions of the Input PCA','PCAs','Frequency')"
      ],
      "metadata": {
        "id": "iQyLlfVFm8YV"
      },
      "execution_count": null,
      "outputs": []
    },
    {
      "cell_type": "code",
      "source": [
        "ydata=pcaOutputData[factorType]\n",
        "fig=go.Figure()\n",
        "fig.add_trace(go.Scatter3d(x=ydata[0].to_list(),y=ydata[2].to_list(),z=ydata[3].to_list(),mode='markers',marker={'size':2}))"
      ],
      "metadata": {
        "id": "wtU0p99n8MwN"
      },
      "execution_count": null,
      "outputs": []
    },
    {
      "cell_type": "code",
      "source": [
        "xdata=pcaInputData[factorType]\n",
        "fig=go.Figure()\n",
        "fig.add_trace(go.Scatter3d(x=xdata[3].to_list(),y=xdata[1].to_list(),z=xdata[2].to_list(),mode='markers',marker={'size':2}))"
      ],
      "metadata": {
        "id": "EQ0jr-o-CdnV"
      },
      "execution_count": null,
      "outputs": []
    },
    {
      "cell_type": "code",
      "source": [
        "ydata=pcaOutputData[factorType]\n",
        "xdata=pcaInputData[factorType]\n",
        "fig=go.Figure()\n",
        "fig.add_trace(go.Scatter3d(x=xdata[0].to_list(),y=xdata[1].to_list(),z=ydata[0].to_list(),mode='markers',marker={'size':2}))"
      ],
      "metadata": {
        "id": "IYXjnx7uC1c2"
      },
      "execution_count": null,
      "outputs": []
    },
    {
      "cell_type": "markdown",
      "source": [
        "##Modeing"
      ],
      "metadata": {
        "id": "yfNd636AGk0j"
      }
    },
    {
      "cell_type": "code",
      "source": [
        "Xmodel=pcaInputData[factorType][[0,1,2,3]]\n",
        "ymodel=pcaOutputData[factorType][[0,1,2]]\n",
        "liner_reg_model=linear_reg_train(Xmodel,ymodel)\n",
        "\n",
        "\n"
      ],
      "metadata": {
        "id": "vK1F9580GpJe"
      },
      "execution_count": null,
      "outputs": []
    },
    {
      "cell_type": "code",
      "source": [
        "predict_output=liner_reg_predict(Xmodel,liner_reg_model)\n",
        "\n",
        "\n"
      ],
      "metadata": {
        "id": "WDt0utaoLmqA"
      },
      "execution_count": 154,
      "outputs": []
    },
    {
      "cell_type": "code",
      "source": [
        "fig=go.Figure()\n",
        "fig.add_trace(go.Scatter3d(x=Xmodel[2].to_list(),y=Xmodel[1].to_list(),z=ymodel[1].to_list(),mode='markers',marker={'size':2}))\n",
        "fig.add_trace(go.Scatter3d(x=Xmodel[2].to_list(),y=Xmodel[1].to_list(),z=predict_output[:,1],mode='markers',marker={'size':2}))\n",
        "fig.show()"
      ],
      "metadata": {
        "id": "8W6YDGS3H1Vi"
      },
      "execution_count": null,
      "outputs": []
    },
    {
      "cell_type": "markdown",
      "source": [
        "##Inverse_PCA"
      ],
      "metadata": {
        "id": "Tzefss0rnQxt"
      }
    },
    {
      "cell_type": "code",
      "source": [
        "pca = PCA(n_components=3)\n",
        "x_new = pca.fit_transform(ymodel)\n",
        "x_reconstructed  = pca.inverse_transform(predict_output)\n"
      ],
      "metadata": {
        "id": "3NrHRIXPnphV"
      },
      "execution_count": 156,
      "outputs": []
    },
    {
      "cell_type": "markdown",
      "source": [
        "##Evaluation"
      ],
      "metadata": {
        "id": "TcqlSASepCdN"
      }
    },
    {
      "cell_type": "code",
      "source": [
        "y_true =ymodel\n",
        "y_pred=x_reconstructed\n",
        "r2_score(y_true, y_pred)\n"
      ],
      "metadata": {
        "colab": {
          "base_uri": "https://localhost:8080/"
        },
        "id": "cx9ErglNN--f",
        "outputId": "98937436-4bf0-4fda-cb28-4ff78361f3a2"
      },
      "execution_count": 157,
      "outputs": [
        {
          "output_type": "execute_result",
          "data": {
            "text/plain": [
              "0.9987514086908161"
            ]
          },
          "metadata": {},
          "execution_count": 157
        }
      ]
    },
    {
      "cell_type": "markdown",
      "source": [
        "##Testing ( for test data)"
      ],
      "metadata": {
        "id": "zvNRfUerVO0P"
      }
    },
    {
      "cell_type": "code",
      "source": [
        "factorType='modelnumPCA' #'modelsvdFactor' #'modelsvdFactor' [axial_data_frame['Input1']==-0.2]\n",
        "inputs_test=axial_data_test[['Input1','Input2','Input3','Input4']]\n",
        "outputs_test=axial_data_test[['Output2','Output3','Output4','Output5']]\n",
        "[ pcaInputData_test,pcaOutputData_test]=PCA_Analisis(inputs_test,outputs_test)\n",
        "\n",
        "Xmodel_test=pcaInputData_test[factorType][[0,1,2,3]]\n",
        "ymodel_test=pcaOutputData_test[factorType][[0,1,2]]\n",
        "\n",
        "#liner_reg_model=linear_reg_train(Xmodel_test,ymodel_test)\n",
        "\n",
        "predict_output_test=liner_reg_predict(Xmodel_test,liner_reg_model)\n",
        "\n",
        "pca_test = PCA(n_components=3)\n",
        "x_new = pca_test.fit_transform(ymodel_test)\n",
        "x_reconstructed_test  = pca.inverse_transform(predict_output_test)\n",
        "\n",
        "y_true =ymodel_test\n",
        "y_pred=x_reconstructed_test\n",
        "r2_score(y_true, y_pred)\n",
        "\n",
        " \n"
      ],
      "metadata": {
        "colab": {
          "base_uri": "https://localhost:8080/"
        },
        "id": "LOHFof5xVR3e",
        "outputId": "dfee1c9a-073a-4ab7-f9b3-1a709113baa0"
      },
      "execution_count": 159,
      "outputs": [
        {
          "output_type": "execute_result",
          "data": {
            "text/plain": [
              "0.9986875742364129"
            ]
          },
          "metadata": {},
          "execution_count": 159
        }
      ]
    },
    {
      "cell_type": "markdown",
      "source": [
        "#Bending data"
      ],
      "metadata": {
        "id": "weDhN0NiQxZq"
      }
    },
    {
      "cell_type": "code",
      "source": [
        "factorType='modelnumPCA' #'modelsvdFactor' #'modelsvdFactor' [axial_data_frame['Input1']==-0.2]\n",
        "\n",
        "inputs=twisting_data_model[['Input1','Input2','Input3','Input4']]\n",
        "outputs=twisting_data_model[['Output2','Output3','Output4','Output5']]\n",
        "\n",
        "[pcaInputData,pcaOutputData]=PCA_Analisis(inputs,outputs)\n",
        "figOutputPCA=md.hist_plot(pcaOutputData[factorType].to_numpy().T,0.5,[-100,100],pcaOutputData['traceNames'],'Distributions of the Output PCA','PCAs','Frequency')\n",
        "figInputPCA=md.hist_plot(pcaInputData[factorType].to_numpy().T,0.0005,[-100,100],pcaInputData['traceNames'],'Distributions of the Input PCA','PCAs','Frequency')"
      ],
      "metadata": {
        "id": "Tpc6zcAnQ2sK"
      },
      "execution_count": null,
      "outputs": []
    },
    {
      "cell_type": "code",
      "source": [
        "ydata=pcaOutputData[factorType]\n",
        "fig=go.Figure()\n",
        "fig.add_trace(go.Scatter3d(x=ydata[0].to_list(),y=ydata[1].to_list(),z=ydata[2].to_list(),mode='markers',marker={'size':2}))"
      ],
      "metadata": {
        "id": "SE6nuWbMQ-56"
      },
      "execution_count": null,
      "outputs": []
    },
    {
      "cell_type": "code",
      "source": [
        "xdata=pcaInputData[factorType]\n",
        "fig=go.Figure()\n",
        "fig.add_trace(go.Scatter3d(x=xdata[3].to_list(),y=xdata[1].to_list(),z=xdata[2].to_list(),mode='markers',marker={'size':2}))"
      ],
      "metadata": {
        "id": "MhpJ77DNRBAx"
      },
      "execution_count": null,
      "outputs": []
    },
    {
      "cell_type": "code",
      "source": [
        "ydata=pcaOutputData[factorType]\n",
        "xdata=pcaInputData[factorType]\n",
        "fig=go.Figure()\n",
        "fig.add_trace(go.Scatter3d(x=xdata[0].to_list(),y=xdata[1].to_list(),z=ydata[0].to_list(),mode='markers',marker={'size':2}))"
      ],
      "metadata": {
        "id": "nPNHZzNnRDcR"
      },
      "execution_count": null,
      "outputs": []
    },
    {
      "cell_type": "markdown",
      "source": [
        "##Modeling"
      ],
      "metadata": {
        "id": "SyOxovZ2RdoS"
      }
    },
    {
      "cell_type": "code",
      "source": [
        "Xmodel=pcaInputData[factorType][[0,1,2,3]]\n",
        "for nn in [0,1,2,3]:\n",
        "    y_n_model=pcaOutputData[factorType][nn]\n",
        "    yregModelpredict=reg_fit2_outputs(Xmodel,y_n_model)\n",
        "    fig=go.Figure()\n",
        "    fig.add_trace(go.Scatter3d(x=Xmodel[2].to_list(),y=Xmodel[1].to_list(),z=y_n_model.to_list(),mode='markers',marker={'size':2}))\n",
        "    fig.add_trace(go.Scatter3d(x=Xmodel[2].to_list(),y=Xmodel[1].to_list(),z=yregModelpredict,mode='markers',marker={'size':2}))\n",
        "    fig.show()"
      ],
      "metadata": {
        "id": "mwO74EuJRgPJ"
      },
      "execution_count": null,
      "outputs": []
    },
    {
      "cell_type": "markdown",
      "source": [
        "#Twisting Data"
      ],
      "metadata": {
        "id": "vYAsJa_gRtmi"
      }
    },
    {
      "cell_type": "code",
      "source": [
        "factorType='modelnumPCA' #'modelsvdFactor' #'modelsvdFactor' [axial_data_frame['Input1']==-0.2]\n",
        "\n",
        "inputs=bending_data_model[['Input1','Input2','Input3','Input4']]\n",
        "outputs=bending_data_model[['Output2','Output3','Output4','Output5']]\n",
        "[ pcaInputData,pcaOutputData]=PCA_Analisis(inputs,outputs)\n",
        "figOutputPCA=md.hist_plot(pcaOutputData[factorType].to_numpy().T,0.5,[-100,100],pcaOutputData['traceNames'],'Distributions of the Output PCA','PCAs','Frequency')\n",
        "figInputPCA=md.hist_plot(pcaInputData[factorType].to_numpy().T,0.0005,[-100,100],pcaInputData['traceNames'],'Distributions of the Input PCA','PCAs','Frequency')"
      ],
      "metadata": {
        "id": "LtKD25KAR1nx"
      },
      "execution_count": null,
      "outputs": []
    },
    {
      "cell_type": "code",
      "source": [
        "ydata=pcaOutputData[factorType]\n",
        "fig=go.Figure()\n",
        "fig.add_trace(go.Scatter3d(x=ydata[0].to_list(),y=ydata[2].to_list(),z=ydata[3].to_list(),mode='markers',marker={'size':2}))"
      ],
      "metadata": {
        "id": "jv0fkCYfR2Pp"
      },
      "execution_count": null,
      "outputs": []
    },
    {
      "cell_type": "code",
      "source": [
        "xdata=pcaInputData[factorType]\n",
        "fig=go.Figure()\n",
        "fig.add_trace(go.Scatter3d(x=xdata[3].to_list(),y=xdata[1].to_list(),z=xdata[2].to_list(),mode='markers',marker={'size':2}))"
      ],
      "metadata": {
        "id": "JwY9ZNJHR2r8"
      },
      "execution_count": null,
      "outputs": []
    },
    {
      "cell_type": "code",
      "source": [
        "ydata=pcaOutputData[factorType]\n",
        "xdata=pcaInputData[factorType]\n",
        "fig=go.Figure()\n",
        "fig.add_trace(go.Scatter3d(x=xdata[0].to_list(),y=xdata[1].to_list(),z=ydata[0].to_list(),mode='markers',marker={'size':2}))"
      ],
      "metadata": {
        "id": "xmLJuQZMR3Fi"
      },
      "execution_count": null,
      "outputs": []
    },
    {
      "cell_type": "markdown",
      "source": [
        "##Modeling"
      ],
      "metadata": {
        "id": "6fuobK_cSAIq"
      }
    },
    {
      "cell_type": "code",
      "source": [
        "Xmodel=pcaInputData[factorType][[0,1,2,3]]\n",
        "for nn in [0,1,2,3]:\n",
        "    y_n_model=pcaOutputData[factorType][nn]\n",
        "    yregModelpredict=reg_fit2_outputs(Xmodel,y_n_model)\n",
        "    fig=go.Figure()\n",
        "    fig.add_trace(go.Scatter3d(x=Xmodel[2].to_list(),y=Xmodel[1].to_list(),z=y_n_model.to_list(),mode='markers',marker={'size':2}))\n",
        "    fig.add_trace(go.Scatter3d(x=Xmodel[2].to_list(),y=Xmodel[1].to_list(),z=yregModelpredict,mode='markers',marker={'size':2}))\n",
        "    fig.show()"
      ],
      "metadata": {
        "id": "fDpmuRKESCWJ"
      },
      "execution_count": null,
      "outputs": []
    }
  ]
}